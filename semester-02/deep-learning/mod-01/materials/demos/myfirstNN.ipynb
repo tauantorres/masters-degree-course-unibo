{
  "nbformat": 4,
  "nbformat_minor": 0,
  "metadata": {
    "colab": {
      "name": "myfirstNN.ipynb",
      "provenance": [],
      "collapsed_sections": []
    },
    "kernelspec": {
      "name": "python2",
      "display_name": "Python 2"
    },
    "accelerator": "GPU"
  },
  "cells": [
    {
      "cell_type": "markdown",
      "metadata": {
        "id": "xArtrwzJ8NyN"
      },
      "source": [
        "This is a very simple example of neural network. Its purpose is to approximate an unknown single valued function using a dense deep network. \n",
        "The user is invited to play with it, modifying:\n",
        "1. the hidden function\n",
        "2. the number of layers and neurons per layer\n",
        "3. activation functions, number of epochs, and so on."
      ]
    },
    {
      "cell_type": "code",
      "metadata": {
        "id": "2oAc-WyJ6bsl",
        "colab": {
          "base_uri": "https://localhost:8080/"
        },
        "outputId": "ff5981c6-3409-4e44-c126-3a69f7e54ded"
      },
      "source": [
        "from keras.layers import Input, Dense\n",
        "from keras.models import Model\n",
        "import numpy as np\n",
        "import matplotlib.pyplot as plt"
      ],
      "execution_count": null,
      "outputs": [
        {
          "output_type": "stream",
          "text": [
            "Using TensorFlow backend.\n"
          ],
          "name": "stderr"
        }
      ]
    },
    {
      "cell_type": "markdown",
      "metadata": {
        "id": "XKTYzmUP9vB-"
      },
      "source": [
        "\"myhiddenfunction\" is the definition of the function you want to approximate by means of a neural network (NN). The definition is hidden to the NN, who can only access it as a blackbox, to get training samples. \n",
        "This is implemented by means of a generator (a special kind of function), taking in input a number (batchsize) and returning a pair of input output vectors of length batchsize. Each input is a random number in the interval [-pi,pi] and the output is computed by means of myhiddenfunction."
      ]
    },
    {
      "cell_type": "code",
      "metadata": {
        "id": "Xf4J4vaG7i1d"
      },
      "source": [
        "def myhiddenfunction(x):\n",
        "  #define your favourite function\n",
        "  #output in range 0-1 if last activation is a sigmoid!\n",
        "  return (np.sin(x)**2 + np.cos(x)/3 + 1)/3\n",
        "  \n",
        "def generator(batchsize):\n",
        "    while True:\n",
        "      inputs = np.random.uniform(low=-np.pi,high=np.pi,size=batchsize)\n",
        "      outputs = np.zeros(batchsize)\n",
        "      for i in range(0,batchsize):\n",
        "          outputs[i] = myhiddenfunction(inputs[i])\n",
        "      yield (inputs,outputs)"
      ],
      "execution_count": null,
      "outputs": []
    },
    {
      "cell_type": "markdown",
      "metadata": {
        "id": "IOhXjNKJAhbH"
      },
      "source": [
        "If you want to see an example of a generated batch, you need to invoke next on the generator"
      ]
    },
    {
      "cell_type": "code",
      "metadata": {
        "id": "_R6lAy5BBCoe",
        "colab": {
          "base_uri": "https://localhost:8080/"
        },
        "outputId": "4471f516-f8b7-42eb-f025-6bb52e8a133f"
      },
      "source": [
        "print(next(generator(5)))"
      ],
      "execution_count": null,
      "outputs": [
        {
          "output_type": "stream",
          "text": [
            "(array([-3.11525052, -1.89522622,  0.89718569, -3.09621049, -1.65330089]), array([0.22249202, 0.59737684, 0.6062653 , 0.22302266, 0.65524603]))\n"
          ],
          "name": "stdout"
        }
      ]
    },
    {
      "cell_type": "markdown",
      "metadata": {
        "id": "RzW03FAiBicW"
      },
      "source": [
        "Now we define the network. The function we want to approximate is single valued, so the network will have a single input and a single output, and its (dense) structure is completely defined by a \n",
        "list specifying the number of neurons per layer\n"
      ]
    },
    {
      "cell_type": "code",
      "metadata": {
        "id": "A6tBLePz9ZF0"
      },
      "source": [
        "input_layer = Input(shape=(1,))\n",
        "x = Dense(20, activation='relu')(input_layer)\n",
        "x = Dense(30, activation='relu')(x)\n",
        "x = Dense(20, activation='relu')(x)\n",
        "output_layer = Dense(1,activation='relu')(x)\n",
        "\n",
        "mymodel = Model(input_layer,output_layer)"
      ],
      "execution_count": null,
      "outputs": []
    },
    {
      "cell_type": "markdown",
      "metadata": {
        "id": "6lHWJ3ddW-7d"
      },
      "source": [
        "Here is an alternative, more modular definition of the same network."
      ]
    },
    {
      "cell_type": "code",
      "metadata": {
        "id": "yk8gF-HzDayv"
      },
      "source": [
        "# size of hidden layers (one for each of them)\n",
        "inner_layers_dims = [20,30,20]\n",
        "\n",
        "input_layer = Input(shape=(1,))\n",
        "x = input_layer\n",
        "for i in range(0,len(inner_layers_dims)):\n",
        "  x = Dense(inner_layers_dims[i], activation='relu')(x)\n",
        "output_layer = Dense(1, activation='relu')(x)\n",
        "\n",
        "mymodel1 = Model(input_layer,output_layer)"
      ],
      "execution_count": null,
      "outputs": []
    },
    {
      "cell_type": "markdown",
      "metadata": {
        "id": "sruNt7tJD_uW"
      },
      "source": [
        "We can now have a look at the model we just generated:"
      ]
    },
    {
      "cell_type": "code",
      "metadata": {
        "id": "vycSPvkZEJ2Q",
        "colab": {
          "base_uri": "https://localhost:8080/"
        },
        "outputId": "c6a61b5c-0b7c-4360-ff49-8b7d55f24f94"
      },
      "source": [
        "mymodel.summary()"
      ],
      "execution_count": null,
      "outputs": [
        {
          "output_type": "stream",
          "text": [
            "Model: \"model_1\"\n",
            "_________________________________________________________________\n",
            "Layer (type)                 Output Shape              Param #   \n",
            "=================================================================\n",
            "input_1 (InputLayer)         (None, 1)                 0         \n",
            "_________________________________________________________________\n",
            "dense_1 (Dense)              (None, 20)                40        \n",
            "_________________________________________________________________\n",
            "dense_2 (Dense)              (None, 30)                630       \n",
            "_________________________________________________________________\n",
            "dense_3 (Dense)              (None, 20)                620       \n",
            "_________________________________________________________________\n",
            "dense_4 (Dense)              (None, 1)                 21        \n",
            "=================================================================\n",
            "Total params: 1,311\n",
            "Trainable params: 1,311\n",
            "Non-trainable params: 0\n",
            "_________________________________________________________________\n"
          ],
          "name": "stdout"
        }
      ]
    },
    {
      "cell_type": "markdown",
      "metadata": {
        "id": "gXRWtOJsEPj-"
      },
      "source": [
        "Try to be sure you correctly understand the number of learning parameters for each layer. \n",
        "For a dense layer with n input neurons and m output neurons, your have nxm weights + m biases.\n",
        "For instance, for a 20-to-30 layer, we have 20x30+30 = 630 parameters."
      ]
    },
    {
      "cell_type": "markdown",
      "metadata": {
        "id": "qIuE_GgiGBS7"
      },
      "source": [
        "We are finally ready to compile our model and train it.\n",
        "As loss function we use mean square error (mse). \n",
        "The \"optimizer\" is the technique used to tune the learning rate during backpropagation: you may ignore it for the moment."
      ]
    },
    {
      "cell_type": "code",
      "metadata": {
        "id": "0wVDNBzS3066"
      },
      "source": [
        "mymodel.compile(optimizer='adam', loss='mse')"
      ],
      "execution_count": null,
      "outputs": []
    },
    {
      "cell_type": "code",
      "metadata": {
        "id": "gfjFQg6QFy8O",
        "colab": {
          "base_uri": "https://localhost:8080/"
        },
        "outputId": "7d6c4c8b-1e13-4ab9-b57d-ede1fdc5eb52"
      },
      "source": [
        "batchsize = 64\n",
        "\n",
        "mymodel.fit_generator(generator(batchsize), steps_per_epoch=1000, epochs=10)"
      ],
      "execution_count": null,
      "outputs": [
        {
          "output_type": "stream",
          "text": [
            "Epoch 1/10\n",
            "1000/1000 [==============================] - 5s 5ms/step - loss: 0.0054\n",
            "Epoch 2/10\n",
            "1000/1000 [==============================] - 3s 3ms/step - loss: 6.5715e-05\n",
            "Epoch 3/10\n",
            "1000/1000 [==============================] - 3s 3ms/step - loss: 5.3674e-05\n",
            "Epoch 4/10\n",
            "1000/1000 [==============================] - 3s 3ms/step - loss: 3.0158e-05\n",
            "Epoch 5/10\n",
            "1000/1000 [==============================] - 3s 3ms/step - loss: 2.4273e-05\n",
            "Epoch 6/10\n",
            "1000/1000 [==============================] - 3s 3ms/step - loss: 1.2958e-05\n",
            "Epoch 7/10\n",
            "1000/1000 [==============================] - 3s 3ms/step - loss: 1.6561e-05\n",
            "Epoch 8/10\n",
            "1000/1000 [==============================] - 3s 3ms/step - loss: 8.8676e-06\n",
            "Epoch 9/10\n",
            "1000/1000 [==============================] - 3s 3ms/step - loss: 1.1508e-05\n",
            "Epoch 10/10\n",
            "1000/1000 [==============================] - 3s 3ms/step - loss: 7.7304e-06\n"
          ],
          "name": "stdout"
        },
        {
          "output_type": "execute_result",
          "data": {
            "text/plain": [
              "<keras.callbacks.callbacks.History at 0x7f72200a8a50>"
            ]
          },
          "metadata": {
            "tags": []
          },
          "execution_count": 12
        }
      ]
    },
    {
      "cell_type": "markdown",
      "metadata": {
        "id": "gQJx-p0zHxWl"
      },
      "source": [
        "If everything is working correctly, the loss should decrease during training.  \n",
        "If it doesn't, it means that, for some reason, the network is not learning.\n",
        "\n",
        "We are finally ready to check the result of the approximation. We plot the hidden function in red, \n",
        "and the approximation computed by the network in blu."
      ]
    },
    {
      "cell_type": "code",
      "metadata": {
        "id": "LquGdgn0INmX",
        "colab": {
          "base_uri": "https://localhost:8080/",
          "height": 269
        },
        "outputId": "d6d015aa-5846-40dc-dac0-e9a349b00dcf"
      },
      "source": [
        "x = np.arange(-np.pi,np.pi,0.05)\n",
        "y = [myhiddenfunction(a) for a in x]\n",
        "z = [z[0] for z in mymodel.predict(np.array(x))]\n",
        "plt.plot(x,y,'r',x,z,'b')\n",
        "plt.show()\n"
      ],
      "execution_count": null,
      "outputs": [
        {
          "output_type": "display_data",
          "data": {
            "image/png": "[encoded data removed]",
            "text/plain": [
              "<Figure size 432x288 with 1 Axes>"
            ]
          },
          "metadata": {
            "tags": [],
            "needs_background": "light"
          }
        }
      ]
    },
    {
      "cell_type": "markdown",
      "metadata": {
        "id": "2DOwrXfyI45P"
      },
      "source": [
        "Now is your turn. Modify:\n",
        "\n",
        "1. the definition of the hidden function\n",
        "2. the number of layers/neurons per layer; you just have to change inner_layers_dims in block 6.\n",
        "\n",
        "Have fun."
      ]
    }
  ]
}