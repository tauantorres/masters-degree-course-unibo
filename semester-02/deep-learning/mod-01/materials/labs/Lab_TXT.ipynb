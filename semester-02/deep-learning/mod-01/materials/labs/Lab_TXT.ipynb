{
 "cells": [
  {
   "cell_type": "markdown",
   "id": "8ca4ef59-9645-433c-a575-dd28fe6f288f",
   "metadata": {},
   "source": [
    "# Text and Transformers lab\n",
    "In this lecture: a bit of text processing, loading text in keras, classification with 1DConvnet & transformers"
   ]
  },
  {
   "cell_type": "markdown",
   "id": "98352700-91cd-4ffb-b433-378aebb53292",
   "metadata": {},
   "source": [
    "Let's start by reviewing a bit of text processing"
   ]
  },
  {
   "cell_type": "markdown",
   "id": "e1c221a1-f6d6-46d0-a750-79cae2b5cdcd",
   "metadata": {},
   "source": [
    "Unlike Images, Text has quite a few criticalities. Just to name a few:\n",
    "\n",
    "- High Dimensionality: Text data, especially when tokenized into individual words or n-grams, can lead to a very high-dimensional feature space. This can make models computationally expensive and increase the risk of overfitting.\n",
    "\n",
    "- Sparsity: Most text documents will only contain a tiny fraction of the words in a language, resulting in many zeros in the feature representation. This sparsity can make certain modeling techniques inefficient or infeasible.\n",
    "\n",
    "- Ambiguity and Polysemy: Many words in languages have multiple meanings based on context. For example, the word \"bank\" can mean the side of a river or a financial institution.\n",
    "\n",
    "- Synonymy: Different words can have similar meanings, like \"big\" and \"large\". This poses a challenge in identifying the true intent or sentiment behind texts.\n",
    "\n",
    "- Complex Dependencies: The meaning of a word can depend on its surrounding words, or even words much earlier in a text. Capturing long-term dependencies can be challenging.\n",
    "\n",
    "- Noisy Data: Text data, especially from sources like social media, can be noisy. They may contain typos, slang, non-standard grammar, or emoticons.\n",
    "\n",
    "- Handling of Out-of-Vocabulary (OOV) Words: In real-world applications, it's common to encounter words not seen during training. Handling OOV words is challenging.\n",
    "\n",
    "- Cultural and Temporal Dynamics: The way language is used can change based on cultural or temporal contexts, making it hard to generalize models across different cultures or time periods.\n",
    "\n",
    "- Multilingual Challenges: Building models that work across multiple languages or even dialects can be challenging, especially when resources for certain languages are scarce."
   ]
  },
  {
   "cell_type": "markdown",
   "id": "b47407cd-5081-4cdc-b5d9-c033c98c4497",
   "metadata": {},
   "source": [
    "### some examples of regex"
   ]
  },
  {
   "cell_type": "code",
   "execution_count": 3,
   "id": "db3c48e7-07ef-4d86-adb1-0607eb9108c2",
   "metadata": {},
   "outputs": [
    {
     "name": "stdout",
     "output_type": "stream",
     "text": [
      "Found: World\n"
     ]
    }
   ],
   "source": [
    "import re\n",
    "text = \"Hello, World!\"\n",
    "match = re.search(\"World\", text)\n",
    "if match:\n",
    "    print(\"Found:\", match.group())"
   ]
  },
  {
   "cell_type": "code",
   "execution_count": 4,
   "id": "54f5584d-1bf9-49c3-b534-14843a256242",
   "metadata": {},
   "outputs": [
    {
     "name": "stdout",
     "output_type": "stream",
     "text": [
      "Found: Free\n"
     ]
    }
   ],
   "source": [
    "text = \"I am Free.\"\n",
    "match = re.search(\"[FT]ree\", text)\n",
    "if match:\n",
    "    print(\"Found:\", match.group())"
   ]
  },
  {
   "cell_type": "code",
   "execution_count": 5,
   "id": "3deeef33-e1b9-4e65-9a50-e88733c0f58d",
   "metadata": {},
   "outputs": [
    {
     "name": "stdout",
     "output_type": "stream",
     "text": [
      "Found: 12345\n"
     ]
    }
   ],
   "source": [
    "text = \"Order number: 12345\"\n",
    "match = re.search(\"\\d+\", text)  # + indicates one or more\n",
    "if match:\n",
    "    print(\"Found:\", match.group())"
   ]
  },
  {
   "cell_type": "code",
   "execution_count": 6,
   "id": "1df4574b-037a-463f-b15c-d172e41a87b4",
   "metadata": {},
   "outputs": [
    {
     "name": "stdout",
     "output_type": "stream",
     "text": [
      "Starts with 'Hello'\n",
      "Ends with 'Hello'\n"
     ]
    }
   ],
   "source": [
    "text = \"Hello\"\n",
    "if re.match(\"^Hello\", text):  # ^ matches the start\n",
    "    print(\"Starts with 'Hello'\")\n",
    "if re.search(\"Hello$\", text):  # $ matches the end\n",
    "    print(\"Ends with 'Hello'\")"
   ]
  },
  {
   "cell_type": "code",
   "execution_count": 7,
   "id": "30166c73-2b96-4036-835e-625b3ddab920",
   "metadata": {},
   "outputs": [
    {
     "name": "stdout",
     "output_type": "stream",
     "text": [
      "['apple', 'banana', 'orange']\n"
     ]
    }
   ],
   "source": [
    "text = \"apple,banana,orange\"\n",
    "fruits = re.split(\",\", text)\n",
    "print(fruits)  # ['apple', 'banana', 'orange']"
   ]
  },
  {
   "cell_type": "code",
   "execution_count": 8,
   "id": "e86d1c62-1939-4ede-a1d8-251de6eabcc0",
   "metadata": {},
   "outputs": [
    {
     "name": "stdout",
     "output_type": "stream",
     "text": [
      "Found: HELLO\n"
     ]
    }
   ],
   "source": [
    "text = \"HELLO\"\n",
    "match = re.search(\"hello\", text, re.IGNORECASE)\n",
    "if match:\n",
    "    print(\"Found:\", match.group())"
   ]
  },
  {
   "cell_type": "code",
   "execution_count": 9,
   "id": "722231d8-f97e-460c-a10e-c28f00e96735",
   "metadata": {},
   "outputs": [
    {
     "name": "stdout",
     "output_type": "stream",
     "text": [
      "Found email: fabio.merizzi@unibo.it\n"
     ]
    }
   ],
   "source": [
    "text = \"this is my email fabio.merizzi@unibo.it\"\n",
    "match = re.search(\"[a-zA-Z0-9._%+-]+@[a-zA-Z0-9.-]+\\.[a-zA-Z]{2,4}\", text)\n",
    "if match:\n",
    "    print(\"Found email:\", match.group())"
   ]
  },
  {
   "cell_type": "markdown",
   "id": "866d76b4-22d6-47a5-ac06-fa2ed861880a",
   "metadata": {},
   "source": [
    "### Some basic ideas about text preprocessing\n",
    "Reducing the high dimensionality of text"
   ]
  },
  {
   "cell_type": "markdown",
   "id": "6d46e282-c2a7-446e-a428-2fe79d4ea287",
   "metadata": {},
   "source": [
    "A simple idea is to lowercase every word, casing has little meaning"
   ]
  },
  {
   "cell_type": "code",
   "execution_count": 10,
   "id": "e97425cf-5bba-47e2-852d-88f588eabfaf",
   "metadata": {},
   "outputs": [
    {
     "name": "stdout",
     "output_type": "stream",
     "text": [
      "Lowercased Text: hello here is some text, bye\n",
      "Tokens: ['hello', 'here', 'is', 'some', 'text,', 'bye']\n"
     ]
    }
   ],
   "source": [
    "text = \"Hello here is some text, BYE\"\n",
    "# Lowercasing\n",
    "lowercased_text = text.lower()\n",
    "print(\"Lowercased Text:\", lowercased_text)\n",
    "# Tokenization\n",
    "tokens = lowercased_text.split()\n",
    "print(\"Tokens:\", tokens)"
   ]
  },
  {
   "cell_type": "markdown",
   "id": "1db1e6c5-2ea1-46fa-a145-84c69dfccb8d",
   "metadata": {},
   "source": [
    "Punctuations as well"
   ]
  },
  {
   "cell_type": "code",
   "execution_count": 11,
   "id": "44fc1524-ad93-407c-b6a1-aae072d248ed",
   "metadata": {},
   "outputs": [
    {
     "name": "stdout",
     "output_type": "stream",
     "text": [
      "Cleaned Text: Hello World whos speaking Ah its you\n"
     ]
    }
   ],
   "source": [
    "#remove punctuations\n",
    "import string\n",
    "text = \"Hello, World! who's speaking? Ah, it's you!\"\n",
    "clean_text = text.translate(str.maketrans('', '', string.punctuation))\n",
    "print(\"Cleaned Text:\", clean_text)"
   ]
  },
  {
   "cell_type": "code",
   "execution_count": 14,
   "id": "ba07d157-737f-4bd8-8b2e-6e8e49d5775f",
   "metadata": {},
   "outputs": [
    {
     "name": "stdout",
     "output_type": "stream",
     "text": [
      "Filtered Tokens: ['example', 'removing', 'stopwords', 'sentence.']\n"
     ]
    },
    {
     "name": "stderr",
     "output_type": "stream",
     "text": [
      "[nltk_data] Downloading package stopwords to /home/faster/nltk_data...\n",
      "[nltk_data]   Unzipping corpora/stopwords.zip.\n"
     ]
    }
   ],
   "source": [
    "#some words have less meaning\n",
    "import nltk\n",
    "nltk.download('stopwords')\n",
    "from nltk.corpus import stopwords\n",
    "text = \"This is an example of removing stopwords from a sentence.\"\n",
    "tokens = text.split()\n",
    "filtered_tokens = [word for word in tokens if word.lower() not in stopwords.words('english')]\n",
    "print(\"Filtered Tokens:\", filtered_tokens)"
   ]
  },
  {
   "cell_type": "markdown",
   "id": "86972964-e597-4302-ab43-84ab721b8d63",
   "metadata": {},
   "source": [
    "Some words have very similiar meaning but different coniugations, these may impair the classification, for addressing this problem we can employ Stemming and Lemming. "
   ]
  },
  {
   "cell_type": "markdown",
   "id": "77cc85bc-a757-4622-aaaa-1cc2492888e2",
   "metadata": {},
   "source": [
    "Stemming truncates words by chopping off the ends of words using heuristic processes."
   ]
  },
  {
   "cell_type": "code",
   "execution_count": 15,
   "id": "2459a1dc-51f3-4a5c-b691-20e703fa6fc5",
   "metadata": {},
   "outputs": [
    {
     "name": "stdout",
     "output_type": "stream",
     "text": [
      "Stemmed Tokens: ['run', 'runner', 'run', 'run']\n"
     ]
    }
   ],
   "source": [
    "from nltk.stem import PorterStemmer\n",
    "\n",
    "ps = PorterStemmer()\n",
    "text = \"running runner runs run\"\n",
    "tokens = text.split()\n",
    "stemmed_tokens = [ps.stem(token) for token in tokens]\n",
    "print(\"Stemmed Tokens:\", stemmed_tokens)"
   ]
  },
  {
   "cell_type": "markdown",
   "id": "ea34d668-3c1c-4879-9743-b6aa401169bb",
   "metadata": {},
   "source": [
    "Lemming reduces words to their base or root form by considering the dictionary form of the word"
   ]
  },
  {
   "cell_type": "code",
   "execution_count": 16,
   "id": "589f6fe0-cc4d-4a41-931d-3a00c09db60d",
   "metadata": {},
   "outputs": [
    {
     "name": "stderr",
     "output_type": "stream",
     "text": [
      "[nltk_data] Downloading package wordnet to /home/faster/nltk_data...\n"
     ]
    },
    {
     "name": "stdout",
     "output_type": "stream",
     "text": [
      "Lemmatized Tokens: ['goose', 'mouse', 'swimming', 'swam']\n"
     ]
    }
   ],
   "source": [
    "import nltk\n",
    "from nltk.stem import WordNetLemmatizer\n",
    "nltk.download('wordnet')\n",
    "lemmatizer = WordNetLemmatizer()\n",
    "text = \"geese mice swimming swam\"\n",
    "tokens = text.split()\n",
    "lemmatized_tokens = [lemmatizer.lemmatize(token) for token in tokens]\n",
    "print(\"Lemmatized Tokens:\", lemmatized_tokens)"
   ]
  },
  {
   "cell_type": "markdown",
   "id": "29aae5d3-82c4-4243-91cc-cc4f752171f3",
   "metadata": {},
   "source": [
    "### Encoding Text\n",
    "transforming text into numbers"
   ]
  },
  {
   "cell_type": "markdown",
   "id": "7e333984-dc1e-48ae-9b6c-5408d5ea7889",
   "metadata": {},
   "source": [
    "#### One hot encoding\n",
    "Practical, but only with very low cardinality"
   ]
  },
  {
   "cell_type": "code",
   "execution_count": 17,
   "id": "bace81da-3af4-41d0-bef6-834e4935508d",
   "metadata": {},
   "outputs": [
    {
     "name": "stdout",
     "output_type": "stream",
     "text": [
      "One-Hot Encoded Words:\n",
      " [[0. 1. 0. 0. 0. 0. 0.]\n",
      " [0. 0. 0. 0. 0. 0. 1.]\n",
      " [0. 0. 1. 0. 0. 0. 0.]\n",
      " [0. 0. 0. 0. 0. 1. 0.]\n",
      " [0. 0. 0. 0. 1. 0. 0.]\n",
      " [0. 0. 0. 1. 0. 0. 0.]\n",
      " [1. 0. 0. 0. 0. 0. 0.]]\n"
     ]
    }
   ],
   "source": [
    "from sklearn.preprocessing import OneHotEncoder\n",
    "\n",
    "words = [[\"hello\"], [\"this\"], [\"is\"], [\"the\"], [\"machine\"], [\"learning\"], [\"course\"]]\n",
    "\n",
    "encoder = OneHotEncoder(sparse_output=False)\n",
    "encoded_words = encoder.fit_transform(words)\n",
    "\n",
    "print(\"One-Hot Encoded Words:\\n\", encoded_words)"
   ]
  },
  {
   "cell_type": "markdown",
   "id": "4c43d30c-97ad-472a-9de2-b3dc3e758793",
   "metadata": {},
   "source": [
    "#### Label Encoding, great for transforming labels"
   ]
  },
  {
   "cell_type": "code",
   "execution_count": 18,
   "id": "0d88f953-3cc5-4955-8e1d-ab3093d4d42d",
   "metadata": {},
   "outputs": [
    {
     "name": "stdout",
     "output_type": "stream",
     "text": [
      "[1 2 0 1 0]\n"
     ]
    }
   ],
   "source": [
    "from sklearn.preprocessing import LabelEncoder\n",
    "\n",
    "labels = [\"cat\", \"dog\", \"bird\", \"cat\", \"bird\"]\n",
    "encoder = LabelEncoder()\n",
    "encoded_labels = encoder.fit_transform(labels)\n",
    "print(encoded_labels) "
   ]
  },
  {
   "cell_type": "markdown",
   "id": "fbdfcf81-ed32-4aee-86a0-e7a5ee69beba",
   "metadata": {},
   "source": [
    "#### Bag of Words (BoW - TF) Encoding is essentially a histogram of word frequencies in a text document. For each document or text sample, count the number of occurrences of each word and represent the document as this count vector."
   ]
  },
  {
   "cell_type": "markdown",
   "id": "1f8ad93e-2a90-42f8-8b15-232ef8fa342a",
   "metadata": {},
   "source": [
    " When to use it:\n",
    "\n",
    "    Document classification: BoW is popular for tasks like email spam classification or sentiment analysis, where the occurrence of certain words can be a strong indicator of the class.\n",
    "    Texts with different lengths: Since BoW leads to fixed-length vectors (the size of the vocabulary), it's useful when dealing with texts of varying lengths.\n",
    "    Simple models: For models like Naive Bayes, BoW can be very effective.\n",
    "\n",
    "Cons:\n",
    "\n",
    "    Loses all information about word order. \"This is good, not bad\" and \"This is bad, not good\" would have the same representation.\n",
    "    Like one-hot encoding, BoW can also lead to high-dimensional data with large vocabularies.\n",
    "    Doesn't capture semantic relationships between words."
   ]
  },
  {
   "cell_type": "code",
   "execution_count": 19,
   "id": "e06db9ab-90d5-4197-848d-aa5dca7de081",
   "metadata": {},
   "outputs": [
    {
     "name": "stdout",
     "output_type": "stream",
     "text": [
      "Vocabulary: ['again' 'class' 'course' 'hello' 'is' 'learning' 'machine' 'the' 'there'\n",
      " 'this' 'to' 'welcome']\n",
      "BoW Representation:\n",
      " [[1 0 1 2 1 1 1 1 1 1 0 0]\n",
      " [0 1 0 0 0 1 1 1 0 0 1 1]]\n"
     ]
    }
   ],
   "source": [
    "from sklearn.feature_extraction.text import CountVectorizer\n",
    "\n",
    "corpus = [\n",
    "    \"Hello there this is the machine learning course, hello again\",\n",
    "    \"Welcome to the machine learning class.\"\n",
    "]\n",
    "\n",
    "vectorizer = CountVectorizer()\n",
    "X = vectorizer.fit_transform(corpus)\n",
    "\n",
    "print(\"Vocabulary:\", vectorizer.get_feature_names_out())\n",
    "print(\"BoW Representation:\\n\", X.toarray())"
   ]
  },
  {
   "cell_type": "markdown",
   "id": "7f83bd97-9add-4eaa-8d35-055e9e8493a8",
   "metadata": {},
   "source": [
    "#### TF-IDF\n",
    "TF-IDF is a statistical measure that evaluates the importance of a word in a document, relative to a collection of documents (often called a corpus). It's composed of two terms:\n",
    "\n",
    "Term Frequency (TF): Represents how often a term appears in a given document.\n",
    "\n",
    "$$TF(t,d)= \\frac{Number \\, of \\, times \\, term \\,t \\,appears \\,in \\,document \\,d}{Total\\, number \\,of \\,terms \\,in\\, document\\, d}$$\n",
    "\n",
    "\n",
    "Inverse Document Frequency (IDF): Represents the significance of the term across all documents in the corpus. It assigns more weight to terms that are rare across documents.\n",
    "\n",
    "$$IDF(t)= log⁡(\\frac{Total\\, number\\, of\\, documents}{Number\\, of \\,documents \\,containing\\, term\\, t})$$\n",
    "\n",
    "The TF-IDF value for a term in a document is then:\n",
    "$$TF-IDF(t,d)=TF(t,d)×IDF(t)$$\n",
    "\n",
    "Words with high TF-IDF scores are those that are important in a given document relative to the entire corpus."
   ]
  },
  {
   "cell_type": "code",
   "execution_count": 20,
   "id": "05685746-d9aa-4797-92be-3bc971de77db",
   "metadata": {},
   "outputs": [],
   "source": [
    "from sklearn.feature_extraction.text import TfidfVectorizer\n",
    "\n",
    "docs = [\n",
    "    \"I love machine learning.\",\n",
    "    \"Machine learning is challenging.\",\n",
    "    \"Python is a popular language for machine learning.\",\n",
    "]\n",
    "\n",
    "# Initialize a TF-IDF vectorizer\n",
    "vectorizer = TfidfVectorizer()\n",
    "\n",
    "# Compute TF-IDF values\n",
    "tfidf_matrix = vectorizer.fit_transform(docs)\n",
    "\n",
    "# Feature names (words in the vocabulary)\n",
    "features = vectorizer.get_feature_names_out()\n"
   ]
  },
  {
   "cell_type": "code",
   "execution_count": 21,
   "id": "55fb7c52-b3ef-4b13-9378-9367b250f5c2",
   "metadata": {},
   "outputs": [
    {
     "data": {
      "text/plain": [
       "array(['challenging', 'for', 'is', 'language', 'learning', 'love',\n",
       "       'machine', 'popular', 'python'], dtype=object)"
      ]
     },
     "execution_count": 21,
     "metadata": {},
     "output_type": "execute_result"
    }
   ],
   "source": [
    "features"
   ]
  },
  {
   "cell_type": "code",
   "execution_count": 22,
   "id": "150db6dc-ec72-4025-b959-10b8f188085a",
   "metadata": {},
   "outputs": [
    {
     "data": {
      "text/plain": [
       "array([[0.        , 0.        , 0.        , 0.        , 0.45329466,\n",
       "        0.76749457, 0.45329466, 0.        , 0.        ],\n",
       "       [0.66283998, 0.        , 0.50410689, 0.        , 0.39148397,\n",
       "        0.        , 0.39148397, 0.        , 0.        ],\n",
       "       [0.        , 0.43535684, 0.3311001 , 0.43535684, 0.25712876,\n",
       "        0.        , 0.25712876, 0.43535684, 0.43535684]])"
      ]
     },
     "execution_count": 22,
     "metadata": {},
     "output_type": "execute_result"
    }
   ],
   "source": [
    "tfidf_matrix.toarray()"
   ]
  },
  {
   "cell_type": "markdown",
   "id": "e6a980ca-5ced-4cc1-a8fe-c63040ea9025",
   "metadata": {},
   "source": [
    "#### What we really want: dense word embeddings"
   ]
  },
  {
   "cell_type": "markdown",
   "id": "7b008e7d-f6cf-4abb-af98-e3428d8fc3e5",
   "metadata": {},
   "source": [
    "The encodings methods mentioned above have two main drawbacks we need to solve. 1) The very high dimensionality of the embedding 2) similar words/concept are placed randomly in the encoding space."
   ]
  },
  {
   "cell_type": "markdown",
   "id": "eb49d3c1-0953-4ac1-be18-81c51e0f0a09",
   "metadata": {},
   "source": [
    "We well see in the following implementations how to solve both this issues via a neural embedding"
   ]
  },
  {
   "cell_type": "markdown",
   "id": "8c3b595e-8c66-4a7a-bc20-e2d1cfdadbe1",
   "metadata": {},
   "source": [
    "### Loading text from file to keras dataset"
   ]
  },
  {
   "cell_type": "markdown",
   "id": "74963cf7-3bc7-47b7-8f6a-10edfee879f5",
   "metadata": {},
   "source": [
    "IMDB movie reviews, one of the most common dataset for mlp"
   ]
  },
  {
   "cell_type": "code",
   "execution_count": 23,
   "id": "19e90eb8-b915-4395-a867-7d57624de81f",
   "metadata": {},
   "outputs": [
    {
     "name": "stderr",
     "output_type": "stream",
     "text": [
      "2024-05-15 14:22:01.826293: I tensorflow/core/util/port.cc:113] oneDNN custom operations are on. You may see slightly different numerical results due to floating-point round-off errors from different computation orders. To turn them off, set the environment variable `TF_ENABLE_ONEDNN_OPTS=0`.\n",
      "2024-05-15 14:22:01.947596: E external/local_xla/xla/stream_executor/cuda/cuda_dnn.cc:9261] Unable to register cuDNN factory: Attempting to register factory for plugin cuDNN when one has already been registered\n",
      "2024-05-15 14:22:01.947651: E external/local_xla/xla/stream_executor/cuda/cuda_fft.cc:607] Unable to register cuFFT factory: Attempting to register factory for plugin cuFFT when one has already been registered\n",
      "2024-05-15 14:22:01.964946: E external/local_xla/xla/stream_executor/cuda/cuda_blas.cc:1515] Unable to register cuBLAS factory: Attempting to register factory for plugin cuBLAS when one has already been registered\n",
      "2024-05-15 14:22:02.009775: I tensorflow/core/platform/cpu_feature_guard.cc:182] This TensorFlow binary is optimized to use available CPU instructions in performance-critical operations.\n",
      "To enable the following instructions: AVX2 AVX_VNNI FMA, in other operations, rebuild TensorFlow with the appropriate compiler flags.\n",
      "2024-05-15 14:22:02.581148: W tensorflow/compiler/tf2tensorrt/utils/py_utils.cc:38] TF-TRT Warning: Could not find TensorRT\n"
     ]
    }
   ],
   "source": [
    "import os\n",
    "\n",
    "os.environ[\"KERAS_BACKEND\"] = \"tensorflow\"\n",
    "\n",
    "import keras\n",
    "import tensorflow as tf\n",
    "import numpy as np\n",
    "from keras import layers\n",
    "from keras import ops"
   ]
  },
  {
   "cell_type": "code",
   "execution_count": 24,
   "id": "3eaddc51-3922-4678-b56c-7c7ab413bcaf",
   "metadata": {},
   "outputs": [
    {
     "name": "stdout",
     "output_type": "stream",
     "text": [
      "  % Total    % Received % Xferd  Average Speed   Time    Time     Time  Current\n",
      "                                 Dload  Upload   Total   Spent    Left  Speed\n",
      "100 80.2M  100 80.2M    0     0  7451k      0  0:00:11  0:00:11 --:--:-- 17.2M\n"
     ]
    }
   ],
   "source": [
    "!curl -O https://ai.stanford.edu/~amaas/data/sentiment/aclImdb_v1.tar.gz\n",
    "!tar -xf aclImdb_v1.tar.gz"
   ]
  },
  {
   "cell_type": "code",
   "execution_count": 25,
   "id": "06a59a49-7350-4bd8-8d33-98f544fc208d",
   "metadata": {},
   "outputs": [
    {
     "name": "stdout",
     "output_type": "stream",
     "text": [
      "Being an Austrian myself this has been a straight knock in my face. Fortunately I don't live nowhere near the place where this movie takes place but unfortunately it portrays everything that the rest of Austria hates about Viennese people (or people close to that region). And it is very easy to read that this is exactly the directors intention: to let your head sink into your hands and say \"Oh my god, how can THAT be possible!\". No, not with me, the (in my opinion) totally exaggerated uncensored swinger club scene is not necessary, I watch porn, sure, but in this context I was rather disgusted than put in the right context.<br /><br />This movie tells a story about how misled people who suffer from lack of education or bad company try to survive and live in a world of redundancy and boring horizons. A girl who is treated like a whore by her super-jealous boyfriend (and still keeps coming back), a female teacher who discovers her masochism by putting the life of her super-cruel \"lover\" on the line, an old couple who has an almost mathematical daily cycle (she is the \"official replacement\" of his ex wife), a couple that has just divorced and has the ex husband suffer under the acts of his former wife obviously having a relationship with her masseuse and finally a crazy hitchhiker who asks her drivers the most unusual questions and stretches their nerves by just being super-annoying.<br /><br />After having seen it you feel almost nothing. You're not even shocked, sad, depressed or feel like doing anything... Maybe that's why I gave it 7 points, it made me react in a way I never reacted before. If that's good or bad is up to you!"
     ]
    }
   ],
   "source": [
    "!cat aclImdb/train/pos/6248_7.txt"
   ]
  },
  {
   "cell_type": "code",
   "execution_count": 26,
   "id": "163bb51a-c54c-4c07-b183-0c9999b141bb",
   "metadata": {},
   "outputs": [],
   "source": [
    "!rm -r aclImdb/train/unsup"
   ]
  },
  {
   "cell_type": "code",
   "execution_count": 27,
   "id": "4ff427f7-f904-4e6e-9b89-ff7e35fafac4",
   "metadata": {
    "scrolled": true
   },
   "outputs": [
    {
     "name": "stdout",
     "output_type": "stream",
     "text": [
      "Found 25000 files belonging to 2 classes.\n",
      "Using 12500 files for training.\n"
     ]
    },
    {
     "name": "stderr",
     "output_type": "stream",
     "text": [
      "2024-05-15 14:22:17.822445: I external/local_xla/xla/stream_executor/cuda/cuda_executor.cc:901] successful NUMA node read from SysFS had negative value (-1), but there must be at least one NUMA node, so returning NUMA node zero. See more at https://github.com/torvalds/linux/blob/v6.0/Documentation/ABI/testing/sysfs-bus-pci#L344-L355\n",
      "2024-05-15 14:22:17.897745: I external/local_xla/xla/stream_executor/cuda/cuda_executor.cc:901] successful NUMA node read from SysFS had negative value (-1), but there must be at least one NUMA node, so returning NUMA node zero. See more at https://github.com/torvalds/linux/blob/v6.0/Documentation/ABI/testing/sysfs-bus-pci#L344-L355\n",
      "2024-05-15 14:22:17.898079: I external/local_xla/xla/stream_executor/cuda/cuda_executor.cc:901] successful NUMA node read from SysFS had negative value (-1), but there must be at least one NUMA node, so returning NUMA node zero. See more at https://github.com/torvalds/linux/blob/v6.0/Documentation/ABI/testing/sysfs-bus-pci#L344-L355\n",
      "2024-05-15 14:22:17.902144: I external/local_xla/xla/stream_executor/cuda/cuda_executor.cc:901] successful NUMA node read from SysFS had negative value (-1), but there must be at least one NUMA node, so returning NUMA node zero. See more at https://github.com/torvalds/linux/blob/v6.0/Documentation/ABI/testing/sysfs-bus-pci#L344-L355\n",
      "2024-05-15 14:22:17.902324: I external/local_xla/xla/stream_executor/cuda/cuda_executor.cc:901] successful NUMA node read from SysFS had negative value (-1), but there must be at least one NUMA node, so returning NUMA node zero. See more at https://github.com/torvalds/linux/blob/v6.0/Documentation/ABI/testing/sysfs-bus-pci#L344-L355\n",
      "2024-05-15 14:22:17.902433: I external/local_xla/xla/stream_executor/cuda/cuda_executor.cc:901] successful NUMA node read from SysFS had negative value (-1), but there must be at least one NUMA node, so returning NUMA node zero. See more at https://github.com/torvalds/linux/blob/v6.0/Documentation/ABI/testing/sysfs-bus-pci#L344-L355\n",
      "2024-05-15 14:22:18.575695: I external/local_xla/xla/stream_executor/cuda/cuda_executor.cc:901] successful NUMA node read from SysFS had negative value (-1), but there must be at least one NUMA node, so returning NUMA node zero. See more at https://github.com/torvalds/linux/blob/v6.0/Documentation/ABI/testing/sysfs-bus-pci#L344-L355\n",
      "2024-05-15 14:22:18.575813: I external/local_xla/xla/stream_executor/cuda/cuda_executor.cc:901] successful NUMA node read from SysFS had negative value (-1), but there must be at least one NUMA node, so returning NUMA node zero. See more at https://github.com/torvalds/linux/blob/v6.0/Documentation/ABI/testing/sysfs-bus-pci#L344-L355\n",
      "2024-05-15 14:22:18.575869: I external/local_xla/xla/stream_executor/cuda/cuda_executor.cc:901] successful NUMA node read from SysFS had negative value (-1), but there must be at least one NUMA node, so returning NUMA node zero. See more at https://github.com/torvalds/linux/blob/v6.0/Documentation/ABI/testing/sysfs-bus-pci#L344-L355\n",
      "2024-05-15 14:22:18.575908: I tensorflow/core/common_runtime/gpu/gpu_device.cc:1929] Created device /job:localhost/replica:0/task:0/device:GPU:0 with 14101 MB memory:  -> device: 0, name: NVIDIA RTX A4000, pci bus id: 0000:01:00.0, compute capability: 8.6\n",
      "2024-05-15 14:22:18.739835: I external/local_tsl/tsl/platform/default/subprocess.cc:304] Start cannot spawn child process: No such file or directory\n"
     ]
    },
    {
     "name": "stdout",
     "output_type": "stream",
     "text": [
      "Found 25000 files belonging to 2 classes.\n",
      "Using 12500 files for validation.\n",
      "Found 25000 files belonging to 2 classes.\n",
      "Number of batches in raw_train_ds: 391\n",
      "Number of batches in raw_val_ds: 391\n",
      "Number of batches in raw_test_ds: 782\n"
     ]
    }
   ],
   "source": [
    "batch_size = 32\n",
    "raw_train_ds = keras.utils.text_dataset_from_directory(\n",
    "    \"aclImdb/train\",\n",
    "    batch_size=batch_size,\n",
    "    validation_split=0.5,\n",
    "    subset=\"training\",\n",
    "    seed=1337,\n",
    ")\n",
    "raw_val_ds = keras.utils.text_dataset_from_directory(\n",
    "    \"aclImdb/train\",\n",
    "    batch_size=batch_size,\n",
    "    validation_split=0.5,\n",
    "    subset=\"validation\",\n",
    "    seed=1337,\n",
    ")\n",
    "raw_test_ds = keras.utils.text_dataset_from_directory(\n",
    "    \"aclImdb/test\", batch_size=batch_size\n",
    ")\n",
    "\n",
    "print(f\"Number of batches in raw_train_ds: {raw_train_ds.cardinality()}\")\n",
    "print(f\"Number of batches in raw_val_ds: {raw_val_ds.cardinality()}\")\n",
    "print(f\"Number of batches in raw_test_ds: {raw_test_ds.cardinality()}\")\n"
   ]
  },
  {
   "cell_type": "code",
   "execution_count": 28,
   "id": "7d012f79-d849-40af-add7-0b295b7e19e6",
   "metadata": {
    "scrolled": true
   },
   "outputs": [
    {
     "name": "stdout",
     "output_type": "stream",
     "text": [
      "b'I\\'ve seen tons of science fiction from the 70s; some horrendously bad, and others thought provoking and truly frightening. Soylent Green fits into the latter category. Yes, at times it\\'s a little campy, and yes, the furniture is good for a giggle or two, but some of the film seems awfully prescient. Here we have a film, 9 years before Blade Runner, that dares to imagine the future as somthing dark, scary, and nihilistic. Both Charlton Heston and Edward G. Robinson fare far better in this than The Ten Commandments, and Robinson\\'s assisted-suicide scene is creepily prescient of Kevorkian and his ilk. Some of the attitudes are dated (can you imagine a filmmaker getting away with the \"women as furniture\" concept in our oh-so-politically-correct-90s?), but it\\'s rare to find a film from the Me Decade that actually can make you think. This is one I\\'d love to see on the big screen, because even in a widescreen presentation, I don\\'t think the overall scope of this film would receive its due. Check it out.'\n",
      "1\n",
      "b'First than anything, I\\'m not going to praise I\\xc3\\xb1arritu\\'s short film, even I\\'m Mexican and proud of his success in mainstream Hollywood.<br /><br />In another hand, I see most of the reviews focuses on their favorite (and not so) short films; but we are forgetting that there is a subtle bottom line that circles the whole compilation, and maybe it will not be so pleasant for American people. (Even if that was not the main purpose of the producers) <br /><br />What i\\'m talking about is that most of the short films does not show the suffering that WASP people went through because the terrorist attack on September 11th, but the suffering of the Other people.<br /><br />Do you need proofs about what i\\'m saying? Look, in the Bosnia short film, the message is: \"You cry because of the people who died in the Towers, but we (The Others = East Europeans) are crying long ago for the crimes committed against our women and nobody pay attention to us like the whole world has done to you\".<br /><br />Even though the Burkina Fasso story is more in comedy, there is a the same thought: \"You are angry because Osama Bin Laden punched you in an evil way, but we (The Others = Africans) should be more angry, because our people is dying of hunger, poverty and AIDS long time ago, and nobody pay attention to us like the whole world has done to you\".<br /><br />Look now at the Sean Penn short: The fall of the Twin Towers makes happy to a lonely (and alienated) man. So the message is that the Power and the Greed (symbolized by the Towers) must fall for letting the people see the sun rise and the flowers blossom? It is remarkable that this terrible bottom line has been proposed by an American. There is so much irony in this short film that it is close to be subversive.<br /><br />Well, the Ken Loach (very know because his anti-capitalism ideology) is much more clearly and shameless in going straight to the point: \"You are angry because your country has been attacked by evil forces, but we (The Others = Latin Americans) suffered at a similar date something worst, and nobody remembers our grief as the whole world has done to you\".<br /><br />It is like if the creative of this project wanted to say to Americans: \"You see now, America? You are not the only that have become victim of the world violence, you are not alone in your pain and by the way, we (the Others = the Non Americans) have been suffering a lot more than you from long time ago; so, we are in solidarity with you in your pain... and by the way, we are sorry because you have had some taste of your own medicine\" Only the Mexican and the French short films showed some compassion and sympathy for American people; the others are like a slap on the face for the American State, that is not equal to American People.'\n",
      "1\n",
      "b'Blood Castle (aka Scream of the Demon Lover, Altar of Blood, Ivanna--the best, but least exploitation cinema-sounding title, and so on) is a very traditional Gothic Romance film. That means that it has big, creepy castles, a headstrong young woman, a mysterious older man, hints of horror and the supernatural, and romance elements in the contemporary sense of that genre term. It also means that it is very deliberately paced, and that the film will work best for horror mavens who are big fans of understatement. If you love films like Robert Wise\\'s The Haunting (1963), but you also have a taste for late 1960s/early 1970s Spanish and Italian horror, you may love Blood Castle, as well.<br /><br />Baron Janos Dalmar (Carlos Quiney) lives in a large castle on the outskirts of a traditional, unspecified European village. The locals fear him because legend has it that whenever he beds a woman, she soon after ends up dead--the consensus is that he sets his ferocious dogs on them. This is quite a problem because the Baron has a very healthy appetite for women. At the beginning of the film, yet another woman has turned up dead and mutilated.<br /><br />Meanwhile, Dr. Ivanna Rakowsky (Erna Sch\\xc3\\xbcrer) has appeared in the center of the village, asking to be taken to Baron Dalmar\\'s castle. She\\'s an out-of-towner who has been hired by the Baron for her expertise in chemistry. Of course, no one wants to go near the castle. Finally, Ivanna finds a shady individual (who becomes even shadier) to take her. Once there, an odd woman who lives in the castle, Olga (Cristiana Galloni), rejects Ivanna and says that she shouldn\\'t be there since she\\'s a woman. Baron Dalmar vacillates over whether she should stay. She ends up staying, but somewhat reluctantly. The Baron has hired her to try to reverse the effects of severe burns, which the Baron\\'s brother, Igor, is suffering from.<br /><br />Unfortunately, the Baron\\'s brother appears to be just a lump of decomposing flesh in a vat of bizarre, blackish liquid. And furthermore, Ivanna is having bizarre, hallucinatory dreams. Just what is going on at the castle? Is the Baron responsible for the crimes? Is he insane? <br /><br />I wanted to like Blood Castle more than I did. As I mentioned, the film is very deliberate in its pacing, and most of it is very understated. I can go either way on material like that. I don\\'t care for The Haunting (yes, I\\'m in a very small minority there), but I\\'m a big fan of 1960s and 1970s European horror. One of my favorite directors is Mario Bava. I also love Dario Argento\\'s work from that period. But occasionally, Blood Castle moved a bit too slow for me at times. There are large chunks that amount to scenes of not very exciting talking alternated with scenes of Ivanna slowly walking the corridors of the castle.<br /><br />But the atmosphere of the film is decent. Director Jos\\xc3\\xa9 Luis Merino managed more than passable sets and locations, and they\\'re shot fairly well by Emanuele Di Cola. However, Blood Castle feels relatively low budget, and this is a Roger Corman-produced film, after all (which usually means a low-budget, though often surprisingly high quality \"quickie\"). So while there is a hint of the lushness of Bava\\'s colors and complex set decoration, everything is much more minimalist. Of course, it doesn\\'t help that the Retromedia print I watched looks like a 30-year old photograph that\\'s been left out in the sun too long. It appears \"washed out\", with compromised contrast.<br /><br />Still, Merino and Di Cola occasionally set up fantastic visuals. For example, a scene of Ivanna walking in a darkened hallway that\\'s shot from an exaggerated angle, and where an important plot element is revealed through shadows on a wall only. There are also a couple Ingmar Bergmanesque shots, where actors are exquisitely blocked to imply complex relationships, besides just being visually attractive and pulling your eye deep into the frame.<br /><br />The performances are fairly good, and the women--especially Sch\\xc3\\xbcrer--are very attractive. Merino exploits this fact by incorporating a decent amount of nudity. Sch\\xc3\\xbcrer went on to do a number of films that were as much soft corn porn as they were other genres, with English titles such as Sex Life in a Woman\\'s Prison (1974), Naked and Lustful (1974), Strip Nude for Your Killer (1975) and Erotic Exploits of a Sexy Seducer (1977). Blood Castle is much tamer, but in addition to the nudity, there are still mild scenes suggesting rape and bondage, and of course the scenes mixing sex and death.<br /><br />The primary attraction here, though, is probably the story, which is much a slow-burning romance as anything else. The horror elements, the mystery elements, and a somewhat unexpected twist near the end are bonuses, but in the end, Blood Castle is a love story, about a couple overcoming various difficulties and antagonisms (often with physical threats or harms) to be together.'\n",
      "1\n",
      "b\"I was talked into watching this movie by a friend who blubbered on about what a cute story this was.<br /><br />Yuck.<br /><br />I want my two hours back, as I could have done SO many more productive things with my time...like, for instance, twiddling my thumbs. I see nothing redeeming about this film at all, save for the eye-candy aspect of it...<br /><br />3/10 (and that's being generous)\"\n",
      "0\n",
      "b\"Michelle Rodriguez is the defining actress who could be the charging force for other actresses to look out for. She has the audacity to place herself in a rarely seen tough-girl role very early in her career (and pull it off), which is a feat that should be recognized. Although her later films pigeonhole her to that same role, this film was made for her ruggedness.<br /><br />Her character is a romanticized student/fighter/lover, struggling to overcome her disenchanted existence in the projects, which is a little overdone in film...but not by a girl. That aspect of this film isn't very original, but the story goes in depth when the heated relationships that this girl has to deal with come to a boil and her primal rage takes over.<br /><br />I haven't seen an actress take such an aggressive stance in movie-making yet, and I'm glad that she's getting that original twist out there in Hollywood. This film got a 7 from me because of the average story of ghetto youth, but it has such a great actress portraying a rarely-seen role in a minimal budget movie. Great work.\"\n",
      "1\n"
     ]
    }
   ],
   "source": [
    "for text_batch, label_batch in raw_train_ds.take(1):\n",
    "    for i in range(5):\n",
    "        print(text_batch.numpy()[i])\n",
    "        print(label_batch.numpy()[i])"
   ]
  },
  {
   "cell_type": "markdown",
   "id": "64294092-3c94-41b7-9b34-de768c4fd2a4",
   "metadata": {},
   "source": [
    "### Prepare text data in the keras framework"
   ]
  },
  {
   "cell_type": "code",
   "execution_count": 29,
   "id": "55e54b20-a4e6-4407-842f-42505b8a6afe",
   "metadata": {},
   "outputs": [],
   "source": [
    "import string\n",
    "import re\n",
    "#Define custom a preprocessing procedure\n",
    "def custom_preprocessing(input_data):\n",
    "    lowercase = tf.strings.lower(input_data)\n",
    "    stripped_html = tf.strings.regex_replace(lowercase, \"<br />\", \" \")\n",
    "    no_punctuation = tf.strings.regex_replace(stripped_html, f\"[{re.escape(string.punctuation)}]\", \"\")\n",
    "    return no_punctuation"
   ]
  },
  {
   "cell_type": "code",
   "execution_count": 30,
   "id": "21f25585-91fe-4152-9683-018cf4740877",
   "metadata": {},
   "outputs": [
    {
     "data": {
      "text/plain": [
       "'!\"#$%&\\'()*+,-./:;<=>?@[\\\\]^_`{|}~'"
      ]
     },
     "execution_count": 30,
     "metadata": {},
     "output_type": "execute_result"
    }
   ],
   "source": [
    "string.punctuation"
   ]
  },
  {
   "cell_type": "code",
   "execution_count": 31,
   "id": "abb4befe-5e53-461b-9e30-ba838ef64b12",
   "metadata": {},
   "outputs": [],
   "source": [
    "#Let's write our text vectorization layer \n",
    "# it will preprocess and map our words into a \n",
    "vectorize_layer = keras.layers.TextVectorization(\n",
    "    standardize=custom_preprocessing,\n",
    "    max_tokens=20000,\n",
    "    output_mode=\"int\",\n",
    "    output_sequence_length=500,\n",
    ")\n",
    "# Output can be int, multi_hot or tf_idf\n",
    "\n",
    "# Now that the vectorize_layer has been created, call `adapt` on a text-only\n",
    "# dataset to create the vocabulary. You don't have to batch, but for very large\n",
    "# datasets this means you're not keeping spare copies of the dataset in memory.\n",
    "\n",
    "# Let's make a text-only dataset (no labels):\n",
    "text_ds = raw_train_ds.map(lambda x, y: x)\n",
    "# Let's call `adapt`:\n",
    "vectorize_layer.adapt(text_ds)"
   ]
  },
  {
   "cell_type": "code",
   "execution_count": 32,
   "id": "be051c5a-fa7b-46a1-9954-5c232bd2aa5b",
   "metadata": {},
   "outputs": [],
   "source": [
    "a,b = next(iter(raw_train_ds))"
   ]
  },
  {
   "cell_type": "code",
   "execution_count": 33,
   "id": "1cf09d58-df42-4bcf-bbb3-f98ccacaa5a8",
   "metadata": {
    "scrolled": true
   },
   "outputs": [
    {
     "data": {
      "text/plain": [
       "<tf.Tensor: shape=(32,), dtype=string, numpy=\n",
       "array([b'I rented this horrible movie. The worst think I have ever seen. I believe a 1st grade class could have done a better job. The worse film I have ever seen and I have seen some bad ones. Nothing scary except I paid 1.50 to rent it and that was 1.49 too much. The acting is horrible, the characters are worse and the film is just a piece of trash. The slauther house scenes are so low budget that it makes a B movied look like an Oscar candidate. All I can say is if you wnat to waste a good evening and a little money go rent this horrible flick. I would rather watch killer clowns from outer space while sitting in a bucket of razors than sit through this flop again',\n",
       "       b\"I spent almost two hours watching a movie that I thought, with all the good actors in it, would be worth watching. I couldn't believe it when the movie ended and I had absolutely no idea what had happened.....I was mad because I could have used that time doing something else....I tried to figure it all out, but really had no clue. Thanks to those who figured it out and have explained it....right or wrong, it's better than not knowing anything!! Who was the lady in the movie with dark hair that we saw a couple of times driving away? How did First Lady know that her husband was cheating on her? At the end of the movie Kate said she would eventually find out the truth. Does this mean that we're going to be subjected to End Game 2?\",\n",
       "       b\"As incredible as it may seem, Gojoe is an anime- and Hong Kong-inspired samurai action flick with a pacifistic message. This ankle of the film is effectively portrayed through the protagonist (a great acting job done by Daisuke Ryu), a killer-turned-to-boddhist-monk Benkei. Benkei has sworn never to kill again, but he still takes up the sword to fight what he thinks is a demon invasion...<br /><br />Gojoe is a film difficult to rate. It's visual imagery is stunningly crafted and beautiful, but it uses too much trickery (circling camera and high speed drives, expressionistic shots, leeched colors, digital effects etc.), so the end result is somewhat tiring. That said, the beginning and the ending of the film are nevertheless both elegant and powerful. If only the director Sogo Ishii would have been wise enough not to overuse his bag of tricks.<br /><br />Other problem with Gojoe is the amount of violence. For a film with such an anti-violent message Gojoe wastes way too much energy and screen time to depict the endless battle scenes. Also, the way the violence is shown is always on the edge of being self-indulgent; in fact, a blood shower against the night sky seems to be one of the films signature images. Luckily, Ishii is wise enough to show the ugly, tragic side of violence as well. Still, it seems that Ishii is not sure whether he's making a traditional action film or a deeply moral allegory. The audience can't be sure of this, either, until the very end of the film. The powerful (albeit cynical) ending is what saves Gojoe; it clearly emphasizes that this film is something more than a mere gore-fest.\",\n",
       "       b\"I consider this film one of the worst in the Nightmare series. It was so boring that I couldn't remember a thing 20 minutes after the film was over, it even tires me to write a review on it.<br /><br />Okay, #4 was a joke and Freddy was the joker. #5 tried to return to the roots of the series. It was darker and more atmospheric than Nightmare 4, which is a good thing, basically. They tried to shoot a horror film instead of a comedy. Unfortunately they forgot to add suspense and scares. Because of that Nightmare 5: The Dream Child is neither funny nor is it scary. What we actually get is a boring film with the usual bad actors (maybe with the exception of Lisa Wilcox).<br /><br />The plot (Freddy killing Lisa's friends by using the dreams of Lisa's unborn child) has a good base but it just isn't enough for 90 minutes of film. Sometimes the story gets very confusing (maybe because there isn't any) and you can't stop wondering what the filmmakers were aiming at. The screenplay must have had more holes than Swiss Cheese and the film therefore was very cheesy itself (let me say that I don't like cheese though, even if I am from Switzerland). Not even the special effects were as good as for example in part 4.<br /><br />Don't bother to rent/buy this film if not for completeness, it's quite a mess.<br /><br />My rating: 4/10 (get used to it, #6 is also a messy one...)\",\n",
       "       b'This is one of the best films we watched in my high school Spanish class. If you are a fan of the opera, this film will strongly entertain you. Of course, the dancing is wonderful. Watching these amazing dancers moving to the music of Bizet is well worth checking out.',\n",
       "       b\"Disappointing film. Performance of actors is weak. Sets are fine, could have been better. The story is also weak. Battle sequences are awful. Sounds and quality of film are trashy. The history of Kazakh people was told very poorly. This film should have included more Kazakh actors, in leading roles. And also should have been in Kazakh language. Kuno Bekker and Jay Hernandez are Hispanic origins. I don't get it. Since when Hispanic people play Turkic-Mongolian people. This film is shame of Kazakh cinema. Rustam Ibragimbekov disappointed me. He is one of the finest filmmakers in the world. Czekh director is excused, since he is not nomadic origin, he cannot know true spirit and history of nomads.\",\n",
       "       b\"I agree that Capital City should be on DVD. I watched this show only by accident in 1994 and fell in love with Rolf Saxon as Hudson Talbot. It was nice to see Americans who work abroad in London in the financial industry for a change. I loved Rolf in this role and loved every other role that he has been in. I can't believe the show only lasted 13 episodes. I liked William Armstrong as Hudson's flamboyant charming friend in the series. When they aired this show in the New York City area, it was always late at night or at off times. The show is less than an hour long. I felt this show should have gone on longer but the casting changes in the second season really made the show a little less interesting. I didn't care for Sylvia but missed the actress, Julia Phillips-Lane in the previous season. I felt this show took chances and often it worked. It showed Americans who loved and chose to live in London. The American characters were not arrogant or tried to outdo their British counterparts. I also liked the fact that they had tried to internationalize the cast rather than make them all British. I liked watching Julia Ormond in an early role. I felt this show should have lasted longer. I felt at times that the previews lasted as long as the show in less than an hour. They could have transferred the cast to New York City and it would have been a hit in America.\",\n",
       "       b\"Philo Vance (William Powell) helps solve multiple murders among the wealthy after a dog show.<br /><br />Usually I hate overly convoluted mysteries (like this) but I LOVE this movie. It moves very quickly (only 72 minutes), is beautifully directed by Michael Curtiz (he uses tons of camera tricks that just speed the narrative along), has a very ingenious story line (including a solution to a locked room murder that was just incredible) and has a very good cast. <br /><br />Powell is very suave and great as Vance--he doesn't seem to be acting--he IS Vance! Mary Astor isn't given much to do but she adds class and beauty to the production. Everybody else is very good too, but best of all is Eugene Pallette as Detective Heath. He's a very good actor with a VERY distinctive voice and some of his lines were hilarious.<br /><br />Basically, an excellent 1930s Hollywood murder mystery. Well worth seeing.<br /><br />\",\n",
       "       b'Blood Castle (aka Scream of the Demon Lover, Altar of Blood, Ivanna--the best, but least exploitation cinema-sounding title, and so on) is a very traditional Gothic Romance film. That means that it has big, creepy castles, a headstrong young woman, a mysterious older man, hints of horror and the supernatural, and romance elements in the contemporary sense of that genre term. It also means that it is very deliberately paced, and that the film will work best for horror mavens who are big fans of understatement. If you love films like Robert Wise\\'s The Haunting (1963), but you also have a taste for late 1960s/early 1970s Spanish and Italian horror, you may love Blood Castle, as well.<br /><br />Baron Janos Dalmar (Carlos Quiney) lives in a large castle on the outskirts of a traditional, unspecified European village. The locals fear him because legend has it that whenever he beds a woman, she soon after ends up dead--the consensus is that he sets his ferocious dogs on them. This is quite a problem because the Baron has a very healthy appetite for women. At the beginning of the film, yet another woman has turned up dead and mutilated.<br /><br />Meanwhile, Dr. Ivanna Rakowsky (Erna Sch\\xc3\\xbcrer) has appeared in the center of the village, asking to be taken to Baron Dalmar\\'s castle. She\\'s an out-of-towner who has been hired by the Baron for her expertise in chemistry. Of course, no one wants to go near the castle. Finally, Ivanna finds a shady individual (who becomes even shadier) to take her. Once there, an odd woman who lives in the castle, Olga (Cristiana Galloni), rejects Ivanna and says that she shouldn\\'t be there since she\\'s a woman. Baron Dalmar vacillates over whether she should stay. She ends up staying, but somewhat reluctantly. The Baron has hired her to try to reverse the effects of severe burns, which the Baron\\'s brother, Igor, is suffering from.<br /><br />Unfortunately, the Baron\\'s brother appears to be just a lump of decomposing flesh in a vat of bizarre, blackish liquid. And furthermore, Ivanna is having bizarre, hallucinatory dreams. Just what is going on at the castle? Is the Baron responsible for the crimes? Is he insane? <br /><br />I wanted to like Blood Castle more than I did. As I mentioned, the film is very deliberate in its pacing, and most of it is very understated. I can go either way on material like that. I don\\'t care for The Haunting (yes, I\\'m in a very small minority there), but I\\'m a big fan of 1960s and 1970s European horror. One of my favorite directors is Mario Bava. I also love Dario Argento\\'s work from that period. But occasionally, Blood Castle moved a bit too slow for me at times. There are large chunks that amount to scenes of not very exciting talking alternated with scenes of Ivanna slowly walking the corridors of the castle.<br /><br />But the atmosphere of the film is decent. Director Jos\\xc3\\xa9 Luis Merino managed more than passable sets and locations, and they\\'re shot fairly well by Emanuele Di Cola. However, Blood Castle feels relatively low budget, and this is a Roger Corman-produced film, after all (which usually means a low-budget, though often surprisingly high quality \"quickie\"). So while there is a hint of the lushness of Bava\\'s colors and complex set decoration, everything is much more minimalist. Of course, it doesn\\'t help that the Retromedia print I watched looks like a 30-year old photograph that\\'s been left out in the sun too long. It appears \"washed out\", with compromised contrast.<br /><br />Still, Merino and Di Cola occasionally set up fantastic visuals. For example, a scene of Ivanna walking in a darkened hallway that\\'s shot from an exaggerated angle, and where an important plot element is revealed through shadows on a wall only. There are also a couple Ingmar Bergmanesque shots, where actors are exquisitely blocked to imply complex relationships, besides just being visually attractive and pulling your eye deep into the frame.<br /><br />The performances are fairly good, and the women--especially Sch\\xc3\\xbcrer--are very attractive. Merino exploits this fact by incorporating a decent amount of nudity. Sch\\xc3\\xbcrer went on to do a number of films that were as much soft corn porn as they were other genres, with English titles such as Sex Life in a Woman\\'s Prison (1974), Naked and Lustful (1974), Strip Nude for Your Killer (1975) and Erotic Exploits of a Sexy Seducer (1977). Blood Castle is much tamer, but in addition to the nudity, there are still mild scenes suggesting rape and bondage, and of course the scenes mixing sex and death.<br /><br />The primary attraction here, though, is probably the story, which is much a slow-burning romance as anything else. The horror elements, the mystery elements, and a somewhat unexpected twist near the end are bonuses, but in the end, Blood Castle is a love story, about a couple overcoming various difficulties and antagonisms (often with physical threats or harms) to be together.',\n",
       "       b'I was surprised at just how much I enjoyed this most thoughtfully delivered drama, which owing to its rather unimpressive 6.6 rating, I nearly missed; as I rarely give the time of day to any movie rated below 7/10. Having said that, I\\'m so glad I gave Stone Angel the viewing it so very much deserved. And so should you, if you are one of the increasingly rare sensitive, soulful and thoughtful sorts of person left on this earth in living form.<br /><br />I must say that in many ways (though not all), viz. its themes, execution, style, production etc., Stone Angel very much reminded me of the much praised \"The Notebook\". I am so surprised that other commentators didn\\'t pick up on the many similarities which repeatedly struck me throughout this movie, so I can only assume that those who\\'ve written comments have yet to see the Notebook. They may not share any Alzheimer\\'s theme, yet I can confidently say that if you very much enjoyed \"The Notebook\" you will certainly find much to engage your time most fruitfully with \"The Stone Angel\". But even If you\\'ve not seen The Notebook, nor read the book on which this move is based, (which, incidentally, I haven\\'t either) you should definitely find much to hold your attention firmly - as long as your favourite genres don\\'t include fast paced action thrillers. This is a movie for thinkers and those who like to reminisce about time\\'s passing, how life changes as the years pass, and what might have happened in one\\'s life as one gazes back through the years.<br /><br />This bizarrely underrated yet great movie really deserves a rating of approximately 8/10. I can only blame its current lowish rating of 6.6/10 on the 11% of idiots who gave it 1/10. After all it has attracted less than 300 votes at the time of my writing this comment. Nonetheless, if those 11% who gave it the lowest ranking possible were really expecting car chases and explosions why didn\\'t they look... for even a few seconds at the movie\\'s premise and promotional lines? Oh dear... Whatever the world is coming to, don\\'t miss this most underrated gem of a movie - but only *if* you have a brain (i.e., your top ten doesn\\'t include Transformers, Fight Club nor The Terminator).',\n",
       "       b'Three scumbags get their just deserts after wasting their lives in greed, drugs, ego, and bad attitudes. Interesting and well done; this style of film always makes me wonder where reality leaves off and imagination takes over. Even though these folks were the scum of the earth I still found myself pitying them. They never really stood much of a chance.',\n",
       "       b'I am very disappointed with \"K-911.\" The original \"good\" quality of \"K-9\" doesn\\'t exist any more. This is more like a sitcom! Some of casts from original movie returned and got some of my memory back. The captain of Dooley now loves to hit him like a scene from old comedy show. That was crazy. What\\'s the deal with the change of Police? It seems like they are now LAPD! Not San Diego PD. It is a completely different movie from \"',\n",
       "       b'A good film with--for its time--an intense, sprawling, rather dark story somewhat reminiscent of John Ford\\'s \"The Searchers\" though not so brutal. The story starts fast and doesn\\'t let up, with several scenes of really good dialog between (Stewart\\'s) Jeff Webster, Ronda Castle and Sheriff Gannon. This film is in some ways reminiscent of \"Bend of the River\" (1952), also a Mann-Stewart work, but I found it far less sentimental and more interesting. There are a few caveats: a too-quickly wrapped up (and rather sentimental) ending; 24-year-old Corrine Calvert is not very convincing as a naive French teenager, and of course the film takes place in the Mythic West, a land of fable where the real laws of nations and physics don\\'t apply. But these are trivial concerns. James Stewart is surprisingly good as a dark, disengaged man who thinks he cares for no one but himself, and the mountain scenery can\\'t be beat. A fine Western costume drama.',\n",
       "       b'This typically melodramatic Bollywood film has inexplicably become a favorite of Western critics. The script is ludicrous, the acting is over-the-top, and it looks cheesy. The only reasons for watching this soap opera are the wonderful songs sung by Mangeshkar and the curtain call of the legendary Meena Kumari. Watching the actress, who was ill during the filming and would drink herself to death at age 40 shortly after the film was released, has the same fascination as watching a train wreck. Her ex-husband, Amrohi, wrote and directed, but lacks the competency to execute either task well. Bollywood has produced far better films.',\n",
       "       b'Sadly not available on DVD as yet, but worth pursuing on TCM or VHS. A secretary believes her boss is wrongly accused of murder, and courageously takes on many dangerous characters in an effort to establish the truth. A movie with many twists and dark alleyways, none of which I will mention! The jazz band sequence where our heroine seeks the information about the killer, is one of the most erotic scenes in Hollywood history, despite being at very low budget and made during WWII in black and white. Despite the low budget - Long Island looks somewhat mountainous - this is a movie of original style and outstanding vision. Ella Raines was a great actress discovered by Howard Hawks who knew much about these matters, casting the feistiest women - Joanne Dru, Hepburn, Angie Dickinson, Lauren Bacall, Ann Sheridan - of their era. Robert Siodmak was of one of several German, Hungarian & Czech film-makers - Sirk, Wilder, Zinnemann, Lubitsch, Curtiz,Lang, etc - who \\xc3\\xa9migr\\xc3\\xa9s relocated to Hollywood, and brought a highly original fresh vision with them. Sadly Ella Raines was never given such a great part again, and eventually ended up in poorly produced westerns.',\n",
       "       b\"Kareena Kapoor in a bikini hmmmmmmmm.<br /><br />Akshay Kumar...<br /><br />Anil Kapoor....<br /><br />Maybe Saif....<br /><br />Kareena Kapoor in a bikini.....<br /><br />Good Banner..<br /><br />Kareena Kapoor in a bikini.....<br /><br />Not one good reason not to see this movie....<br /><br />Or so i thought ........Didnt these people make JBJ...<br /><br />Why o Why did i forget that.<br /><br />For all the criticism the first half of the movie isn't that bad...<br /><br />There is some intrigue and YOU FEEL A SORT OF IRRITATION MIXED WITH EXCITEMENT THAT I FELT WHEN SEEING GUY RITCHIE MOVIES LIKE LOCK STOCK AND SNATCH.<br /><br />Kareena Kapoor is sizzling in a very skinny model sort of way.<br /><br />Akshay Kumar is Akshay Kumar as only he can be.<br /><br />Anil Kapoor is annoying but kind of funny, YOU ALMOST FORGET THAT MOST OF THE TIME YOU CANNOT UNDERSTAND HIM.<br /><br />Saif is sidey ala Main Khiladi.. once again.<br /><br />There is the occasional laugh and a few chuckles, and a few goosebumps during the kareena-saif love story (kareena in the rain, behind me on my bike hmmmmmmm).<br /><br />BUT MOSTLY THIS HALF PROMISES MORE THAN IT DELIVERS.....<br /><br />WHICH MAKES THE SECOND HALF ALL THE MORE UNBEARABLE....<br /><br />There was almost a cheer when the interval came not only because because of the wet kareena because of what people thought were the things to come.<br /><br />INSTEAD WE WERE TREATED TO MIND NUMBING TORTURE WHICH IS DIFFICULT TO PUT IN WORDS.<br /><br />Saif suddenly seam like a comic sidekick...<br /><br />SUDDENLY THE SEXY KAREENA LOOKS ANOREXIC, YOU REALISE THAT THE SECOND LAST FLOOR IS NOW EMPTY AND HER FACE LOOKS TO BIG FOR HER BODY ( only girls can notice this and make other guys notice the second last floor was my observation).<br /><br />ANIL KAPOOR AND HIS SIDEKICKS GET ON YOUR NERVES.<br /><br />Akshay Kumar is the only one who carries off the madness to some extent but even he become intolerable after a while.<br /><br />ALL THE WHILE YOU ARE SUBJECTED TO ONE ABSURDITY AFTER THE OTHER.<br /><br />WHY??!! WHAT??!!! WHEN?!!! WHERE?!!! WHAT HAVE I DONE TO DESERVE THIS...<br /><br />A collective gasp went trough the audience before every song in the second half, which were ordinary even without the movie around it.<br /><br />Cannot relieve the trauma anymore....<br /><br />CONCLUSION.<br /><br />THIS MOVIE STARTS OF AS A BUZZ WHICH YOU FEEL COULD EVEN TURN OUT TO A HIGH BUT ENDS UP SLOWLY MOVING TOWARDS A HEADACHE AND THEN RAPIDLY TURNS INTO A FULL BLOWN MIGRAINE ATTACK.<br /><br />Please don't watch this movie for any reason other than academic interest.<br /><br />+s Cast, Akshay Kumar, first half.<br /><br />+/-s what, when, how, who to much confusion.(need a book to fill this).<br /><br />+s cast, the whole second half (need many pages to fill this).<br /><br />total 3/10 (im trying to avoid the 1s and 2s too not seem to extreme but make no mistake this movie is unwatchable no matter how decent the first half is).\",\n",
       "       b\"The only saving grace of this movie is that it serves as the 0 end of the movie rating scale. Now if I see a movie that really stinks I say this movie was a real Pecker. I believe this movie is a perfect example of Christina Ricci's one dimensional acting. Horrible\",\n",
       "       b\"This is one of three 80's movies that I can think of that were sadly overlooked at the time and unfortunately, still overlooked. One of the others was Clownhouse directed by Victor Salva, a movie horribly overlook due to Salva's legal/sexual problems. Another would be Cameron's Closet which strikes me as somewhat underrated--not great, but not nearly as bad as the reviews I've seen. Paper House is well worth your time and I think that it is one of those very quiet films that will just stick in your brain for far longer than you might think. I mean, 10 years after I've seen it and I still give it some pause, whereas something that I might have seen 6 months ago has gone into the ether.\",\n",
       "       b'I remember hitch hiking to Spain at 25, getting a lift from, what turned out to be, two fleeing Italian small crooks. They were doing a lot outside the law, but from the other side carrying a little portrait of Jesus in the pocket for their protection...Just and unjust, good and bad, criminal and correct where here in a new combination, outside of the categories I used to know. \\'Les Valseuses\\' gives me, although a film and not real life, a picture close to my own experiences: the intenseness of each moment as soon as you leave \\'all behind\\' and go for the momentous, whatever comes your way, it\\'s another state of mind and also \\'dangerous\\' form of life, because, as we all know, there are people who are not ready for this and willing to persecute you for \\'stealing\\' and so on...This film touches \\'values\\', it\\'s a story about \\'what\\'s right and wrong\\': morals. It\\'s resurrection of the individual fighting him/ herself free against the \\'false morals\\' and conformism...There\\'s danger all the way, because, how far can you go with your own \\'freedom\\' and crossing your own moral borders and that of other people? What to do with people who are willing to hurt you, put you in jail or even shoot at you for the things that you do, like \"stealing\" some petrol from a multinational oil company for you fifth hand car? Les Valseuses re-awakens these questions in me, because morality, in contradiction to the usual \\'media message\\', is quite complex...',\n",
       "       b\"This movie is one of those I regret having invested 90 minutes of my life that I'll never get back in. The premise is really interesting - essentially it's a zombie flick from the perspective of the undead (let's not split hairs as to whether they're actually dead or not}. Unfortunately, they fail to deliver a compelling story within this framework. The nearly unbearable monotony of the lives of the central characters may add to the realism of the film, but it sucks all the entertainment value right out of it. If they had put a little more effort toward keeping the viewer engaged, it would have been much more likely that they drive home the social commentary.\",\n",
       "       b\"...may seem like an overstatement, but it is not.<br /><br />What is so hard to comprehend is - why didn't they make more musical shorts like this? Wasn't the beauty of it totally apparent to everybody involved? I guess not. So many shorts were made for commercial reasons only, and with some luck there may be some artistic value in there. This is one exception - the only one? - where it seems they were the director had a vision and clearly could appreciate the music as art. Why didn't anybody ever think to shoot Lester or Charlie Parker on a live date? Crazy, man.<br /><br />A pity there were no sequels. If you've seen anything of similar quality please share it!\",\n",
       "       b\"I'm glad that this is available on DVD now. This film is an excellent example of the triumph of content & style over empty-headed flashing lights & constant loud noises.<br /><br />Essentially, if you have a short attention span or lack the wit & imagination to engage with literary narrative you won't like this film. The reasons for this are quite simple, but unfortunately rarely achieved: Matthew Jacobs has done a fantastic job of transposing the story of Catherine Storr's novel 'Marianne Dreams' successfully to a screenplay. An unenviable task as anyone who has seen a film of a book will undoubtedly know.<br /><br />The casting is excellent, allowing director Bernard Rose to use the actors in a way that is rarely seen now; they indulge in the craft of acting! I know, I know, actors doing their job & acting instead of resorting to mugging inanely at the camera lens whist a kaleidoscope of car chases, explosions & fire fights break out around them is a genuinely rare treat, but it does actually happen in this film.<br /><br />This brings me to the final reason that this is a film for the imaginative thinker & not the spoon-fed tabloid reader - Apart from a solid script, direction & acting, it relies on atmosphere, suspense & implied horror. If it is to be categorized as horror then the presentation of 'Paper House' is more in the vein of Sophocles than Tobe Hooper.<br /><br />In conclusion then, if you like lots of loud noises, explosions, constant cuts, & bright flashing colours you'd be better off watching 'Transformers', but if you like a suspenseful story which unfolds through a skillful & evocative use of narrative without insulting your intelligence by force feeding you cacophonous nonsense then this might just be your thing.\",\n",
       "       b\"I LOVED this movie! I am biased seeing as I am a huge Disney fan, but I really enjoyed myself. The action takes off running in the beginning of the film and just keeps going! This is a bit of a departure for Disney, they don't spend quite as much time on character development (my husband pointed this out)and there are no musical numbers. It is strictly action adventure. I thoroughly enjoyed it and recommend it to anyone who loves Disney, be they young or old.\",\n",
       "       b\"Clint Eastwood reprises his role as Dirty Harry who this time is on the case of a vigilante (Sondra Locke)who is killing the people that raped her and her sister at a carnival many years ago. Eastwood makes the role his and the movie is mainly more action then talk, not that I'm complaining. Sudden Impact is indeed enjoyable entertainment.\",\n",
       "       b\"Successful self-made married businessman Harry Mitchell (a superbly steely performance by Roy Scheider) has an adulteress fling with sweet'n'sexy young stripper Cini (the gorgeous Kelly Preston). Harry's blackmailed by a trio of scummy low-life hoods -- sleazy porno theater manager Raimy (a splendidly slimy John Glover), antsy strip joint owner Leo (well played by Robert Trebor) and crazed pimp Bobby Shy (a frightfully intense Clarence Williams III) -- who have videotaped his affair with Cini. When Harry refuses to pay up, the hoods kill Cini and make it look like Harry did it. This in turn ignites a dangerous battle of wit and wills between Harry and the hoods. Director John Frankenheimer, adopting a tough script based on Elmore Leonard's gritty crime thriller novel, expertly maintains a steady snappy pace, delivers plenty of gripping tension, and effectively creates a compellingly seedy'n'sordid atmosphere. The leads are all uniformly excellent, with stand-out supporting turns by Ann-Margret as Harry's bitter neglected wife Barbara, Vanity as brash jaded prostitute Doreen, and Lonny Chapman as Harry's loyal business partner Jim O'Boyle. The tight'n'twisty plot keeps viewers on their toes throughout. The wickedly profane dialogue, Jost Vacano's glossy cinematography, Gary Chang's stirring score, the harshly amoral tone and the rousing conclusion are all likewise on the money as well. As an added bonus, both Vanity and Preston take their clothes off. A very strong and satisfying little number that's well worth checking out.\",\n",
       "       b\"There's nothing new here. All the standard romantic-comedy scenes, even down to the taxi sprinting to the airport to stop the woman flying away. The only thing that saves this is the acting of Alison Eastwood & some of the minor characters (blink and you'll miss Gabrielle Anwar), who obviously had some fun.<br /><br />Turn it off when the pair are in bliss, and you won't have to go through the inevitable plot pain.\",\n",
       "       b\"This is the only movie I've seen Prince in but it don't matter. And I thought he was only great at singing boy was I wrong. This is probably his best performance. The music is great. Thats why it won the Oscar in 1984 for best music to a movie (or something like that). Now he has an Oscar and Grammies under his belt. Although the cursing gets in the way with the film (just make sure no little kids or in the room). There isn't to much to say without revealing the plot. You should really go out and get this movie your collection isn't complete unless you got this movie in it. What else could I possibly say except for go and get this movie now!\",\n",
       "       b\"Serum starts as Eddie (Derek Phillips) is delighted to learn he has been accepted into medical school to carry on the family tradition of becoming an MD like his father Richard (Dennis O'Neill) & his uncle Eddie (David H. Hickey), however his joy could be short lived as Eddie is involved in an accident & is run over by a car. Taken to the nearest hospital it doesn't look good for poor Eddie so his uncle Eddie convinces his brother Richard to let him save Eddie with the serum he has developed, a serum which will give the recipient the power to self heal any sort of wound or illness. Desperate for his boy to live Richard agrees but the procedure has unwanted side effects like turning Eddie into a brain eating zombie which is just not a good thing...<br /><br />Executive produced, written & directed by Steve Franke I'll be perfectly frank myself & say Serum is awful, Serum is one of those no budget horror films which tries to rip-off other any number of other's & ends up being slightly more fun than having you fingernails pulled out with pliers. The script is terrible, it has the whole Re-Animator (1985) feel to it with mad scientists wielding huge syringes trying to eradicate death but it's so boring it's untrue, the first forty minutes is nothing more than a really dull soap opera that amounts to nothing expect to pad the running time out with Eddie arriving home after spending some time away & finding his ex-girlfriend has hooked up with someone else, arguments with his step-mom, getting drunk with his mate & generally boring the audience stiff. So, once the tedium of the first forty minutes is over & if your still watching it it takes another twenty minutes to get Eddie re-animated & then he kills a couple of people, police catch up with him & shoot him, the end. Thank god. Serum is devoid of any of the characteristic's that one would associate with a good film, the character's suck, the dialogue is poor, it takes itself far too seriously, it's dull, it's slow, it's forgettable & considering it's meant to be a horror film there's an alarming lack of blood, gore or horror. Not recommended, did I mention Serum was boring? I thought so.<br /><br />Director Franke does nothing to liven this thing up, although competent there's no style here at all. The gore levels are none existent, there's a bit of splashed blood, a bitten neck, a couple of scars on a dead woman's face, a couple of scenes where a needle pierces skin & that's it. Don't expect a Re-Animator in the gore department because if you do your going to be sorely disappointed, much like I was in fact. Filmed in what looks like one house, one restaurant & a lab the film has no variety either & just looks cheap throughout. There's a couple of scenes of nudity but that's nowhere near enough to save it.<br /><br />Technically the film isn't too bad, at least it looks like proper cameras were used, I can't really comment on the special effects because there aren't any but generally speaking Serum looks reasonably professional. Apparently shot in Texas, or should that read it should have literally been shot in Texas? The acting sucks although again I think they were proper actor's rather than friends or family of the director.<br /><br />Serum is a terrible film, it's dull, slow, boring, has no gore & feels like a horrible soap opera for the first forty minutes. I don't understand why anyone would feel the need to watch this when they can watch Re-Animator or one of it's sequels again instead, seriously I recommend you give Serum a miss. There I've just saved you from wasting 90 minutes of your life, you can thank me later.\",\n",
       "       b'Dev Anand (or Prashant) and Zeenat Aman ( Jasbir/Janice) are siblings brought up in single parent families. Jasbir (the sister) grows up in an affluent environment but this is not enough to lead her to reject her life and ultimately join a hippie movement that eventually leads her to drugs. Prashant (the brother) on the other hand grows up in a less affluent environment but grows up to be a matured gentleman. The story marks Prashant making efforts to save his little sister (who is perpetually in a trance) from a hostile hippie environment. This movie stands the test of time, commenting that cults and hippie groups are a place for those who give up on their lives when they should instead stand up and be counted in the face of adversity. Great music compositions in this movie that mean different things in different situations and to different people, and the director brings forth an eerie feeling to it.',\n",
       "       b'As a \"Jane Eyre\" fan I was excited when this movie came out. \"At last,\" I thought, \"someone will make this book into a movie following the story actually written by the author.\" Wrong!!! If the casting director was intending to cast a \"Jane\" who was plain he certainly succeeded. However, surely he could have found one who could also act. Where was the tension between Jane and Rochester? Where was the spooky suspense of the novel when the laughter floated into the night seemingly from nowhere? Where was the sparkle of the child who flirted and danced like her mother? Finally, why was the plot changed at the end? One wonders whether the screenwriters had actually read the book. What a disappointment',\n",
       "       b\"What a joke. I am watching it on Channel 1 and I think watching paint dry is much more entertaining. What happened to Caspar Van Dien that got him roped into this nightmare. Terrible acting, very boring plot and terrible direction. It so terrible, it's funny. It's suppose to be full of suspense, but it more a comedy. If you want to see terrible acting, ridiculous script writing and sub-par plot, check this movie out. If I was Van Dien, I would not only ask for my 10% from my agent, but fire the bastard in the process. What a turkey. It's not even fit to be on MST 3K!! It would be a good movie to cure you insomnia. I especially love the part where Van Dien is throw overboard and then makes it back in just a few minutes! I can only image that this was written by non-union writers taking advantage of the writer's strike. What a horrible movie!!!\",\n",
       "       b'This is one of the worst movies i have seen to date, the best part was Christian J. Meoli \"Leonard\" attempting to act jumping up and down outside the bar, kind-of like i wanted to do on the DVD, to spare the rest of humanity the agony of watching this shitty film. It has a great cast so you keep watching waiting for it to get good, i mean with Sean Astin \"Andrew\" (played his part perfectly, did a great job, too bad it was in this film), Kyra Sedgwick \"Bevan\", Ron Livingston \"Chad\", Ren\\xc3\\xa9e Zellweger \"Poet\" (they put her name on the cover she has a total of 1 line and less then 4 seconds in the whole movie...<br /><br />If the cast had any dignity, they would go out and buy all the copies of this film and burn them along with Writer / Director George Hickenlooper and Writer John Enbom'],\n",
       "      dtype=object)>"
      ]
     },
     "execution_count": 33,
     "metadata": {},
     "output_type": "execute_result"
    }
   ],
   "source": [
    "a"
   ]
  },
  {
   "cell_type": "code",
   "execution_count": 34,
   "id": "0995ded0-d6c7-49bf-b97d-13e1402ab25a",
   "metadata": {},
   "outputs": [],
   "source": [
    "def vectorize_text(text, label):\n",
    "    text = tf.expand_dims(text, -1)\n",
    "    return vectorize_layer(text), label\n",
    "\n",
    "\n",
    "# Vectorize the data.\n",
    "train_ds = raw_train_ds.map(vectorize_text)\n",
    "val_ds = raw_val_ds.map(vectorize_text)\n",
    "test_ds = raw_test_ds.map(vectorize_text)"
   ]
  },
  {
   "cell_type": "code",
   "execution_count": 35,
   "id": "136d98ba-58a5-465e-9839-0c3823592ed8",
   "metadata": {},
   "outputs": [],
   "source": [
    "a,b = next(iter(train_ds))"
   ]
  },
  {
   "cell_type": "code",
   "execution_count": 36,
   "id": "46c3aef9-6714-4f06-8c20-31a2303adb2a",
   "metadata": {
    "scrolled": true
   },
   "outputs": [
    {
     "data": {
      "text/plain": [
       "<tf.Tensor: shape=(500,), dtype=int64, numpy=\n",
       "array([   11,     7,   238,   157,     1, 14136, 13579,    19,    10,\n",
       "         235,    21,   241,   131,    27,    44,    11,  3191,     6,\n",
       "         120,   528,     1,     3,     1,  5493,     6,     2,  1350,\n",
       "           1,   310,    18,    10,   162,    46,     5,   143,   134,\n",
       "          63,  2217,   652,   158,     9,     7,     4,   320,   395,\n",
       "         264,   290,    32, 13579,   115,    27,   270,     2,    61,\n",
       "           5,    33,   708,  2631,   247,    32,   989,   712,     8,\n",
       "           2,   784,    19,   428,  2043,     1,    47,   155,    11,\n",
       "          17,   263,     7,    12,     9,    75,  2831,     2,   518,\n",
       "           5,    78,    12,    11,  2631,     1,    16,    41,     7,\n",
       "         337,    16,   138,    14,    39,     1,    39,  5590,    19,\n",
       "         377,  3903,   932,    78,     3,   365,  2576,     8,     2,\n",
       "         708,     1,     8,    39,  3588,  6893,     9,     7,   157,\n",
       "          49,   229,    37,  2043,     1,    56,     7,  1285,     6,\n",
       "          26,  1812,    15,    11,   204,    56,   121, 13876,   558,\n",
       "          18,  2970,     8,    95,    56,     7, 10075,     1,     3,\n",
       "         324,   288,     8,    11,    19,    18,    92,   708,  9238,\n",
       "          24,    21,   412,     6, 16465,     2,    78,    34,  1100,\n",
       "         202,  7026, 14136,    44,   209,    54,    16,   157,    49,\n",
       "          17,    12,   875,  1042,  1315,     6,     2, 16629,    51,\n",
       "        1655,   191,    11,    17,  2106,  1069,     3,    28,     7,\n",
       "          21,   241,    47,     2,   173,     7,   261,     6,  2892,\n",
       "           7,    27,   261,     6,   120,   169,     2, 11774,     3,\n",
       "       11189,     5,     2,   932,    78,    41,     7,    27,   261,\n",
       "           6,   120,   169,     2,   117,     5,    33,   708,  2631,\n",
       "           3,  9073,    12,    16,     2,   117,     5,     2,   145,\n",
       "         851,  2631,     7,    27,   261,     6,   355,   169,    86,\n",
       "           2,  1370,     3,   932,  1584,  2383,     2,  3154,    41,\n",
       "           7,    27,   261,     6,  8341,     2,  1315,    16,   528,\n",
       "        2627,     3,     1,  3917,     2,    82,  5493,   775,  2639,\n",
       "        1498,     2,     1,  2383,    12,   182,   391,    25,     6,\n",
       "        1694,    16,   656,    41,  5850,    43,    34,   591,     6,\n",
       "        2712,  2716,     8,  1533,    27,  2355,    42,    86,  3398,\n",
       "       11977,    77,  1219,     3,  1457,     5,    67,  2728,    99,\n",
       "           4,   133,     3,  4332,     6,  1499,  9302,    32,  9719,\n",
       "          72,  9419,    78,   543,    27,    75,  2355,    42,  4243,\n",
       "         391,     3,  9201,   345,     8,   932,  1989,    11,    13,\n",
       "          31,   841,    15,    69,    18,   226,    26,   100,  1266,\n",
       "          15,    33,   877, 15222,    35,    40,   500,     6, 11004,\n",
       "          46,  3835,    37,   255,     6,   255,   153,     0,     0,\n",
       "           0,     0,     0,     0,     0,     0,     0,     0,     0,\n",
       "           0,     0,     0,     0,     0,     0,     0,     0,     0,\n",
       "           0,     0,     0,     0,     0,     0,     0,     0,     0,\n",
       "           0,     0,     0,     0,     0,     0,     0,     0,     0,\n",
       "           0,     0,     0,     0,     0,     0,     0,     0,     0,\n",
       "           0,     0,     0,     0,     0,     0,     0,     0,     0,\n",
       "           0,     0,     0,     0,     0,     0,     0,     0,     0,\n",
       "           0,     0,     0,     0,     0,     0,     0,     0,     0,\n",
       "           0,     0,     0,     0,     0,     0,     0,     0,     0,\n",
       "           0,     0,     0,     0,     0,     0,     0,     0,     0,\n",
       "           0,     0,     0,     0,     0,     0,     0,     0,     0,\n",
       "           0,     0,     0,     0,     0,     0,     0,     0,     0,\n",
       "           0,     0,     0,     0,     0,     0,     0,     0,     0,\n",
       "           0,     0,     0,     0,     0,     0,     0,     0,     0,\n",
       "           0,     0,     0,     0,     0,     0,     0,     0,     0,\n",
       "           0,     0,     0,     0,     0])>"
      ]
     },
     "execution_count": 36,
     "metadata": {},
     "output_type": "execute_result"
    }
   ],
   "source": [
    "a[0]"
   ]
  },
  {
   "cell_type": "code",
   "execution_count": 37,
   "id": "fc934cb6-eb2d-40ec-9923-49a1de89084f",
   "metadata": {},
   "outputs": [],
   "source": [
    "train_ds = train_ds.cache().prefetch(buffer_size=10)\n",
    "val_ds = val_ds.cache().prefetch(buffer_size=10)\n",
    "test_ds = test_ds.cache().prefetch(buffer_size=10)"
   ]
  },
  {
   "cell_type": "code",
   "execution_count": 38,
   "id": "88766357-d1f2-4109-a848-bcb150b4d402",
   "metadata": {},
   "outputs": [],
   "source": [
    "# A integer input for vocab indices.\n",
    "inputs = keras.Input(shape=(None,), dtype=\"int64\")\n",
    "\n",
    "# Next, we add a layer to map those vocab indices into a space of dimensionality\n",
    "# 'embedding_dim'.\n",
    "x = layers.Embedding(20000,128)(inputs)\n",
    "x = layers.Dropout(0.5)(x)\n",
    "\n",
    "# Conv1D + global max pooling\n",
    "x = layers.Conv1D(128, 7, padding=\"valid\", activation=\"relu\", strides=3)(x)\n",
    "x = layers.Conv1D(128, 7, padding=\"valid\", activation=\"relu\", strides=3)(x)\n",
    "x = layers.GlobalMaxPooling1D()(x)\n",
    "\n",
    "# We add a vanilla hidden layer:\n",
    "x = layers.Dense(128, activation=\"relu\")(x)\n",
    "x = layers.Dropout(0.5)(x)\n",
    "\n",
    "# We project onto a single unit output layer, and squash it with a sigmoid:\n",
    "predictions = layers.Dense(1, activation=\"sigmoid\", name=\"predictions\")(x)\n",
    "\n",
    "model = keras.Model(inputs, predictions)\n",
    "\n",
    "# Compile the model with binary crossentropy loss and an adam optimizer.\n",
    "model.compile(loss=\"binary_crossentropy\", optimizer=\"adam\", metrics=[\"accuracy\"])"
   ]
  },
  {
   "cell_type": "code",
   "execution_count": 39,
   "id": "38dcbe71-5eaa-4539-bcc1-3c5cc5915fa0",
   "metadata": {},
   "outputs": [
    {
     "data": {
      "text/html": [
       "<pre style=\"white-space:pre;overflow-x:auto;line-height:normal;font-family:Menlo,'DejaVu Sans Mono',consolas,'Courier New',monospace\"><span style=\"font-weight: bold\">Model: \"functional_1\"</span>\n",
       "</pre>\n"
      ],
      "text/plain": [
       "\u001b[1mModel: \"functional_1\"\u001b[0m\n"
      ]
     },
     "metadata": {},
     "output_type": "display_data"
    },
    {
     "data": {
      "text/html": [
       "<pre style=\"white-space:pre;overflow-x:auto;line-height:normal;font-family:Menlo,'DejaVu Sans Mono',consolas,'Courier New',monospace\">┏━━━━━━━━━━━━━━━━━━━━━━━━━━━━━━━━━┳━━━━━━━━━━━━━━━━━━━━━━━━━━━┳━━━━━━━━━━━━┓\n",
       "┃<span style=\"font-weight: bold\"> Layer (type)                    </span>┃<span style=\"font-weight: bold\"> Output Shape              </span>┃<span style=\"font-weight: bold\">    Param # </span>┃\n",
       "┡━━━━━━━━━━━━━━━━━━━━━━━━━━━━━━━━━╇━━━━━━━━━━━━━━━━━━━━━━━━━━━╇━━━━━━━━━━━━┩\n",
       "│ input_layer (<span style=\"color: #0087ff; text-decoration-color: #0087ff\">InputLayer</span>)        │ (<span style=\"color: #00d7ff; text-decoration-color: #00d7ff\">None</span>, <span style=\"color: #00d7ff; text-decoration-color: #00d7ff\">None</span>)              │          <span style=\"color: #00af00; text-decoration-color: #00af00\">0</span> │\n",
       "├─────────────────────────────────┼───────────────────────────┼────────────┤\n",
       "│ embedding (<span style=\"color: #0087ff; text-decoration-color: #0087ff\">Embedding</span>)           │ (<span style=\"color: #00d7ff; text-decoration-color: #00d7ff\">None</span>, <span style=\"color: #00d7ff; text-decoration-color: #00d7ff\">None</span>, <span style=\"color: #00af00; text-decoration-color: #00af00\">128</span>)         │  <span style=\"color: #00af00; text-decoration-color: #00af00\">2,560,000</span> │\n",
       "├─────────────────────────────────┼───────────────────────────┼────────────┤\n",
       "│ dropout (<span style=\"color: #0087ff; text-decoration-color: #0087ff\">Dropout</span>)               │ (<span style=\"color: #00d7ff; text-decoration-color: #00d7ff\">None</span>, <span style=\"color: #00d7ff; text-decoration-color: #00d7ff\">None</span>, <span style=\"color: #00af00; text-decoration-color: #00af00\">128</span>)         │          <span style=\"color: #00af00; text-decoration-color: #00af00\">0</span> │\n",
       "├─────────────────────────────────┼───────────────────────────┼────────────┤\n",
       "│ conv1d (<span style=\"color: #0087ff; text-decoration-color: #0087ff\">Conv1D</span>)                 │ (<span style=\"color: #00d7ff; text-decoration-color: #00d7ff\">None</span>, <span style=\"color: #00d7ff; text-decoration-color: #00d7ff\">None</span>, <span style=\"color: #00af00; text-decoration-color: #00af00\">128</span>)         │    <span style=\"color: #00af00; text-decoration-color: #00af00\">114,816</span> │\n",
       "├─────────────────────────────────┼───────────────────────────┼────────────┤\n",
       "│ conv1d_1 (<span style=\"color: #0087ff; text-decoration-color: #0087ff\">Conv1D</span>)               │ (<span style=\"color: #00d7ff; text-decoration-color: #00d7ff\">None</span>, <span style=\"color: #00d7ff; text-decoration-color: #00d7ff\">None</span>, <span style=\"color: #00af00; text-decoration-color: #00af00\">128</span>)         │    <span style=\"color: #00af00; text-decoration-color: #00af00\">114,816</span> │\n",
       "├─────────────────────────────────┼───────────────────────────┼────────────┤\n",
       "│ global_max_pooling1d            │ (<span style=\"color: #00d7ff; text-decoration-color: #00d7ff\">None</span>, <span style=\"color: #00af00; text-decoration-color: #00af00\">128</span>)               │          <span style=\"color: #00af00; text-decoration-color: #00af00\">0</span> │\n",
       "│ (<span style=\"color: #0087ff; text-decoration-color: #0087ff\">GlobalMaxPooling1D</span>)            │                           │            │\n",
       "├─────────────────────────────────┼───────────────────────────┼────────────┤\n",
       "│ dense (<span style=\"color: #0087ff; text-decoration-color: #0087ff\">Dense</span>)                   │ (<span style=\"color: #00d7ff; text-decoration-color: #00d7ff\">None</span>, <span style=\"color: #00af00; text-decoration-color: #00af00\">128</span>)               │     <span style=\"color: #00af00; text-decoration-color: #00af00\">16,512</span> │\n",
       "├─────────────────────────────────┼───────────────────────────┼────────────┤\n",
       "│ dropout_1 (<span style=\"color: #0087ff; text-decoration-color: #0087ff\">Dropout</span>)             │ (<span style=\"color: #00d7ff; text-decoration-color: #00d7ff\">None</span>, <span style=\"color: #00af00; text-decoration-color: #00af00\">128</span>)               │          <span style=\"color: #00af00; text-decoration-color: #00af00\">0</span> │\n",
       "├─────────────────────────────────┼───────────────────────────┼────────────┤\n",
       "│ predictions (<span style=\"color: #0087ff; text-decoration-color: #0087ff\">Dense</span>)             │ (<span style=\"color: #00d7ff; text-decoration-color: #00d7ff\">None</span>, <span style=\"color: #00af00; text-decoration-color: #00af00\">1</span>)                 │        <span style=\"color: #00af00; text-decoration-color: #00af00\">129</span> │\n",
       "└─────────────────────────────────┴───────────────────────────┴────────────┘\n",
       "</pre>\n"
      ],
      "text/plain": [
       "┏━━━━━━━━━━━━━━━━━━━━━━━━━━━━━━━━━┳━━━━━━━━━━━━━━━━━━━━━━━━━━━┳━━━━━━━━━━━━┓\n",
       "┃\u001b[1m \u001b[0m\u001b[1mLayer (type)                   \u001b[0m\u001b[1m \u001b[0m┃\u001b[1m \u001b[0m\u001b[1mOutput Shape             \u001b[0m\u001b[1m \u001b[0m┃\u001b[1m \u001b[0m\u001b[1m   Param #\u001b[0m\u001b[1m \u001b[0m┃\n",
       "┡━━━━━━━━━━━━━━━━━━━━━━━━━━━━━━━━━╇━━━━━━━━━━━━━━━━━━━━━━━━━━━╇━━━━━━━━━━━━┩\n",
       "│ input_layer (\u001b[38;5;33mInputLayer\u001b[0m)        │ (\u001b[38;5;45mNone\u001b[0m, \u001b[38;5;45mNone\u001b[0m)              │          \u001b[38;5;34m0\u001b[0m │\n",
       "├─────────────────────────────────┼───────────────────────────┼────────────┤\n",
       "│ embedding (\u001b[38;5;33mEmbedding\u001b[0m)           │ (\u001b[38;5;45mNone\u001b[0m, \u001b[38;5;45mNone\u001b[0m, \u001b[38;5;34m128\u001b[0m)         │  \u001b[38;5;34m2,560,000\u001b[0m │\n",
       "├─────────────────────────────────┼───────────────────────────┼────────────┤\n",
       "│ dropout (\u001b[38;5;33mDropout\u001b[0m)               │ (\u001b[38;5;45mNone\u001b[0m, \u001b[38;5;45mNone\u001b[0m, \u001b[38;5;34m128\u001b[0m)         │          \u001b[38;5;34m0\u001b[0m │\n",
       "├─────────────────────────────────┼───────────────────────────┼────────────┤\n",
       "│ conv1d (\u001b[38;5;33mConv1D\u001b[0m)                 │ (\u001b[38;5;45mNone\u001b[0m, \u001b[38;5;45mNone\u001b[0m, \u001b[38;5;34m128\u001b[0m)         │    \u001b[38;5;34m114,816\u001b[0m │\n",
       "├─────────────────────────────────┼───────────────────────────┼────────────┤\n",
       "│ conv1d_1 (\u001b[38;5;33mConv1D\u001b[0m)               │ (\u001b[38;5;45mNone\u001b[0m, \u001b[38;5;45mNone\u001b[0m, \u001b[38;5;34m128\u001b[0m)         │    \u001b[38;5;34m114,816\u001b[0m │\n",
       "├─────────────────────────────────┼───────────────────────────┼────────────┤\n",
       "│ global_max_pooling1d            │ (\u001b[38;5;45mNone\u001b[0m, \u001b[38;5;34m128\u001b[0m)               │          \u001b[38;5;34m0\u001b[0m │\n",
       "│ (\u001b[38;5;33mGlobalMaxPooling1D\u001b[0m)            │                           │            │\n",
       "├─────────────────────────────────┼───────────────────────────┼────────────┤\n",
       "│ dense (\u001b[38;5;33mDense\u001b[0m)                   │ (\u001b[38;5;45mNone\u001b[0m, \u001b[38;5;34m128\u001b[0m)               │     \u001b[38;5;34m16,512\u001b[0m │\n",
       "├─────────────────────────────────┼───────────────────────────┼────────────┤\n",
       "│ dropout_1 (\u001b[38;5;33mDropout\u001b[0m)             │ (\u001b[38;5;45mNone\u001b[0m, \u001b[38;5;34m128\u001b[0m)               │          \u001b[38;5;34m0\u001b[0m │\n",
       "├─────────────────────────────────┼───────────────────────────┼────────────┤\n",
       "│ predictions (\u001b[38;5;33mDense\u001b[0m)             │ (\u001b[38;5;45mNone\u001b[0m, \u001b[38;5;34m1\u001b[0m)                 │        \u001b[38;5;34m129\u001b[0m │\n",
       "└─────────────────────────────────┴───────────────────────────┴────────────┘\n"
      ]
     },
     "metadata": {},
     "output_type": "display_data"
    },
    {
     "data": {
      "text/html": [
       "<pre style=\"white-space:pre;overflow-x:auto;line-height:normal;font-family:Menlo,'DejaVu Sans Mono',consolas,'Courier New',monospace\"><span style=\"font-weight: bold\"> Total params: </span><span style=\"color: #00af00; text-decoration-color: #00af00\">2,806,273</span> (10.71 MB)\n",
       "</pre>\n"
      ],
      "text/plain": [
       "\u001b[1m Total params: \u001b[0m\u001b[38;5;34m2,806,273\u001b[0m (10.71 MB)\n"
      ]
     },
     "metadata": {},
     "output_type": "display_data"
    },
    {
     "data": {
      "text/html": [
       "<pre style=\"white-space:pre;overflow-x:auto;line-height:normal;font-family:Menlo,'DejaVu Sans Mono',consolas,'Courier New',monospace\"><span style=\"font-weight: bold\"> Trainable params: </span><span style=\"color: #00af00; text-decoration-color: #00af00\">2,806,273</span> (10.71 MB)\n",
       "</pre>\n"
      ],
      "text/plain": [
       "\u001b[1m Trainable params: \u001b[0m\u001b[38;5;34m2,806,273\u001b[0m (10.71 MB)\n"
      ]
     },
     "metadata": {},
     "output_type": "display_data"
    },
    {
     "data": {
      "text/html": [
       "<pre style=\"white-space:pre;overflow-x:auto;line-height:normal;font-family:Menlo,'DejaVu Sans Mono',consolas,'Courier New',monospace\"><span style=\"font-weight: bold\"> Non-trainable params: </span><span style=\"color: #00af00; text-decoration-color: #00af00\">0</span> (0.00 B)\n",
       "</pre>\n"
      ],
      "text/plain": [
       "\u001b[1m Non-trainable params: \u001b[0m\u001b[38;5;34m0\u001b[0m (0.00 B)\n"
      ]
     },
     "metadata": {},
     "output_type": "display_data"
    }
   ],
   "source": [
    "model.summary()"
   ]
  },
  {
   "cell_type": "code",
   "execution_count": 40,
   "id": "0a8e4fdb-5a46-40a0-9892-14ae4991f05c",
   "metadata": {},
   "outputs": [
    {
     "name": "stdout",
     "output_type": "stream",
     "text": [
      "Epoch 1/15\n"
     ]
    },
    {
     "name": "stderr",
     "output_type": "stream",
     "text": [
      "2024-05-15 14:22:29.171309: I external/local_xla/xla/service/service.cc:168] XLA service 0x2f4470c0 initialized for platform CUDA (this does not guarantee that XLA will be used). Devices:\n",
      "2024-05-15 14:22:29.171324: I external/local_xla/xla/service/service.cc:176]   StreamExecutor device (0): NVIDIA RTX A4000, Compute Capability 8.6\n",
      "2024-05-15 14:22:29.194034: I tensorflow/compiler/mlir/tensorflow/utils/dump_mlir_util.cc:269] disabling MLIR crash reproducer, set env var `MLIR_CRASH_REPRODUCER_DIRECTORY` to enable.\n",
      "2024-05-15 14:22:30.280219: I external/local_xla/xla/stream_executor/cuda/cuda_dnn.cc:454] Loaded cuDNN version 8902\n"
     ]
    },
    {
     "name": "stdout",
     "output_type": "stream",
     "text": [
      "\u001b[1m 66/391\u001b[0m \u001b[32m━━━\u001b[0m\u001b[37m━━━━━━━━━━━━━━━━━\u001b[0m \u001b[1m0s\u001b[0m 2ms/step - accuracy: 0.5018 - loss: 0.6960"
     ]
    },
    {
     "name": "stderr",
     "output_type": "stream",
     "text": [
      "WARNING: All log messages before absl::InitializeLog() is called are written to STDERR\n",
      "I0000 00:00:1715775752.866379    6059 device_compiler.h:186] Compiled cluster using XLA!  This line is logged at most once for the lifetime of the process.\n"
     ]
    },
    {
     "name": "stdout",
     "output_type": "stream",
     "text": [
      "\u001b[1m391/391\u001b[0m \u001b[32m━━━━━━━━━━━━━━━━━━━━\u001b[0m\u001b[37m\u001b[0m \u001b[1m8s\u001b[0m 9ms/step - accuracy: 0.5498 - loss: 0.6591 - val_accuracy: 0.8544 - val_loss: 0.3418\n",
      "Epoch 2/15\n",
      "\u001b[1m391/391\u001b[0m \u001b[32m━━━━━━━━━━━━━━━━━━━━\u001b[0m\u001b[37m\u001b[0m \u001b[1m1s\u001b[0m 4ms/step - accuracy: 0.8580 - loss: 0.3283 - val_accuracy: 0.8515 - val_loss: 0.3998\n",
      "Epoch 3/15\n",
      "\u001b[1m391/391\u001b[0m \u001b[32m━━━━━━━━━━━━━━━━━━━━\u001b[0m\u001b[37m\u001b[0m \u001b[1m2s\u001b[0m 6ms/step - accuracy: 0.9479 - loss: 0.1470 - val_accuracy: 0.8296 - val_loss: 0.4924\n",
      "Epoch 4/15\n",
      "\u001b[1m391/391\u001b[0m \u001b[32m━━━━━━━━━━━━━━━━━━━━\u001b[0m\u001b[37m\u001b[0m \u001b[1m2s\u001b[0m 5ms/step - accuracy: 0.9772 - loss: 0.0698 - val_accuracy: 0.8630 - val_loss: 0.5386\n",
      "Epoch 5/15\n",
      "\u001b[1m391/391\u001b[0m \u001b[32m━━━━━━━━━━━━━━━━━━━━\u001b[0m\u001b[37m\u001b[0m \u001b[1m2s\u001b[0m 6ms/step - accuracy: 0.9880 - loss: 0.0361 - val_accuracy: 0.8419 - val_loss: 0.7188\n",
      "Epoch 6/15\n",
      "\u001b[1m391/391\u001b[0m \u001b[32m━━━━━━━━━━━━━━━━━━━━\u001b[0m\u001b[37m\u001b[0m \u001b[1m2s\u001b[0m 6ms/step - accuracy: 0.9867 - loss: 0.0372 - val_accuracy: 0.8527 - val_loss: 0.7703\n",
      "Epoch 7/15\n",
      "\u001b[1m391/391\u001b[0m \u001b[32m━━━━━━━━━━━━━━━━━━━━\u001b[0m\u001b[37m\u001b[0m \u001b[1m3s\u001b[0m 7ms/step - accuracy: 0.9918 - loss: 0.0269 - val_accuracy: 0.8603 - val_loss: 0.6919\n",
      "Epoch 8/15\n",
      "\u001b[1m391/391\u001b[0m \u001b[32m━━━━━━━━━━━━━━━━━━━━\u001b[0m\u001b[37m\u001b[0m \u001b[1m2s\u001b[0m 6ms/step - accuracy: 0.9905 - loss: 0.0247 - val_accuracy: 0.8619 - val_loss: 0.7197\n",
      "Epoch 9/15\n",
      "\u001b[1m391/391\u001b[0m \u001b[32m━━━━━━━━━━━━━━━━━━━━\u001b[0m\u001b[37m\u001b[0m \u001b[1m3s\u001b[0m 6ms/step - accuracy: 0.9923 - loss: 0.0206 - val_accuracy: 0.8600 - val_loss: 0.6680\n",
      "Epoch 10/15\n",
      "\u001b[1m391/391\u001b[0m \u001b[32m━━━━━━━━━━━━━━━━━━━━\u001b[0m\u001b[37m\u001b[0m \u001b[1m2s\u001b[0m 5ms/step - accuracy: 0.9922 - loss: 0.0228 - val_accuracy: 0.8585 - val_loss: 0.7675\n",
      "Epoch 11/15\n",
      "\u001b[1m391/391\u001b[0m \u001b[32m━━━━━━━━━━━━━━━━━━━━\u001b[0m\u001b[37m\u001b[0m \u001b[1m2s\u001b[0m 4ms/step - accuracy: 0.9964 - loss: 0.0079 - val_accuracy: 0.8571 - val_loss: 0.9598\n",
      "Epoch 12/15\n",
      "\u001b[1m391/391\u001b[0m \u001b[32m━━━━━━━━━━━━━━━━━━━━\u001b[0m\u001b[37m\u001b[0m \u001b[1m2s\u001b[0m 5ms/step - accuracy: 0.9957 - loss: 0.0129 - val_accuracy: 0.8570 - val_loss: 0.9110\n",
      "Epoch 13/15\n",
      "\u001b[1m391/391\u001b[0m \u001b[32m━━━━━━━━━━━━━━━━━━━━\u001b[0m\u001b[37m\u001b[0m \u001b[1m2s\u001b[0m 6ms/step - accuracy: 0.9972 - loss: 0.0086 - val_accuracy: 0.8461 - val_loss: 1.1181\n",
      "Epoch 14/15\n",
      "\u001b[1m391/391\u001b[0m \u001b[32m━━━━━━━━━━━━━━━━━━━━\u001b[0m\u001b[37m\u001b[0m \u001b[1m3s\u001b[0m 7ms/step - accuracy: 0.9953 - loss: 0.0146 - val_accuracy: 0.8563 - val_loss: 0.9508\n",
      "Epoch 15/15\n",
      "\u001b[1m391/391\u001b[0m \u001b[32m━━━━━━━━━━━━━━━━━━━━\u001b[0m\u001b[37m\u001b[0m \u001b[1m2s\u001b[0m 6ms/step - accuracy: 0.9957 - loss: 0.0126 - val_accuracy: 0.8449 - val_loss: 1.0999\n"
     ]
    },
    {
     "data": {
      "text/plain": [
       "<keras.src.callbacks.history.History at 0x7faa86725290>"
      ]
     },
     "execution_count": 40,
     "metadata": {},
     "output_type": "execute_result"
    }
   ],
   "source": [
    "epochs = 15\n",
    "\n",
    "# Fit the model using the train and test datasets.\n",
    "model.fit(train_ds, validation_data=val_ds, epochs=epochs)"
   ]
  },
  {
   "cell_type": "code",
   "execution_count": 41,
   "id": "e6e6e225-5d51-49e6-a3f8-0b09d516bb7e",
   "metadata": {},
   "outputs": [
    {
     "name": "stdout",
     "output_type": "stream",
     "text": [
      "\u001b[1m782/782\u001b[0m \u001b[32m━━━━━━━━━━━━━━━━━━━━\u001b[0m\u001b[37m\u001b[0m \u001b[1m1s\u001b[0m 1ms/step - accuracy: 0.8354 - loss: 1.1296\n"
     ]
    },
    {
     "data": {
      "text/plain": [
       "[1.1190568208694458, 0.8373161554336548]"
      ]
     },
     "execution_count": 41,
     "metadata": {},
     "output_type": "execute_result"
    }
   ],
   "source": [
    "model.evaluate(test_ds)"
   ]
  },
  {
   "cell_type": "markdown",
   "id": "4a7b136d-a2d0-41b0-b593-a5ae1fc2719b",
   "metadata": {},
   "source": [
    "# Let's use a Transformer\n",
    "Transformer are based on the idea of attention"
   ]
  },
  {
   "cell_type": "markdown",
   "id": "a2ecbe0a-ecc0-4d12-bad5-298ec6fe9255",
   "metadata": {},
   "source": [
    "Understanding multi-head attention: The main idea behind multi-head attention is to split the attention mechanism into multiple \"heads.\" By doing this, the model can capture various aspects of the data in parallel."
   ]
  },
  {
   "cell_type": "markdown",
   "id": "a84c1e9d-df2b-4e5d-bac1-545e6eea6ea4",
   "metadata": {},
   "source": [
    "The Attention layer takes its input in the form of three parameters, known as the Query, Key, and Value."
   ]
  },
  {
   "cell_type": "markdown",
   "id": "f0fb3090-b826-4eb8-9838-594b4eda3c1a",
   "metadata": {},
   "source": [
    "$$Attention(Q,K,V) = Softmax(\\frac{QK^T}{\\sqrt(d_k)})*V$$"
   ]
  },
  {
   "cell_type": "markdown",
   "id": "37ee68a6-c69c-4de3-8c83-c707b6625b8c",
   "metadata": {},
   "source": [
    "The interaction between Queries, Keys, and Values happens as follows in the attention mechanism:\n",
    "\n",
    "- Scoring: Each query vector is scored against all key vectors using a dot product, which measures how much each element (represented by a query) should attend to every other element (represented by keys).\n",
    "\n",
    "- Scaling: The scores are then scaled down by the square root of the dimension of the key vectors to help stabilize the gradients during learning.\n",
    "- Softmax: A softmax function is applied to the scaled scores, converting them into probabilities that sum to one. This softmaxed score represents the attention weights.\n",
    "- Application: These attention weights are then used to create a weighted sum of the value vectors, which forms the output for each position in the input sequence."
   ]
  },
  {
   "cell_type": "markdown",
   "id": "d6f5540c-4cdb-42da-a095-c9a08d6f313a",
   "metadata": {},
   "source": [
    "Practically, values and keys are usually the same. In the case of self attention, Queries, Keys and Values are all the same. "
   ]
  },
  {
   "cell_type": "markdown",
   "id": "f041998c-6829-4922-bb14-193f1940333b",
   "metadata": {},
   "source": [
    "So where is the learning actually happening? In the dense layers (Linear) before the computation of attention."
   ]
  },
  {
   "attachments": {
    "2b991de1-312f-4362-bf66-64807c1d0933.png": {
     "image/png": "[encoded data removed]"
    }
   },
   "cell_type": "markdown",
   "id": "ef766385-8640-415d-be33-c4400bfc74cc",
   "metadata": {},
   "source": [
    "![multi-head-attention_l1A3G7a.png](attachment:2b991de1-312f-4362-bf66-64807c1d0933.png)"
   ]
  },
  {
   "cell_type": "code",
   "execution_count": 42,
   "id": "061b3b10-311b-41f6-88a5-4673436ca67a",
   "metadata": {},
   "outputs": [],
   "source": [
    "# A possible implementation of multi head attention\n",
    "import tensorflow as tf\n",
    "\n",
    "class MultiHeadAttention(tf.keras.layers.Layer):\n",
    "    def __init__(self, model_size, num_heads):\n",
    "        super(MultiHeadAttention, self).__init__()\n",
    "        self.num_heads = num_heads\n",
    "        self.model_size = model_size\n",
    "        \n",
    "        assert model_size % self.num_heads == 0  # Ensure the model size is divisible by number of heads\n",
    "        \n",
    "        self.depth = model_size // self.num_heads\n",
    "        \n",
    "        self.wq = tf.keras.layers.Dense(model_size)  # Weight matrices for queries\n",
    "        self.wk = tf.keras.layers.Dense(model_size)  # Weight matrices for keys\n",
    "        self.wv = tf.keras.layers.Dense(model_size)  # Weight matrices for values\n",
    "\n",
    "        self.dense = tf.keras.layers.Dense(model_size)  # Final dense layer after concatenation\n",
    "\n",
    "    def split_heads(self, x, batch_size):\n",
    "        #Split the last dimension into (num_heads, depth).\n",
    "        #Transpose the result such that the shape is (batch_size, num_heads, seq_len, depth)\n",
    "        \n",
    "        x = tf.reshape(x, (batch_size, -1, self.num_heads, self.depth))\n",
    "        return tf.transpose(x, perm=[0, 2, 1, 3])\n",
    "\n",
    "    def call(self, v, k, q):\n",
    "        batch_size = tf.shape(q)[0]\n",
    "        \n",
    "        q = self.wq(q)  # Linear projection\n",
    "        k = self.wk(k)\n",
    "        v = self.wv(v)\n",
    "\n",
    "        q = self.split_heads(q, batch_size)  # Split heads\n",
    "        k = self.split_heads(k, batch_size)\n",
    "        v = self.split_heads(v, batch_size)\n",
    "\n",
    "        # Scaled dot-product attention\n",
    "        matmul_qk = tf.matmul(q, k, transpose_b=True)\n",
    "        dk = tf.cast(tf.shape(k)[-1], tf.float32)\n",
    "        scaled_attention_logits = matmul_qk / tf.math.sqrt(dk)\n",
    "\n",
    "        # Apply the softmax is done on the last axis (seq_len_k) so that the scores add up to 1.\n",
    "        attention_weights = tf.nn.softmax(scaled_attention_logits, axis=-1)\n",
    "        \n",
    "        output = tf.matmul(attention_weights, v)  # (batch_size, num_heads, seq_len_q, depth)\n",
    "\n",
    "        output = tf.transpose(output, perm=[0, 2, 1, 3])  # (batch_size, seq_len_q, num_heads, depth)\n",
    "        concat_output = tf.reshape(output, (batch_size, -1, self.model_size))  # (batch_size, seq_len_q, model_size)\n",
    "        \n",
    "        output = self.dense(concat_output)  # Pass through the final dense layer\n",
    "        \n",
    "        return output\n"
   ]
  },
  {
   "cell_type": "code",
   "execution_count": 43,
   "id": "2423a5ad-015e-4f3d-b1ac-f885b589eb45",
   "metadata": {},
   "outputs": [],
   "source": [
    "class TransformerBlock(layers.Layer):\n",
    "    def __init__(self, embed_dim, num_heads, ff_dim, rate=0.1):\n",
    "        super().__init__()\n",
    "        self.att = layers.MultiHeadAttention(num_heads=num_heads, key_dim=embed_dim)\n",
    "        self.ffn = keras.Sequential(\n",
    "            [layers.Dense(ff_dim, activation=\"relu\"), layers.Dense(embed_dim),]\n",
    "        )\n",
    "        self.layernorm1 = layers.LayerNormalization(epsilon=1e-6)\n",
    "        self.layernorm2 = layers.LayerNormalization(epsilon=1e-6)\n",
    "        self.dropout1 = layers.Dropout(rate)\n",
    "        self.dropout2 = layers.Dropout(rate)\n",
    "\n",
    "    def call(self, inputs):\n",
    "        attn_output = self.att(inputs, inputs) # Multi head attention where Key, Value and Query are all the same\n",
    "        attn_output = self.dropout1(attn_output) # We add a dropout to reduce overfitting\n",
    "        out1 = self.layernorm1(inputs + attn_output) # We add a residual connection and layernorm the result \n",
    "        ffn_output = self.ffn(out1) # Feedforward network\n",
    "        ffn_output = self.dropout2(ffn_output) # a second dropout\n",
    "        return self.layernorm2(out1 + ffn_output) # a second residual connection\n"
   ]
  },
  {
   "cell_type": "markdown",
   "id": "e65485b5-5556-4444-ad6f-175267bc87cd",
   "metadata": {},
   "source": [
    "Transformers need both token embedding (the words) and position embedding (the token order) because the transformer architecture does not inherently process sequential data with an awareness of order or position"
   ]
  },
  {
   "cell_type": "code",
   "execution_count": 44,
   "id": "9b2d40b4-2ce2-46a1-b97b-8c3815b24f5c",
   "metadata": {},
   "outputs": [],
   "source": [
    "class TokenAndPositionEmbedding(layers.Layer):\n",
    "    def __init__(self, maxlen, vocab_size, embed_dim):\n",
    "        super().__init__()\n",
    "        # The embedding layer turns positive integers intodense vectors,\n",
    "        # (Words with similar meaning are close to each other)\n",
    "        self.token_emb = layers.Embedding(input_dim=vocab_size, output_dim=embed_dim)\n",
    "        self.pos_emb = layers.Embedding(input_dim=maxlen, output_dim=embed_dim)\n",
    "\n",
    "    def call(self, x):\n",
    "        # get the number of tokens \n",
    "        maxlen = ops.shape(x)[-1]\n",
    "        # get all positions in order\n",
    "        positions = ops.arange(start=0, stop=maxlen, step=1)\n",
    "        # the the embedded positions\n",
    "        positions = self.pos_emb(positions)\n",
    "        # compute the token embeddings\n",
    "        x = self.token_emb(x)\n",
    "        # finally return the embedded tokens + the positions \n",
    "        return x + positions"
   ]
  },
  {
   "attachments": {
    "8852d98c-28b9-4882-86a2-9dddcf0cb404.png": {
     "image/png": "[encoded data removed]"
    }
   },
   "cell_type": "markdown",
   "id": "0e68f1f6-fd33-4dfb-8711-f2a30852d148",
   "metadata": {},
   "source": [
    "![1 jFSeBSZ2WOTl-cUM2PfAow.png](attachment:8852d98c-28b9-4882-86a2-9dddcf0cb404.png)"
   ]
  },
  {
   "cell_type": "markdown",
   "id": "697af448-6464-42fe-b70e-2d6085fb6ed5",
   "metadata": {},
   "source": [
    "Beware! this is a simple transformer approach for classification, tasks such as text generation, translation and so on requires a much more complex model. "
   ]
  },
  {
   "cell_type": "code",
   "execution_count": 45,
   "id": "9072bf66-faa5-447f-906c-c9d754cd744c",
   "metadata": {},
   "outputs": [],
   "source": [
    "vocab_size = 20000  # Only consider the top 20k words\n",
    "maxlen = 500 # max number of input tokens\n",
    "embed_dim = 32  # Embedding size for each token\n",
    "num_heads = 16  # Number of attention heads\n",
    "ff_dim = 64  # Hidden layer size in feed forward network inside transformer"
   ]
  },
  {
   "cell_type": "code",
   "execution_count": 46,
   "id": "55e7a75c-6b79-45e5-9b7f-31b5f0898162",
   "metadata": {},
   "outputs": [],
   "source": [
    "\n",
    "inputs = layers.Input(shape=(maxlen,)) # the input is a sequence of maxlen tokens (if not long enough is padded with zeros)\n",
    "embedding_layer = TokenAndPositionEmbedding(maxlen, vocab_size, embed_dim) # The embedding layer embed tokens and positions\n",
    "x = embedding_layer(inputs) \n",
    "transformer_block = TransformerBlock(embed_dim, num_heads, ff_dim) \n",
    "x = transformer_block(x) # A transformer block process the data\n",
    "# What follows is a simple classifier \n",
    "x = layers.GlobalAveragePooling1D()(x)\n",
    "x = layers.Dropout(0.1)(x)\n",
    "x = layers.Dense(20, activation=\"relu\")(x)\n",
    "x = layers.Dropout(0.1)(x)\n",
    "outputs = layers.Dense(2, activation=\"softmax\")(x)\n",
    "\n",
    "model = keras.Model(inputs=inputs, outputs=outputs)"
   ]
  },
  {
   "cell_type": "code",
   "execution_count": 47,
   "id": "b995737c-f377-4c89-84db-6b563df475b1",
   "metadata": {},
   "outputs": [
    {
     "data": {
      "text/html": [
       "<pre style=\"white-space:pre;overflow-x:auto;line-height:normal;font-family:Menlo,'DejaVu Sans Mono',consolas,'Courier New',monospace\"><span style=\"font-weight: bold\">Model: \"functional_4\"</span>\n",
       "</pre>\n"
      ],
      "text/plain": [
       "\u001b[1mModel: \"functional_4\"\u001b[0m\n"
      ]
     },
     "metadata": {},
     "output_type": "display_data"
    },
    {
     "data": {
      "text/html": [
       "<pre style=\"white-space:pre;overflow-x:auto;line-height:normal;font-family:Menlo,'DejaVu Sans Mono',consolas,'Courier New',monospace\">┏━━━━━━━━━━━━━━━━━━━━━━━━━━━━━━━━━┳━━━━━━━━━━━━━━━━━━━━━━━━━━━┳━━━━━━━━━━━━┓\n",
       "┃<span style=\"font-weight: bold\"> Layer (type)                    </span>┃<span style=\"font-weight: bold\"> Output Shape              </span>┃<span style=\"font-weight: bold\">    Param # </span>┃\n",
       "┡━━━━━━━━━━━━━━━━━━━━━━━━━━━━━━━━━╇━━━━━━━━━━━━━━━━━━━━━━━━━━━╇━━━━━━━━━━━━┩\n",
       "│ input_layer_1 (<span style=\"color: #0087ff; text-decoration-color: #0087ff\">InputLayer</span>)      │ (<span style=\"color: #00d7ff; text-decoration-color: #00d7ff\">None</span>, <span style=\"color: #00af00; text-decoration-color: #00af00\">500</span>)               │          <span style=\"color: #00af00; text-decoration-color: #00af00\">0</span> │\n",
       "├─────────────────────────────────┼───────────────────────────┼────────────┤\n",
       "│ token_and_position_embedding    │ (<span style=\"color: #00d7ff; text-decoration-color: #00d7ff\">None</span>, <span style=\"color: #00af00; text-decoration-color: #00af00\">500</span>, <span style=\"color: #00af00; text-decoration-color: #00af00\">32</span>)           │    <span style=\"color: #00af00; text-decoration-color: #00af00\">656,000</span> │\n",
       "│ (<span style=\"color: #0087ff; text-decoration-color: #0087ff\">TokenAndPositionEmbedding</span>)     │                           │            │\n",
       "├─────────────────────────────────┼───────────────────────────┼────────────┤\n",
       "│ transformer_block               │ (<span style=\"color: #00d7ff; text-decoration-color: #00d7ff\">None</span>, <span style=\"color: #00af00; text-decoration-color: #00af00\">500</span>, <span style=\"color: #00af00; text-decoration-color: #00af00\">32</span>)           │     <span style=\"color: #00af00; text-decoration-color: #00af00\">71,424</span> │\n",
       "│ (<span style=\"color: #0087ff; text-decoration-color: #0087ff\">TransformerBlock</span>)              │                           │            │\n",
       "├─────────────────────────────────┼───────────────────────────┼────────────┤\n",
       "│ global_average_pooling1d        │ (<span style=\"color: #00d7ff; text-decoration-color: #00d7ff\">None</span>, <span style=\"color: #00af00; text-decoration-color: #00af00\">32</span>)                │          <span style=\"color: #00af00; text-decoration-color: #00af00\">0</span> │\n",
       "│ (<span style=\"color: #0087ff; text-decoration-color: #0087ff\">GlobalAveragePooling1D</span>)        │                           │            │\n",
       "├─────────────────────────────────┼───────────────────────────┼────────────┤\n",
       "│ dropout_5 (<span style=\"color: #0087ff; text-decoration-color: #0087ff\">Dropout</span>)             │ (<span style=\"color: #00d7ff; text-decoration-color: #00d7ff\">None</span>, <span style=\"color: #00af00; text-decoration-color: #00af00\">32</span>)                │          <span style=\"color: #00af00; text-decoration-color: #00af00\">0</span> │\n",
       "├─────────────────────────────────┼───────────────────────────┼────────────┤\n",
       "│ dense_3 (<span style=\"color: #0087ff; text-decoration-color: #0087ff\">Dense</span>)                 │ (<span style=\"color: #00d7ff; text-decoration-color: #00d7ff\">None</span>, <span style=\"color: #00af00; text-decoration-color: #00af00\">20</span>)                │        <span style=\"color: #00af00; text-decoration-color: #00af00\">660</span> │\n",
       "├─────────────────────────────────┼───────────────────────────┼────────────┤\n",
       "│ dropout_6 (<span style=\"color: #0087ff; text-decoration-color: #0087ff\">Dropout</span>)             │ (<span style=\"color: #00d7ff; text-decoration-color: #00d7ff\">None</span>, <span style=\"color: #00af00; text-decoration-color: #00af00\">20</span>)                │          <span style=\"color: #00af00; text-decoration-color: #00af00\">0</span> │\n",
       "├─────────────────────────────────┼───────────────────────────┼────────────┤\n",
       "│ dense_4 (<span style=\"color: #0087ff; text-decoration-color: #0087ff\">Dense</span>)                 │ (<span style=\"color: #00d7ff; text-decoration-color: #00d7ff\">None</span>, <span style=\"color: #00af00; text-decoration-color: #00af00\">2</span>)                 │         <span style=\"color: #00af00; text-decoration-color: #00af00\">42</span> │\n",
       "└─────────────────────────────────┴───────────────────────────┴────────────┘\n",
       "</pre>\n"
      ],
      "text/plain": [
       "┏━━━━━━━━━━━━━━━━━━━━━━━━━━━━━━━━━┳━━━━━━━━━━━━━━━━━━━━━━━━━━━┳━━━━━━━━━━━━┓\n",
       "┃\u001b[1m \u001b[0m\u001b[1mLayer (type)                   \u001b[0m\u001b[1m \u001b[0m┃\u001b[1m \u001b[0m\u001b[1mOutput Shape             \u001b[0m\u001b[1m \u001b[0m┃\u001b[1m \u001b[0m\u001b[1m   Param #\u001b[0m\u001b[1m \u001b[0m┃\n",
       "┡━━━━━━━━━━━━━━━━━━━━━━━━━━━━━━━━━╇━━━━━━━━━━━━━━━━━━━━━━━━━━━╇━━━━━━━━━━━━┩\n",
       "│ input_layer_1 (\u001b[38;5;33mInputLayer\u001b[0m)      │ (\u001b[38;5;45mNone\u001b[0m, \u001b[38;5;34m500\u001b[0m)               │          \u001b[38;5;34m0\u001b[0m │\n",
       "├─────────────────────────────────┼───────────────────────────┼────────────┤\n",
       "│ token_and_position_embedding    │ (\u001b[38;5;45mNone\u001b[0m, \u001b[38;5;34m500\u001b[0m, \u001b[38;5;34m32\u001b[0m)           │    \u001b[38;5;34m656,000\u001b[0m │\n",
       "│ (\u001b[38;5;33mTokenAndPositionEmbedding\u001b[0m)     │                           │            │\n",
       "├─────────────────────────────────┼───────────────────────────┼────────────┤\n",
       "│ transformer_block               │ (\u001b[38;5;45mNone\u001b[0m, \u001b[38;5;34m500\u001b[0m, \u001b[38;5;34m32\u001b[0m)           │     \u001b[38;5;34m71,424\u001b[0m │\n",
       "│ (\u001b[38;5;33mTransformerBlock\u001b[0m)              │                           │            │\n",
       "├─────────────────────────────────┼───────────────────────────┼────────────┤\n",
       "│ global_average_pooling1d        │ (\u001b[38;5;45mNone\u001b[0m, \u001b[38;5;34m32\u001b[0m)                │          \u001b[38;5;34m0\u001b[0m │\n",
       "│ (\u001b[38;5;33mGlobalAveragePooling1D\u001b[0m)        │                           │            │\n",
       "├─────────────────────────────────┼───────────────────────────┼────────────┤\n",
       "│ dropout_5 (\u001b[38;5;33mDropout\u001b[0m)             │ (\u001b[38;5;45mNone\u001b[0m, \u001b[38;5;34m32\u001b[0m)                │          \u001b[38;5;34m0\u001b[0m │\n",
       "├─────────────────────────────────┼───────────────────────────┼────────────┤\n",
       "│ dense_3 (\u001b[38;5;33mDense\u001b[0m)                 │ (\u001b[38;5;45mNone\u001b[0m, \u001b[38;5;34m20\u001b[0m)                │        \u001b[38;5;34m660\u001b[0m │\n",
       "├─────────────────────────────────┼───────────────────────────┼────────────┤\n",
       "│ dropout_6 (\u001b[38;5;33mDropout\u001b[0m)             │ (\u001b[38;5;45mNone\u001b[0m, \u001b[38;5;34m20\u001b[0m)                │          \u001b[38;5;34m0\u001b[0m │\n",
       "├─────────────────────────────────┼───────────────────────────┼────────────┤\n",
       "│ dense_4 (\u001b[38;5;33mDense\u001b[0m)                 │ (\u001b[38;5;45mNone\u001b[0m, \u001b[38;5;34m2\u001b[0m)                 │         \u001b[38;5;34m42\u001b[0m │\n",
       "└─────────────────────────────────┴───────────────────────────┴────────────┘\n"
      ]
     },
     "metadata": {},
     "output_type": "display_data"
    },
    {
     "data": {
      "text/html": [
       "<pre style=\"white-space:pre;overflow-x:auto;line-height:normal;font-family:Menlo,'DejaVu Sans Mono',consolas,'Courier New',monospace\"><span style=\"font-weight: bold\"> Total params: </span><span style=\"color: #00af00; text-decoration-color: #00af00\">728,126</span> (2.78 MB)\n",
       "</pre>\n"
      ],
      "text/plain": [
       "\u001b[1m Total params: \u001b[0m\u001b[38;5;34m728,126\u001b[0m (2.78 MB)\n"
      ]
     },
     "metadata": {},
     "output_type": "display_data"
    },
    {
     "data": {
      "text/html": [
       "<pre style=\"white-space:pre;overflow-x:auto;line-height:normal;font-family:Menlo,'DejaVu Sans Mono',consolas,'Courier New',monospace\"><span style=\"font-weight: bold\"> Trainable params: </span><span style=\"color: #00af00; text-decoration-color: #00af00\">728,126</span> (2.78 MB)\n",
       "</pre>\n"
      ],
      "text/plain": [
       "\u001b[1m Trainable params: \u001b[0m\u001b[38;5;34m728,126\u001b[0m (2.78 MB)\n"
      ]
     },
     "metadata": {},
     "output_type": "display_data"
    },
    {
     "data": {
      "text/html": [
       "<pre style=\"white-space:pre;overflow-x:auto;line-height:normal;font-family:Menlo,'DejaVu Sans Mono',consolas,'Courier New',monospace\"><span style=\"font-weight: bold\"> Non-trainable params: </span><span style=\"color: #00af00; text-decoration-color: #00af00\">0</span> (0.00 B)\n",
       "</pre>\n"
      ],
      "text/plain": [
       "\u001b[1m Non-trainable params: \u001b[0m\u001b[38;5;34m0\u001b[0m (0.00 B)\n"
      ]
     },
     "metadata": {},
     "output_type": "display_data"
    }
   ],
   "source": [
    "model.summary()"
   ]
  },
  {
   "cell_type": "code",
   "execution_count": 48,
   "id": "304e2d0a-115d-4dc1-baa1-12b61ae319f0",
   "metadata": {},
   "outputs": [
    {
     "name": "stdout",
     "output_type": "stream",
     "text": [
      "Epoch 1/10\n",
      "\u001b[1m391/391\u001b[0m \u001b[32m━━━━━━━━━━━━━━━━━━━━\u001b[0m\u001b[37m\u001b[0m \u001b[1m23s\u001b[0m 47ms/step - accuracy: 0.5197 - loss: 0.6958 - val_accuracy: 0.5294 - val_loss: 0.6890\n",
      "Epoch 2/10\n",
      "\u001b[1m391/391\u001b[0m \u001b[32m━━━━━━━━━━━━━━━━━━━━\u001b[0m\u001b[37m\u001b[0m \u001b[1m15s\u001b[0m 38ms/step - accuracy: 0.5869 - loss: 0.6608 - val_accuracy: 0.7910 - val_loss: 0.5293\n",
      "Epoch 3/10\n",
      "\u001b[1m391/391\u001b[0m \u001b[32m━━━━━━━━━━━━━━━━━━━━\u001b[0m\u001b[37m\u001b[0m \u001b[1m15s\u001b[0m 38ms/step - accuracy: 0.7622 - loss: 0.5023 - val_accuracy: 0.7374 - val_loss: 0.5045\n",
      "Epoch 4/10\n",
      "\u001b[1m391/391\u001b[0m \u001b[32m━━━━━━━━━━━━━━━━━━━━\u001b[0m\u001b[37m\u001b[0m \u001b[1m15s\u001b[0m 38ms/step - accuracy: 0.8321 - loss: 0.3787 - val_accuracy: 0.8617 - val_loss: 0.3321\n",
      "Epoch 5/10\n",
      "\u001b[1m391/391\u001b[0m \u001b[32m━━━━━━━━━━━━━━━━━━━━\u001b[0m\u001b[37m\u001b[0m \u001b[1m15s\u001b[0m 38ms/step - accuracy: 0.8606 - loss: 0.3270 - val_accuracy: 0.8693 - val_loss: 0.3220\n",
      "Epoch 6/10\n",
      "\u001b[1m391/391\u001b[0m \u001b[32m━━━━━━━━━━━━━━━━━━━━\u001b[0m\u001b[37m\u001b[0m \u001b[1m15s\u001b[0m 38ms/step - accuracy: 0.8813 - loss: 0.2845 - val_accuracy: 0.8800 - val_loss: 0.3189\n",
      "Epoch 7/10\n",
      "\u001b[1m391/391\u001b[0m \u001b[32m━━━━━━━━━━━━━━━━━━━━\u001b[0m\u001b[37m\u001b[0m \u001b[1m15s\u001b[0m 39ms/step - accuracy: 0.9049 - loss: 0.2459 - val_accuracy: 0.8798 - val_loss: 0.3024\n",
      "Epoch 8/10\n",
      "\u001b[1m391/391\u001b[0m \u001b[32m━━━━━━━━━━━━━━━━━━━━\u001b[0m\u001b[37m\u001b[0m \u001b[1m15s\u001b[0m 38ms/step - accuracy: 0.9165 - loss: 0.2135 - val_accuracy: 0.8851 - val_loss: 0.2988\n",
      "Epoch 9/10\n",
      "\u001b[1m391/391\u001b[0m \u001b[32m━━━━━━━━━━━━━━━━━━━━\u001b[0m\u001b[37m\u001b[0m \u001b[1m15s\u001b[0m 38ms/step - accuracy: 0.9359 - loss: 0.1739 - val_accuracy: 0.8830 - val_loss: 0.3214\n",
      "Epoch 10/10\n",
      "\u001b[1m391/391\u001b[0m \u001b[32m━━━━━━━━━━━━━━━━━━━━\u001b[0m\u001b[37m\u001b[0m \u001b[1m15s\u001b[0m 39ms/step - accuracy: 0.9491 - loss: 0.1381 - val_accuracy: 0.8871 - val_loss: 0.3257\n"
     ]
    }
   ],
   "source": [
    "opt = keras.optimizers.Adam(learning_rate=1e-4)\n",
    "model.compile(optimizer=opt, loss=\"sparse_categorical_crossentropy\", metrics=[\"accuracy\"])\n",
    "history = model.fit(\n",
    "    train_ds, batch_size=32, epochs=10, validation_data=val_ds\n",
    ")\n"
   ]
  },
  {
   "cell_type": "code",
   "execution_count": 49,
   "id": "175df508-f724-45fd-877f-512cdd8238da",
   "metadata": {},
   "outputs": [
    {
     "name": "stdout",
     "output_type": "stream",
     "text": [
      "\u001b[1m782/782\u001b[0m \u001b[32m━━━━━━━━━━━━━━━━━━━━\u001b[0m\u001b[37m\u001b[0m \u001b[1m9s\u001b[0m 11ms/step - accuracy: 0.8752 - loss: 0.3550\n"
     ]
    },
    {
     "data": {
      "text/plain": [
       "[0.3500303626060486, 0.8753200173377991]"
      ]
     },
     "execution_count": 49,
     "metadata": {},
     "output_type": "execute_result"
    }
   ],
   "source": [
    "model.evaluate(test_ds)"
   ]
  }
 ],
 "metadata": {
  "kernelspec": {
   "display_name": "Python 3 (ipykernel)",
   "language": "python",
   "name": "python3"
  },
  "language_info": {
   "codemirror_mode": {
    "name": "ipython",
    "version": 3
   },
   "file_extension": ".py",
   "mimetype": "text/x-python",
   "name": "python",
   "nbconvert_exporter": "python",
   "pygments_lexer": "ipython3",
   "version": "3.11.7"
  }
 },
 "nbformat": 4,
 "nbformat_minor": 5
}
