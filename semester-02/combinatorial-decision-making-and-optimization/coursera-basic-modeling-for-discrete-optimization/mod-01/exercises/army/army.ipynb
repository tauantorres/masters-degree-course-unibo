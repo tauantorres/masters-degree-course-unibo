{
 "cells": [
  {
   "cell_type": "code",
   "execution_count": 3,
   "metadata": {},
   "outputs": [
    {
     "ename": "LookupError",
     "evalue": "No solver id or tag 'gecode' found, available options: ['api', 'cbc', 'coin-bc', 'coinbc', 'cplex', 'float', 'gurobi', 'highs', 'mip', 'org.minizinc.mip.coin-bc', 'org.minizinc.mip.cplex', 'org.minizinc.mip.gurobi', 'org.minizinc.mip.highs', 'org.minizinc.mip.scip', 'org.minizinc.mip.xpress', 'osicbc', 'scip', 'xpress']",
     "output_type": "error",
     "traceback": [
      "\u001b[0;31m---------------------------------------------------------------------------\u001b[0m",
      "\u001b[0;31mLookupError\u001b[0m                               Traceback (most recent call last)",
      "Cell \u001b[0;32mIn[3], line 3\u001b[0m\n\u001b[1;32m      1\u001b[0m \u001b[38;5;28;01mfrom\u001b[39;00m\u001b[38;5;250m \u001b[39m\u001b[38;5;21;01mminizinc\u001b[39;00m\u001b[38;5;250m \u001b[39m\u001b[38;5;28;01mimport\u001b[39;00m Instance, Model, Solver\n\u001b[0;32m----> 3\u001b[0m gecode \u001b[38;5;241m=\u001b[39m \u001b[43mSolver\u001b[49m\u001b[38;5;241;43m.\u001b[39;49m\u001b[43mlookup\u001b[49m\u001b[43m(\u001b[49m\u001b[38;5;124;43m\"\u001b[39;49m\u001b[38;5;124;43mgecode\u001b[39;49m\u001b[38;5;124;43m\"\u001b[39;49m\u001b[43m)\u001b[49m\n\u001b[1;32m      5\u001b[0m model \u001b[38;5;241m=\u001b[39m Model()\n\u001b[1;32m      7\u001b[0m model\u001b[38;5;241m.\u001b[39madd_string(\u001b[38;5;124m\"\"\"\u001b[39m\n\u001b[1;32m      8\u001b[0m \u001b[38;5;124mint: budget = 10000;\u001b[39m\n\u001b[1;32m      9\u001b[0m \n\u001b[0;32m   (...)\u001b[0m\n\u001b[1;32m     24\u001b[0m \n\u001b[1;32m     25\u001b[0m \u001b[38;5;124m\"\"\"\u001b[39m)\n",
      "File \u001b[0;32m~/Documents/GitHub/masters-degree-course-unibo/.venv/lib/python3.11/site-packages/minizinc/solver.py:140\u001b[0m, in \u001b[0;36mSolver.lookup\u001b[0;34m(cls, tag, driver, refresh)\u001b[0m\n\u001b[1;32m    137\u001b[0m tag_map \u001b[38;5;241m=\u001b[39m driver\u001b[38;5;241m.\u001b[39mavailable_solvers(refresh)\n\u001b[1;32m    139\u001b[0m \u001b[38;5;28;01mif\u001b[39;00m tag \u001b[38;5;129;01mnot\u001b[39;00m \u001b[38;5;129;01min\u001b[39;00m tag_map \u001b[38;5;129;01mor\u001b[39;00m \u001b[38;5;28mlen\u001b[39m(tag_map[tag]) \u001b[38;5;241m<\u001b[39m \u001b[38;5;241m1\u001b[39m:\n\u001b[0;32m--> 140\u001b[0m     \u001b[38;5;28;01mraise\u001b[39;00m \u001b[38;5;167;01mLookupError\u001b[39;00m(\n\u001b[1;32m    141\u001b[0m         \u001b[38;5;124mf\u001b[39m\u001b[38;5;124m\"\u001b[39m\u001b[38;5;124mNo solver id or tag \u001b[39m\u001b[38;5;124m'\u001b[39m\u001b[38;5;132;01m{\u001b[39;00mtag\u001b[38;5;132;01m}\u001b[39;00m\u001b[38;5;124m'\u001b[39m\u001b[38;5;124m found, available options: \u001b[39m\u001b[38;5;124m\"\u001b[39m\n\u001b[1;32m    142\u001b[0m         \u001b[38;5;124mf\u001b[39m\u001b[38;5;124m\"\u001b[39m\u001b[38;5;132;01m{\u001b[39;00m\u001b[38;5;28msorted\u001b[39m(tag_map\u001b[38;5;241m.\u001b[39mkeys())\u001b[38;5;132;01m}\u001b[39;00m\u001b[38;5;124m\"\u001b[39m\n\u001b[1;32m    143\u001b[0m     )\n\u001b[1;32m    145\u001b[0m \u001b[38;5;28;01mreturn\u001b[39;00m tag_map[tag][\u001b[38;5;241m0\u001b[39m]\n",
      "\u001b[0;31mLookupError\u001b[0m: No solver id or tag 'gecode' found, available options: ['api', 'cbc', 'coin-bc', 'coinbc', 'cplex', 'float', 'gurobi', 'highs', 'mip', 'org.minizinc.mip.coin-bc', 'org.minizinc.mip.cplex', 'org.minizinc.mip.gurobi', 'org.minizinc.mip.highs', 'org.minizinc.mip.scip', 'org.minizinc.mip.xpress', 'osicbc', 'scip', 'xpress']"
     ]
    }
   ],
   "source": [
    "from minizinc import Instance, Model, Solver\n",
    "\n",
    "gecode = Solver.lookup(\"gecode\")\n",
    "\n",
    "model = Model()\n",
    "\n",
    "model.add_string(\"\"\"\n",
    "int: budget = 10000;\n",
    "\n",
    "var 0..1000: F; % number of archers\n",
    "var 0..400:  L;\n",
    "var 0..500:  Z;\n",
    "var 0..150:  J;\n",
    "\n",
    "constraint 13*F + 21*L + 15*Z + 17*J <= budget;\n",
    "\n",
    "solve maximize 6*F + 10*L + 8*Z + 40*J;\n",
    "\n",
    "output [\"F: \\(F)\\n\"];\n",
    "output [\"L: \\(L)\\n\"];\n",
    "output [\"Z: \\(Z)\\n\"];\n",
    "output [\"J: \\(J)\\n\"];\n",
    "output [\"Total: \\(6*F + 10*L + 8*Z + 40*J)\\n\"];\n",
    "\n",
    "\"\"\")\n",
    "\n",
    "instance = Instance(gecode, model)\n",
    "\n",
    "result = instance.solve()\n",
    "\n"
   ]
  },
  {
   "cell_type": "code",
   "execution_count": null,
   "metadata": {},
   "outputs": [],
   "source": []
  }
 ],
 "metadata": {
  "kernelspec": {
   "display_name": ".venv",
   "language": "python",
   "name": "python3"
  },
  "language_info": {
   "codemirror_mode": {
    "name": "ipython",
    "version": 3
   },
   "file_extension": ".py",
   "mimetype": "text/x-python",
   "name": "python",
   "nbconvert_exporter": "python",
   "pygments_lexer": "ipython3",
   "version": "3.11.4"
  }
 },
 "nbformat": 4,
 "nbformat_minor": 2
}
