{
 "cells": [
  {
   "cell_type": "code",
   "execution_count": 2,
   "metadata": {},
   "outputs": [
    {
     "ename": "MiniZincError",
     "evalue": "An error occurred while executing minizinc on file \nint: nc = 3;\nvar 1 .. nc: wa;   var 1 .. nc: nt;  var 1 .. nc: sa;   var 1 .. nc: q;\nvar 1 .. nc: nsw;  var 1 .. nc: v;   var 1 .. nc: t;\nconstraint wa != nt;\nconstraint wa != sa;\nconstraint nt != sa;\nconstraint nt != q;\nconstraint sa != q;\nconstraint sa != nsw;\nconstraint sa != v;\nconstraint q != nsw;\nconstraint nsw != v;\nsolve satisfy;\noutput [\n    \"wa=\\(wa)\\t nt=\\(nt)\\t sa=\\(sa)\\n\",\n    \"q=\\(q)\\t nsw=\\(nsw)\\t v=\\(v)\\n\",\n    \"t=\", show(t), \"\\n\"\n];\n with command line arguments: ['--model-check-only', '-']\n\nError: configuration error: no solver with tag org.gecode.gecode found\n",
     "output_type": "error",
     "traceback": [
      "\u001b[0;31m---------------------------------------------------------------------------\u001b[0m",
      "\u001b[0;31mMiniZincError\u001b[0m                             Traceback (most recent call last)",
      "Cell \u001b[0;32mIn[2], line 2\u001b[0m\n\u001b[1;32m      1\u001b[0m \u001b[38;5;28;01mimport\u001b[39;00m\u001b[38;5;250m \u001b[39m\u001b[38;5;21;01mpymzn\u001b[39;00m\n\u001b[0;32m----> 2\u001b[0m solns \u001b[38;5;241m=\u001b[39m \u001b[43mpymzn\u001b[49m\u001b[38;5;241;43m.\u001b[39;49m\u001b[43mminizinc\u001b[49m\u001b[43m(\u001b[49m\u001b[38;5;124;43m'\u001b[39;49m\u001b[38;5;124;43maust.mzn\u001b[39;49m\u001b[38;5;124;43m'\u001b[39;49m\u001b[43m)\u001b[49m\n\u001b[1;32m      3\u001b[0m \u001b[38;5;28mprint\u001b[39m(solns)\n",
      "File \u001b[0;32m~/Documents/GitHub/masters-degree-course-unibo/.venv/lib/python3.11/site-packages/pymzn/mzn/minizinc.py:646\u001b[0m, in \u001b[0;36mminizinc\u001b[0;34m(mzn, args, data, include, stdlib_dir, globals_dir, declare_enums, allow_multiple_assignments, keep, output_vars, output_base, output_mode, solver, timeout, two_pass, pre_passes, output_objective, non_unique, all_solutions, num_solutions, free_search, parallel, seed, rebase_arrays, keep_solutions, return_enums, *dzn_files, **kwargs)\u001b[0m\n\u001b[1;32m    525\u001b[0m \u001b[38;5;28;01mdef\u001b[39;00m\u001b[38;5;250m \u001b[39m\u001b[38;5;21mminizinc\u001b[39m(\n\u001b[1;32m    526\u001b[0m     mzn, \u001b[38;5;241m*\u001b[39mdzn_files, args\u001b[38;5;241m=\u001b[39m\u001b[38;5;28;01mNone\u001b[39;00m, data\u001b[38;5;241m=\u001b[39m\u001b[38;5;28;01mNone\u001b[39;00m, include\u001b[38;5;241m=\u001b[39m\u001b[38;5;28;01mNone\u001b[39;00m, stdlib_dir\u001b[38;5;241m=\u001b[39m\u001b[38;5;28;01mNone\u001b[39;00m,\n\u001b[1;32m    527\u001b[0m     globals_dir\u001b[38;5;241m=\u001b[39m\u001b[38;5;28;01mNone\u001b[39;00m, declare_enums\u001b[38;5;241m=\u001b[39m\u001b[38;5;28;01mTrue\u001b[39;00m, allow_multiple_assignments\u001b[38;5;241m=\u001b[39m\u001b[38;5;28;01mFalse\u001b[39;00m,\n\u001b[0;32m   (...)\u001b[0m\n\u001b[1;32m    532\u001b[0m     rebase_arrays\u001b[38;5;241m=\u001b[39m\u001b[38;5;28;01mTrue\u001b[39;00m, keep_solutions\u001b[38;5;241m=\u001b[39m\u001b[38;5;28;01mTrue\u001b[39;00m, return_enums\u001b[38;5;241m=\u001b[39m\u001b[38;5;28;01mFalse\u001b[39;00m, \u001b[38;5;241m*\u001b[39m\u001b[38;5;241m*\u001b[39mkwargs\n\u001b[1;32m    533\u001b[0m ):\n\u001b[1;32m    534\u001b[0m \u001b[38;5;250m    \u001b[39m\u001b[38;5;124;03m\"\"\"Implements the workflow for solving a CSP problem encoded with MiniZinc.\u001b[39;00m\n\u001b[1;32m    535\u001b[0m \n\u001b[1;32m    536\u001b[0m \u001b[38;5;124;03m    Parameters\u001b[39;00m\n\u001b[0;32m   (...)\u001b[0m\n\u001b[1;32m    642\u001b[0m \u001b[38;5;124;03m        solution stream as a single string.\u001b[39;00m\n\u001b[1;32m    643\u001b[0m \u001b[38;5;124;03m    \"\"\"\u001b[39;00m\n\u001b[1;32m    645\u001b[0m     mzn_file, dzn_files, data_file, data, keep, _output_mode, types \u001b[38;5;241m=\u001b[39m \\\n\u001b[0;32m--> 646\u001b[0m         \u001b[43m_minizinc_preliminaries\u001b[49m\u001b[43m(\u001b[49m\n\u001b[1;32m    647\u001b[0m \u001b[43m            \u001b[49m\u001b[43mmzn\u001b[49m\u001b[43m,\u001b[49m\u001b[43m \u001b[49m\u001b[38;5;241;43m*\u001b[39;49m\u001b[43mdzn_files\u001b[49m\u001b[43m,\u001b[49m\u001b[43m \u001b[49m\u001b[43margs\u001b[49m\u001b[38;5;241;43m=\u001b[39;49m\u001b[43margs\u001b[49m\u001b[43m,\u001b[49m\u001b[43m \u001b[49m\u001b[43mdata\u001b[49m\u001b[38;5;241;43m=\u001b[39;49m\u001b[43mdata\u001b[49m\u001b[43m,\u001b[49m\u001b[43m \u001b[49m\u001b[43minclude\u001b[49m\u001b[38;5;241;43m=\u001b[39;49m\u001b[43minclude\u001b[49m\u001b[43m,\u001b[49m\n\u001b[1;32m    648\u001b[0m \u001b[43m            \u001b[49m\u001b[43mstdlib_dir\u001b[49m\u001b[38;5;241;43m=\u001b[39;49m\u001b[43mstdlib_dir\u001b[49m\u001b[43m,\u001b[49m\u001b[43m \u001b[49m\u001b[43mglobals_dir\u001b[49m\u001b[38;5;241;43m=\u001b[39;49m\u001b[43mglobals_dir\u001b[49m\u001b[43m,\u001b[49m\n\u001b[1;32m    649\u001b[0m \u001b[43m            \u001b[49m\u001b[43moutput_vars\u001b[49m\u001b[38;5;241;43m=\u001b[39;49m\u001b[43moutput_vars\u001b[49m\u001b[43m,\u001b[49m\u001b[43m \u001b[49m\u001b[43mkeep\u001b[49m\u001b[38;5;241;43m=\u001b[39;49m\u001b[43mkeep\u001b[49m\u001b[43m,\u001b[49m\u001b[43m \u001b[49m\u001b[43moutput_base\u001b[49m\u001b[38;5;241;43m=\u001b[39;49m\u001b[43moutput_base\u001b[49m\u001b[43m,\u001b[49m\n\u001b[1;32m    650\u001b[0m \u001b[43m            \u001b[49m\u001b[43moutput_mode\u001b[49m\u001b[38;5;241;43m=\u001b[39;49m\u001b[43moutput_mode\u001b[49m\u001b[43m,\u001b[49m\u001b[43m \u001b[49m\u001b[43mdeclare_enums\u001b[49m\u001b[38;5;241;43m=\u001b[39;49m\u001b[43mdeclare_enums\u001b[49m\u001b[43m,\u001b[49m\n\u001b[1;32m    651\u001b[0m \u001b[43m            \u001b[49m\u001b[43mallow_multiple_assignments\u001b[49m\u001b[38;5;241;43m=\u001b[39;49m\u001b[43mallow_multiple_assignments\u001b[49m\n\u001b[1;32m    652\u001b[0m \u001b[43m        \u001b[49m\u001b[43m)\u001b[49m\n\u001b[1;32m    654\u001b[0m     \u001b[38;5;28;01mif\u001b[39;00m \u001b[38;5;129;01mnot\u001b[39;00m solver:\n\u001b[1;32m    655\u001b[0m         solver \u001b[38;5;241m=\u001b[39m config\u001b[38;5;241m.\u001b[39mget(\u001b[38;5;124m'\u001b[39m\u001b[38;5;124msolver\u001b[39m\u001b[38;5;124m'\u001b[39m, gecode)\n",
      "File \u001b[0;32m~/Documents/GitHub/masters-degree-course-unibo/.venv/lib/python3.11/site-packages/pymzn/mzn/minizinc.py:471\u001b[0m, in \u001b[0;36m_minizinc_preliminaries\u001b[0;34m(mzn, args, data, include, stdlib_dir, globals_dir, output_vars, keep, output_base, output_mode, declare_enums, allow_multiple_assignments, *dzn_files)\u001b[0m\n\u001b[1;32m    467\u001b[0m keep \u001b[38;5;241m=\u001b[39m config\u001b[38;5;241m.\u001b[39mget(\u001b[38;5;124m'\u001b[39m\u001b[38;5;124mkeep\u001b[39m\u001b[38;5;124m'\u001b[39m, keep)\n\u001b[1;32m    469\u001b[0m model \u001b[38;5;241m=\u001b[39m preprocess_model(model, rewrap\u001b[38;5;241m=\u001b[39mkeep, \u001b[38;5;241m*\u001b[39m\u001b[38;5;241m*\u001b[39m(args \u001b[38;5;129;01mor\u001b[39;00m {}))\n\u001b[0;32m--> 471\u001b[0m \u001b[43mcheck_model\u001b[49m\u001b[43m(\u001b[49m\n\u001b[1;32m    472\u001b[0m \u001b[43m    \u001b[49m\u001b[43mmodel\u001b[49m\u001b[43m,\u001b[49m\u001b[43m \u001b[49m\u001b[43minclude\u001b[49m\u001b[38;5;241;43m=\u001b[39;49m\u001b[43minclude\u001b[49m\u001b[43m,\u001b[49m\u001b[43m \u001b[49m\u001b[43mstdlib_dir\u001b[49m\u001b[38;5;241;43m=\u001b[39;49m\u001b[43mstdlib_dir\u001b[49m\u001b[43m,\u001b[49m\u001b[43m \u001b[49m\u001b[43mglobals_dir\u001b[49m\u001b[38;5;241;43m=\u001b[39;49m\u001b[43mglobals_dir\u001b[49m\n\u001b[1;32m    473\u001b[0m \u001b[43m\u001b[49m\u001b[43m)\u001b[49m\n\u001b[1;32m    475\u001b[0m types \u001b[38;5;241m=\u001b[39m _var_types(\n\u001b[1;32m    476\u001b[0m     model, allow_multiple_assignments\u001b[38;5;241m=\u001b[39mallow_multiple_assignments\n\u001b[1;32m    477\u001b[0m )\n\u001b[1;32m    479\u001b[0m \u001b[38;5;28;01mif\u001b[39;00m output_mode \u001b[38;5;241m==\u001b[39m \u001b[38;5;124m'\u001b[39m\u001b[38;5;124mdict\u001b[39m\u001b[38;5;124m'\u001b[39m:\n",
      "File \u001b[0;32m~/Documents/GitHub/masters-degree-course-unibo/.venv/lib/python3.11/site-packages/pymzn/mzn/minizinc.py:428\u001b[0m, in \u001b[0;36mcheck_model\u001b[0;34m(mzn, include, stdlib_dir, globals_dir)\u001b[0m\n\u001b[1;32m    425\u001b[0m proc \u001b[38;5;241m=\u001b[39m _run_minizinc_proc(\u001b[38;5;241m*\u001b[39margs, \u001b[38;5;28minput\u001b[39m\u001b[38;5;241m=\u001b[39m\u001b[38;5;28minput\u001b[39m)\n\u001b[1;32m    427\u001b[0m \u001b[38;5;28;01mif\u001b[39;00m proc\u001b[38;5;241m.\u001b[39mstderr_data:\n\u001b[0;32m--> 428\u001b[0m     \u001b[38;5;28;01mraise\u001b[39;00m MiniZincError(\n\u001b[1;32m    429\u001b[0m         mzn \u001b[38;5;28;01mif\u001b[39;00m \u001b[38;5;28minput\u001b[39m \u001b[38;5;129;01mis\u001b[39;00m \u001b[38;5;28;01mNone\u001b[39;00m \u001b[38;5;28;01melse\u001b[39;00m \u001b[38;5;124m'\u001b[39m\u001b[38;5;130;01m\\n\u001b[39;00m\u001b[38;5;124m'\u001b[39m \u001b[38;5;241m+\u001b[39m mzn \u001b[38;5;241m+\u001b[39m \u001b[38;5;124m'\u001b[39m\u001b[38;5;130;01m\\n\u001b[39;00m\u001b[38;5;124m'\u001b[39m, args, proc\u001b[38;5;241m.\u001b[39mstderr_data\n\u001b[1;32m    430\u001b[0m     )\n\u001b[1;32m    432\u001b[0m logger\u001b[38;5;241m.\u001b[39minfo(\u001b[38;5;124m'\u001b[39m\u001b[38;5;124mModel checking passed.\u001b[39m\u001b[38;5;124m'\u001b[39m)\n",
      "\u001b[0;31mMiniZincError\u001b[0m: An error occurred while executing minizinc on file \nint: nc = 3;\nvar 1 .. nc: wa;   var 1 .. nc: nt;  var 1 .. nc: sa;   var 1 .. nc: q;\nvar 1 .. nc: nsw;  var 1 .. nc: v;   var 1 .. nc: t;\nconstraint wa != nt;\nconstraint wa != sa;\nconstraint nt != sa;\nconstraint nt != q;\nconstraint sa != q;\nconstraint sa != nsw;\nconstraint sa != v;\nconstraint q != nsw;\nconstraint nsw != v;\nsolve satisfy;\noutput [\n    \"wa=\\(wa)\\t nt=\\(nt)\\t sa=\\(sa)\\n\",\n    \"q=\\(q)\\t nsw=\\(nsw)\\t v=\\(v)\\n\",\n    \"t=\", show(t), \"\\n\"\n];\n with command line arguments: ['--model-check-only', '-']\n\nError: configuration error: no solver with tag org.gecode.gecode found\n"
     ]
    }
   ],
   "source": [
    "import pymzn\n",
    "solns = pymzn.minizinc('aust.mzn')\n",
    "print(solns)\n"
   ]
  },
  {
   "cell_type": "code",
   "execution_count": null,
   "metadata": {},
   "outputs": [],
   "source": []
  }
 ],
 "metadata": {
  "kernelspec": {
   "display_name": ".venv",
   "language": "python",
   "name": "python3"
  },
  "language_info": {
   "codemirror_mode": {
    "name": "ipython",
    "version": 3
   },
   "file_extension": ".py",
   "mimetype": "text/x-python",
   "name": "python",
   "nbconvert_exporter": "python",
   "pygments_lexer": "ipython3",
   "version": "3.11.4"
  }
 },
 "nbformat": 4,
 "nbformat_minor": 2
}
