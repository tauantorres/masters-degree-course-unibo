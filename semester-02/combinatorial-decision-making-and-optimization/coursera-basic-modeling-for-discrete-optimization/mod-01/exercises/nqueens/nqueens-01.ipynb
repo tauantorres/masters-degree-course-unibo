{
 "cells": [
  {
   "cell_type": "code",
   "execution_count": 5,
   "metadata": {},
   "outputs": [
    {
     "name": "stdout",
     "output_type": "stream",
     "text": [
      "MiniZinc Python library version: 0.9.0\n",
      "MiniZinc CLI version: (2, 9, 0)\n",
      "Solvers:\n",
      "Solver gecode not found\n",
      "Solver chuffed not found\n",
      "coin-bc\n",
      "cbc\n"
     ]
    }
   ],
   "source": [
    "import minizinc\n",
    "print(\"MiniZinc Python library version:\", minizinc.__version__)\n",
    "print(\"MiniZinc CLI version:\", minizinc.default_driver._version)\n",
    "\n",
    "# List of solvers\n",
    "print(\"Solvers:\")\n",
    "solvers = [\"gecode\", \"chuffed\", \"coin-bc\", \"cbc\"]\n",
    "for solver in solvers:\n",
    "    try:\n",
    "        minizinc.Solver.lookup(solver)\n",
    "        print(solver)\n",
    "    except LookupError:\n",
    "        print(f\"Solver {solver} not found\")\n",
    "    "
   ]
  },
  {
   "cell_type": "code",
   "execution_count": 6,
   "metadata": {},
   "outputs": [],
   "source": [
    "try:\n",
    "    solver = minizinc.Solver.lookup(\"coin-bc\")\n",
    "except LookupError as error_lookup:\n",
    "    print(\"Error solver: \", error_lookup)\n",
    "    "
   ]
  },
  {
   "cell_type": "code",
   "execution_count": 7,
   "metadata": {},
   "outputs": [],
   "source": [
    "import pymzn\n",
    "\n",
    "gecode = pymzn.Gecode(solver_id='gecode')\n"
   ]
  },
  {
   "cell_type": "code",
   "execution_count": 13,
   "metadata": {},
   "outputs": [
    {
     "data": {
      "text/plain": [
       "{'solver_id': 'gecode'}"
      ]
     },
     "execution_count": 13,
     "metadata": {},
     "output_type": "execute_result"
    }
   ],
   "source": [
    "gecode.__dict__"
   ]
  },
  {
   "cell_type": "code",
   "execution_count": null,
   "metadata": {},
   "outputs": [],
   "source": []
  },
  {
   "cell_type": "code",
   "execution_count": 8,
   "metadata": {},
   "outputs": [
    {
     "ename": "MiniZincError",
     "evalue": "An error occurred while executing minizinc on file \n%% knapsack01.mzn %%\nint: n;                     % number of objects\nset of int: OBJ = 1..n;\nint: capacity;              % the capacity of the knapsack\narray[OBJ] of int: profit;  % the profit of each object\narray[OBJ] of int: size;    % the size of each object\n\nvar set of OBJ: x;\nconstraint sum(i in x)(size[i]) <= capacity;\nvar int: obj = sum(i in x)(profit[i]);\nsolve maximize obj;\n\n with command line arguments: ['--model-check-only', '-']\n\nError: configuration error: no solver with tag org.gecode.gecode found\n",
     "output_type": "error",
     "traceback": [
      "\u001b[0;31m---------------------------------------------------------------------------\u001b[0m",
      "\u001b[0;31mMiniZincError\u001b[0m                             Traceback (most recent call last)",
      "Cell \u001b[0;32mIn[8], line 3\u001b[0m\n\u001b[1;32m      1\u001b[0m \u001b[38;5;28;01mimport\u001b[39;00m\u001b[38;5;250m \u001b[39m\u001b[38;5;21;01mpymzn\u001b[39;00m\n\u001b[0;32m----> 3\u001b[0m solutions \u001b[38;5;241m=\u001b[39m \u001b[43mpymzn\u001b[49m\u001b[38;5;241;43m.\u001b[39;49m\u001b[43mminizinc\u001b[49m\u001b[43m(\u001b[49m\n\u001b[1;32m      4\u001b[0m \u001b[43m    \u001b[49m\u001b[43mmzn\u001b[49m\u001b[38;5;241;43m=\u001b[39;49m\u001b[38;5;124;43m\"\u001b[39;49m\u001b[38;5;124;43m./nqueens.mzn\u001b[39;49m\u001b[38;5;124;43m\"\u001b[39;49m\u001b[43m,\u001b[49m\n\u001b[1;32m      5\u001b[0m \u001b[43m    \u001b[49m\u001b[43mdzn\u001b[49m\u001b[38;5;241;43m=\u001b[39;49m\u001b[38;5;124;43m\"\u001b[39;49m\u001b[38;5;124;43m./nqueens.dzn\u001b[39;49m\u001b[38;5;124;43m\"\u001b[39;49m\u001b[43m,\u001b[49m\n\u001b[1;32m      6\u001b[0m \u001b[43m    \u001b[49m\u001b[43mdata\u001b[49m\u001b[38;5;241;43m=\u001b[39;49m\u001b[43m{\u001b[49m\u001b[38;5;124;43m'\u001b[39;49m\u001b[38;5;124;43mcapacity\u001b[39;49m\u001b[38;5;124;43m'\u001b[39;49m\u001b[43m:\u001b[49m\u001b[38;5;241;43m20\u001b[39;49m\u001b[43m}\u001b[49m\n\u001b[1;32m      7\u001b[0m \u001b[43m)\u001b[49m\n\u001b[1;32m      9\u001b[0m \u001b[38;5;28mprint\u001b[39m(solutions)\n",
      "File \u001b[0;32m~/Documents/GitHub/masters-degree-course-unibo/.venv/lib/python3.11/site-packages/pymzn/mzn/minizinc.py:646\u001b[0m, in \u001b[0;36mminizinc\u001b[0;34m(mzn, args, data, include, stdlib_dir, globals_dir, declare_enums, allow_multiple_assignments, keep, output_vars, output_base, output_mode, solver, timeout, two_pass, pre_passes, output_objective, non_unique, all_solutions, num_solutions, free_search, parallel, seed, rebase_arrays, keep_solutions, return_enums, *dzn_files, **kwargs)\u001b[0m\n\u001b[1;32m    525\u001b[0m \u001b[38;5;28;01mdef\u001b[39;00m\u001b[38;5;250m \u001b[39m\u001b[38;5;21mminizinc\u001b[39m(\n\u001b[1;32m    526\u001b[0m     mzn, \u001b[38;5;241m*\u001b[39mdzn_files, args\u001b[38;5;241m=\u001b[39m\u001b[38;5;28;01mNone\u001b[39;00m, data\u001b[38;5;241m=\u001b[39m\u001b[38;5;28;01mNone\u001b[39;00m, include\u001b[38;5;241m=\u001b[39m\u001b[38;5;28;01mNone\u001b[39;00m, stdlib_dir\u001b[38;5;241m=\u001b[39m\u001b[38;5;28;01mNone\u001b[39;00m,\n\u001b[1;32m    527\u001b[0m     globals_dir\u001b[38;5;241m=\u001b[39m\u001b[38;5;28;01mNone\u001b[39;00m, declare_enums\u001b[38;5;241m=\u001b[39m\u001b[38;5;28;01mTrue\u001b[39;00m, allow_multiple_assignments\u001b[38;5;241m=\u001b[39m\u001b[38;5;28;01mFalse\u001b[39;00m,\n\u001b[0;32m   (...)\u001b[0m\n\u001b[1;32m    532\u001b[0m     rebase_arrays\u001b[38;5;241m=\u001b[39m\u001b[38;5;28;01mTrue\u001b[39;00m, keep_solutions\u001b[38;5;241m=\u001b[39m\u001b[38;5;28;01mTrue\u001b[39;00m, return_enums\u001b[38;5;241m=\u001b[39m\u001b[38;5;28;01mFalse\u001b[39;00m, \u001b[38;5;241m*\u001b[39m\u001b[38;5;241m*\u001b[39mkwargs\n\u001b[1;32m    533\u001b[0m ):\n\u001b[1;32m    534\u001b[0m \u001b[38;5;250m    \u001b[39m\u001b[38;5;124;03m\"\"\"Implements the workflow for solving a CSP problem encoded with MiniZinc.\u001b[39;00m\n\u001b[1;32m    535\u001b[0m \n\u001b[1;32m    536\u001b[0m \u001b[38;5;124;03m    Parameters\u001b[39;00m\n\u001b[0;32m   (...)\u001b[0m\n\u001b[1;32m    642\u001b[0m \u001b[38;5;124;03m        solution stream as a single string.\u001b[39;00m\n\u001b[1;32m    643\u001b[0m \u001b[38;5;124;03m    \"\"\"\u001b[39;00m\n\u001b[1;32m    645\u001b[0m     mzn_file, dzn_files, data_file, data, keep, _output_mode, types \u001b[38;5;241m=\u001b[39m \\\n\u001b[0;32m--> 646\u001b[0m         \u001b[43m_minizinc_preliminaries\u001b[49m\u001b[43m(\u001b[49m\n\u001b[1;32m    647\u001b[0m \u001b[43m            \u001b[49m\u001b[43mmzn\u001b[49m\u001b[43m,\u001b[49m\u001b[43m \u001b[49m\u001b[38;5;241;43m*\u001b[39;49m\u001b[43mdzn_files\u001b[49m\u001b[43m,\u001b[49m\u001b[43m \u001b[49m\u001b[43margs\u001b[49m\u001b[38;5;241;43m=\u001b[39;49m\u001b[43margs\u001b[49m\u001b[43m,\u001b[49m\u001b[43m \u001b[49m\u001b[43mdata\u001b[49m\u001b[38;5;241;43m=\u001b[39;49m\u001b[43mdata\u001b[49m\u001b[43m,\u001b[49m\u001b[43m \u001b[49m\u001b[43minclude\u001b[49m\u001b[38;5;241;43m=\u001b[39;49m\u001b[43minclude\u001b[49m\u001b[43m,\u001b[49m\n\u001b[1;32m    648\u001b[0m \u001b[43m            \u001b[49m\u001b[43mstdlib_dir\u001b[49m\u001b[38;5;241;43m=\u001b[39;49m\u001b[43mstdlib_dir\u001b[49m\u001b[43m,\u001b[49m\u001b[43m \u001b[49m\u001b[43mglobals_dir\u001b[49m\u001b[38;5;241;43m=\u001b[39;49m\u001b[43mglobals_dir\u001b[49m\u001b[43m,\u001b[49m\n\u001b[1;32m    649\u001b[0m \u001b[43m            \u001b[49m\u001b[43moutput_vars\u001b[49m\u001b[38;5;241;43m=\u001b[39;49m\u001b[43moutput_vars\u001b[49m\u001b[43m,\u001b[49m\u001b[43m \u001b[49m\u001b[43mkeep\u001b[49m\u001b[38;5;241;43m=\u001b[39;49m\u001b[43mkeep\u001b[49m\u001b[43m,\u001b[49m\u001b[43m \u001b[49m\u001b[43moutput_base\u001b[49m\u001b[38;5;241;43m=\u001b[39;49m\u001b[43moutput_base\u001b[49m\u001b[43m,\u001b[49m\n\u001b[1;32m    650\u001b[0m \u001b[43m            \u001b[49m\u001b[43moutput_mode\u001b[49m\u001b[38;5;241;43m=\u001b[39;49m\u001b[43moutput_mode\u001b[49m\u001b[43m,\u001b[49m\u001b[43m \u001b[49m\u001b[43mdeclare_enums\u001b[49m\u001b[38;5;241;43m=\u001b[39;49m\u001b[43mdeclare_enums\u001b[49m\u001b[43m,\u001b[49m\n\u001b[1;32m    651\u001b[0m \u001b[43m            \u001b[49m\u001b[43mallow_multiple_assignments\u001b[49m\u001b[38;5;241;43m=\u001b[39;49m\u001b[43mallow_multiple_assignments\u001b[49m\n\u001b[1;32m    652\u001b[0m \u001b[43m        \u001b[49m\u001b[43m)\u001b[49m\n\u001b[1;32m    654\u001b[0m     \u001b[38;5;28;01mif\u001b[39;00m \u001b[38;5;129;01mnot\u001b[39;00m solver:\n\u001b[1;32m    655\u001b[0m         solver \u001b[38;5;241m=\u001b[39m config\u001b[38;5;241m.\u001b[39mget(\u001b[38;5;124m'\u001b[39m\u001b[38;5;124msolver\u001b[39m\u001b[38;5;124m'\u001b[39m, gecode)\n",
      "File \u001b[0;32m~/Documents/GitHub/masters-degree-course-unibo/.venv/lib/python3.11/site-packages/pymzn/mzn/minizinc.py:471\u001b[0m, in \u001b[0;36m_minizinc_preliminaries\u001b[0;34m(mzn, args, data, include, stdlib_dir, globals_dir, output_vars, keep, output_base, output_mode, declare_enums, allow_multiple_assignments, *dzn_files)\u001b[0m\n\u001b[1;32m    467\u001b[0m keep \u001b[38;5;241m=\u001b[39m config\u001b[38;5;241m.\u001b[39mget(\u001b[38;5;124m'\u001b[39m\u001b[38;5;124mkeep\u001b[39m\u001b[38;5;124m'\u001b[39m, keep)\n\u001b[1;32m    469\u001b[0m model \u001b[38;5;241m=\u001b[39m preprocess_model(model, rewrap\u001b[38;5;241m=\u001b[39mkeep, \u001b[38;5;241m*\u001b[39m\u001b[38;5;241m*\u001b[39m(args \u001b[38;5;129;01mor\u001b[39;00m {}))\n\u001b[0;32m--> 471\u001b[0m \u001b[43mcheck_model\u001b[49m\u001b[43m(\u001b[49m\n\u001b[1;32m    472\u001b[0m \u001b[43m    \u001b[49m\u001b[43mmodel\u001b[49m\u001b[43m,\u001b[49m\u001b[43m \u001b[49m\u001b[43minclude\u001b[49m\u001b[38;5;241;43m=\u001b[39;49m\u001b[43minclude\u001b[49m\u001b[43m,\u001b[49m\u001b[43m \u001b[49m\u001b[43mstdlib_dir\u001b[49m\u001b[38;5;241;43m=\u001b[39;49m\u001b[43mstdlib_dir\u001b[49m\u001b[43m,\u001b[49m\u001b[43m \u001b[49m\u001b[43mglobals_dir\u001b[49m\u001b[38;5;241;43m=\u001b[39;49m\u001b[43mglobals_dir\u001b[49m\n\u001b[1;32m    473\u001b[0m \u001b[43m\u001b[49m\u001b[43m)\u001b[49m\n\u001b[1;32m    475\u001b[0m types \u001b[38;5;241m=\u001b[39m _var_types(\n\u001b[1;32m    476\u001b[0m     model, allow_multiple_assignments\u001b[38;5;241m=\u001b[39mallow_multiple_assignments\n\u001b[1;32m    477\u001b[0m )\n\u001b[1;32m    479\u001b[0m \u001b[38;5;28;01mif\u001b[39;00m output_mode \u001b[38;5;241m==\u001b[39m \u001b[38;5;124m'\u001b[39m\u001b[38;5;124mdict\u001b[39m\u001b[38;5;124m'\u001b[39m:\n",
      "File \u001b[0;32m~/Documents/GitHub/masters-degree-course-unibo/.venv/lib/python3.11/site-packages/pymzn/mzn/minizinc.py:428\u001b[0m, in \u001b[0;36mcheck_model\u001b[0;34m(mzn, include, stdlib_dir, globals_dir)\u001b[0m\n\u001b[1;32m    425\u001b[0m proc \u001b[38;5;241m=\u001b[39m _run_minizinc_proc(\u001b[38;5;241m*\u001b[39margs, \u001b[38;5;28minput\u001b[39m\u001b[38;5;241m=\u001b[39m\u001b[38;5;28minput\u001b[39m)\n\u001b[1;32m    427\u001b[0m \u001b[38;5;28;01mif\u001b[39;00m proc\u001b[38;5;241m.\u001b[39mstderr_data:\n\u001b[0;32m--> 428\u001b[0m     \u001b[38;5;28;01mraise\u001b[39;00m MiniZincError(\n\u001b[1;32m    429\u001b[0m         mzn \u001b[38;5;28;01mif\u001b[39;00m \u001b[38;5;28minput\u001b[39m \u001b[38;5;129;01mis\u001b[39;00m \u001b[38;5;28;01mNone\u001b[39;00m \u001b[38;5;28;01melse\u001b[39;00m \u001b[38;5;124m'\u001b[39m\u001b[38;5;130;01m\\n\u001b[39;00m\u001b[38;5;124m'\u001b[39m \u001b[38;5;241m+\u001b[39m mzn \u001b[38;5;241m+\u001b[39m \u001b[38;5;124m'\u001b[39m\u001b[38;5;130;01m\\n\u001b[39;00m\u001b[38;5;124m'\u001b[39m, args, proc\u001b[38;5;241m.\u001b[39mstderr_data\n\u001b[1;32m    430\u001b[0m     )\n\u001b[1;32m    432\u001b[0m logger\u001b[38;5;241m.\u001b[39minfo(\u001b[38;5;124m'\u001b[39m\u001b[38;5;124mModel checking passed.\u001b[39m\u001b[38;5;124m'\u001b[39m)\n",
      "\u001b[0;31mMiniZincError\u001b[0m: An error occurred while executing minizinc on file \n%% knapsack01.mzn %%\nint: n;                     % number of objects\nset of int: OBJ = 1..n;\nint: capacity;              % the capacity of the knapsack\narray[OBJ] of int: profit;  % the profit of each object\narray[OBJ] of int: size;    % the size of each object\n\nvar set of OBJ: x;\nconstraint sum(i in x)(size[i]) <= capacity;\nvar int: obj = sum(i in x)(profit[i]);\nsolve maximize obj;\n\n with command line arguments: ['--model-check-only', '-']\n\nError: configuration error: no solver with tag org.gecode.gecode found\n"
     ]
    }
   ],
   "source": [
    "import pymzn\n",
    "\n",
    "solutions = pymzn.minizinc(\n",
    "    mzn=\"./nqueens.mzn\",\n",
    "    dzn=\"./nqueens.dzn\",\n",
    "    data={'capacity':20}\n",
    ")\n",
    "\n",
    "print(solutions)"
   ]
  },
  {
   "cell_type": "code",
   "execution_count": 1,
   "metadata": {},
   "outputs": [
    {
     "ename": "RuntimeError",
     "evalue": "the synchronous MiniZinc Python `solve()` method was called from an asynchronous environment.\n\nBecause Python's asyncio library does not support using multiple event loops that would be required to use this method, we instead suggest you use the `solve_async()' method or patch Python behaviour with a package such as `nested_asyncio'.\n\nOriginal message: asyncio.run() cannot be called from a running event loop",
     "output_type": "error",
     "traceback": [
      "\u001b[0;31m---------------------------------------------------------------------------\u001b[0m",
      "\u001b[0;31mRuntimeError\u001b[0m                              Traceback (most recent call last)",
      "File \u001b[0;32m~/Documents/GitHub/masters-degree-course-unibo/.venv/lib/python3.11/site-packages/minizinc/instance.py:183\u001b[0m, in \u001b[0;36mInstance.solve\u001b[0;34m(self, timeout, nr_solutions, processes, random_seed, all_solutions, intermediate_solutions, free_search, optimisation_level, **kwargs)\u001b[0m\n\u001b[1;32m    182\u001b[0m         asyncio\u001b[38;5;241m.\u001b[39mset_event_loop_policy(asyncio\u001b[38;5;241m.\u001b[39mWindowsProactorEventLoopPolicy())\n\u001b[0;32m--> 183\u001b[0m     \u001b[38;5;28;01mreturn\u001b[39;00m \u001b[43masyncio\u001b[49m\u001b[38;5;241;43m.\u001b[39;49m\u001b[43mrun\u001b[49m\u001b[43m(\u001b[49m\u001b[43mcoroutine\u001b[49m\u001b[43m)\u001b[49m\n\u001b[1;32m    184\u001b[0m \u001b[38;5;28;01mexcept\u001b[39;00m \u001b[38;5;167;01mRuntimeError\u001b[39;00m \u001b[38;5;28;01mas\u001b[39;00m r:\n",
      "File \u001b[0;32m~/.pyenv/versions/3.11.4/lib/python3.11/asyncio/runners.py:186\u001b[0m, in \u001b[0;36mrun\u001b[0;34m(main, debug)\u001b[0m\n\u001b[1;32m    184\u001b[0m \u001b[38;5;28;01mif\u001b[39;00m events\u001b[38;5;241m.\u001b[39m_get_running_loop() \u001b[38;5;129;01mis\u001b[39;00m \u001b[38;5;129;01mnot\u001b[39;00m \u001b[38;5;28;01mNone\u001b[39;00m:\n\u001b[1;32m    185\u001b[0m     \u001b[38;5;66;03m# fail fast with short traceback\u001b[39;00m\n\u001b[0;32m--> 186\u001b[0m     \u001b[38;5;28;01mraise\u001b[39;00m \u001b[38;5;167;01mRuntimeError\u001b[39;00m(\n\u001b[1;32m    187\u001b[0m         \u001b[38;5;124m\"\u001b[39m\u001b[38;5;124masyncio.run() cannot be called from a running event loop\u001b[39m\u001b[38;5;124m\"\u001b[39m)\n\u001b[1;32m    189\u001b[0m \u001b[38;5;28;01mwith\u001b[39;00m Runner(debug\u001b[38;5;241m=\u001b[39mdebug) \u001b[38;5;28;01mas\u001b[39;00m runner:\n",
      "\u001b[0;31mRuntimeError\u001b[0m: asyncio.run() cannot be called from a running event loop",
      "\nThe above exception was the direct cause of the following exception:\n",
      "\u001b[0;31mRuntimeError\u001b[0m                              Traceback (most recent call last)",
      "Cell \u001b[0;32mIn[1], line 11\u001b[0m\n\u001b[1;32m      9\u001b[0m \u001b[38;5;66;03m# Assign 4 to n\u001b[39;00m\n\u001b[1;32m     10\u001b[0m instance[\u001b[38;5;124m\"\u001b[39m\u001b[38;5;124mn\u001b[39m\u001b[38;5;124m\"\u001b[39m] \u001b[38;5;241m=\u001b[39m \u001b[38;5;241m4\u001b[39m\n\u001b[0;32m---> 11\u001b[0m result \u001b[38;5;241m=\u001b[39m \u001b[43minstance\u001b[49m\u001b[38;5;241;43m.\u001b[39;49m\u001b[43msolve\u001b[49m\u001b[43m(\u001b[49m\u001b[43m)\u001b[49m\n\u001b[1;32m     12\u001b[0m \u001b[38;5;66;03m# Output the array q\u001b[39;00m\n\u001b[1;32m     13\u001b[0m \u001b[38;5;28mprint\u001b[39m(result[\u001b[38;5;124m\"\u001b[39m\u001b[38;5;124mq\u001b[39m\u001b[38;5;124m\"\u001b[39m])\n",
      "File \u001b[0;32m~/Documents/GitHub/masters-degree-course-unibo/.venv/lib/python3.11/site-packages/minizinc/instance.py:186\u001b[0m, in \u001b[0;36mInstance.solve\u001b[0;34m(self, timeout, nr_solutions, processes, random_seed, all_solutions, intermediate_solutions, free_search, optimisation_level, **kwargs)\u001b[0m\n\u001b[1;32m    184\u001b[0m \u001b[38;5;28;01mexcept\u001b[39;00m \u001b[38;5;167;01mRuntimeError\u001b[39;00m \u001b[38;5;28;01mas\u001b[39;00m r:\n\u001b[1;32m    185\u001b[0m     \u001b[38;5;28;01mif\u001b[39;00m \u001b[38;5;124m\"\u001b[39m\u001b[38;5;124mcalled from a running event loop\u001b[39m\u001b[38;5;124m\"\u001b[39m \u001b[38;5;129;01min\u001b[39;00m r\u001b[38;5;241m.\u001b[39margs[\u001b[38;5;241m0\u001b[39m]:\n\u001b[0;32m--> 186\u001b[0m         \u001b[38;5;28;01mraise\u001b[39;00m \u001b[38;5;167;01mRuntimeError\u001b[39;00m(\n\u001b[1;32m    187\u001b[0m             \u001b[38;5;124m\"\u001b[39m\u001b[38;5;124mthe synchronous MiniZinc Python `solve()` method was called from\u001b[39m\u001b[38;5;124m\"\u001b[39m\n\u001b[1;32m    188\u001b[0m             \u001b[38;5;124m\"\u001b[39m\u001b[38;5;124m an asynchronous environment.\u001b[39m\u001b[38;5;130;01m\\n\u001b[39;00m\u001b[38;5;130;01m\\n\u001b[39;00m\u001b[38;5;124mBecause Python\u001b[39m\u001b[38;5;124m'\u001b[39m\u001b[38;5;124ms asyncio library\u001b[39m\u001b[38;5;124m\"\u001b[39m\n\u001b[1;32m    189\u001b[0m             \u001b[38;5;124m\"\u001b[39m\u001b[38;5;124m does not support using multiple event loops that would be\u001b[39m\u001b[38;5;124m\"\u001b[39m\n\u001b[1;32m    190\u001b[0m             \u001b[38;5;124m\"\u001b[39m\u001b[38;5;124m required to use this method, we instead suggest you use the\u001b[39m\u001b[38;5;124m\"\u001b[39m\n\u001b[1;32m    191\u001b[0m             \u001b[38;5;124m\"\u001b[39m\u001b[38;5;124m `solve_async()\u001b[39m\u001b[38;5;124m'\u001b[39m\u001b[38;5;124m method or patch Python behaviour with a package\u001b[39m\u001b[38;5;124m\"\u001b[39m\n\u001b[1;32m    192\u001b[0m             \u001b[38;5;124m\"\u001b[39m\u001b[38;5;124m such as `nested_asyncio\u001b[39m\u001b[38;5;124m'\u001b[39m\u001b[38;5;124m.\u001b[39m\u001b[38;5;130;01m\\n\u001b[39;00m\u001b[38;5;130;01m\\n\u001b[39;00m\u001b[38;5;124mOriginal message: \u001b[39m\u001b[38;5;124m\"\u001b[39m \u001b[38;5;241m+\u001b[39m \u001b[38;5;28mstr\u001b[39m(r)\n\u001b[1;32m    193\u001b[0m         ) \u001b[38;5;28;01mfrom\u001b[39;00m\u001b[38;5;250m \u001b[39m\u001b[38;5;21;01mr\u001b[39;00m\n\u001b[1;32m    194\u001b[0m     \u001b[38;5;28;01melse\u001b[39;00m:\n\u001b[1;32m    195\u001b[0m         \u001b[38;5;28;01mraise\u001b[39;00m r\n",
      "\u001b[0;31mRuntimeError\u001b[0m: the synchronous MiniZinc Python `solve()` method was called from an asynchronous environment.\n\nBecause Python's asyncio library does not support using multiple event loops that would be required to use this method, we instead suggest you use the `solve_async()' method or patch Python behaviour with a package such as `nested_asyncio'.\n\nOriginal message: asyncio.run() cannot be called from a running event loop"
     ]
    }
   ],
   "source": [
    "from minizinc import Instance, Model, Solver\n",
    "\n",
    "# Load n-Queens model from file\n",
    "nqueens = Model(\"./nqueens.mzn\")\n",
    "# Find the MiniZinc solver configuration for Gecode\n",
    "solver = Solver.lookup(\"coin-bc\")\n",
    "# Create an Instance of the n-Queens model for Gecode\n",
    "instance = Instance(solver=solver, model=nqueens)\n",
    "# Assign 4 to n\n",
    "instance[\"n\"] = 4\n",
    "result = instance.solve()\n",
    "# Output the array q\n",
    "print(result[\"q\"])\n"
   ]
  },
  {
   "cell_type": "code",
   "execution_count": null,
   "metadata": {},
   "outputs": [],
   "source": []
  }
 ],
 "metadata": {
  "kernelspec": {
   "display_name": ".venv",
   "language": "python",
   "name": "python3"
  },
  "language_info": {
   "codemirror_mode": {
    "name": "ipython",
    "version": 3
   },
   "file_extension": ".py",
   "mimetype": "text/x-python",
   "name": "python",
   "nbconvert_exporter": "python",
   "pygments_lexer": "ipython3",
   "version": "3.11.4"
  }
 },
 "nbformat": 4,
 "nbformat_minor": 2
}
