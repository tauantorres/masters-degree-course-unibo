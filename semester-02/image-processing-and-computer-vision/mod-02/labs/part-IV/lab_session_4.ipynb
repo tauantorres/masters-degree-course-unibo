{
  "cells": [
    {
      "cell_type": "markdown",
      "source": [
        "# **Introduction to PyTorch**\n",
        "## Image Processing and Computer Vision - Lab Session No. 4\n",
        "\n",
        "Contacts:\n",
        "\n",
        "- Prof. Giuseppe Lisanti -> giuseppe.lisanti@unibo.it\n",
        "- Prof. Samuele Salti -> samuele.salti@unibo.it\n",
        "- Alex Costanzino -> alex.costanzino@unibo.it\n",
        "- Francesco Ballerini -> francesco.ballerini4@unibo.it\n",
        "\n",
        "Based on the [UvA Deep Learning Course](https://uvadlc.github.io)."
      ],
      "metadata": {
        "id": "q-xdl8ay2YwJ"
      }
    },
    {
      "cell_type": "markdown",
      "source": [
        "## Import dependencies"
      ],
      "metadata": {
        "id": "XwNURhm8fhOL"
      }
    },
    {
      "cell_type": "code",
      "source": [
        "import random\n",
        "import time\n",
        "\n",
        "import matplotlib.pyplot as plt\n",
        "import numpy as np\n",
        "\n",
        "from tqdm.notebook import tqdm\n",
        "\n",
        "import torch\n",
        "import torch.nn as nn\n",
        "import torch.nn.functional as F\n",
        "\n",
        "from torch.optim import Adam\n",
        "from torch.utils.data import random_split, DataLoader\n",
        "from torchvision import transforms as T, datasets"
      ],
      "metadata": {
        "id": "BVQZKvyufiKb"
      },
      "execution_count": null,
      "outputs": []
    },
    {
      "cell_type": "markdown",
      "source": [
        "## Runtime settings\n",
        "\n",
        "For this hands-on session and the next one, we are going to train on GPUs. To request a GPU for you virtual machine in Colab, you should change your runtime type:\n",
        "\n",
        "![](https://cdn.analyticsvidhya.com/wp-content/uploads/2020/03/uc14.png)"
      ],
      "metadata": {
        "id": "RLqo3_PHf0oE"
      }
    },
    {
      "cell_type": "markdown",
      "source": [
        "## PyTorch basics\n",
        "\n",
        "As a prerequisite, we recommend to be familiar with the `numpy` package as most machine learning frameworks are based on very similar concepts. If you are not familiar with NumPy yet, don't worry: here is a [tutorial](https://numpy.org/devdocs/user/quickstart.html) to go through.\n",
        "\n",
        "So, let's start with importing PyTorch and check its version:"
      ],
      "metadata": {
        "id": "H0-AgE93gCN0"
      }
    },
    {
      "cell_type": "code",
      "source": [
        "import torch\n",
        "print(\"Using torch\", torch.__version__)"
      ],
      "metadata": {
        "id": "QC29pQZtfzoX"
      },
      "execution_count": null,
      "outputs": []
    },
    {
      "cell_type": "markdown",
      "source": [
        "### Reproducibility\n",
        "When **developing and debugging** neural networks is desirable to have a deterministic behaviour (see *ablations*).\n",
        "\n",
        "For this reason, we are going to disable all the sources of randomness. Please note that completely reproducible results are not guaranteed (more detailed information at this [page](https://pytorch.org/docs/stable/notes/randomness.html)).\n",
        "\n",
        "Please note that the flag `cudnn.benchmark = False` disables the auto-tuner that selects the optimal set of algorithms for your hardware and usually leads to slower runtime."
      ],
      "metadata": {
        "id": "dgXBvsGKfuW2"
      }
    },
    {
      "cell_type": "code",
      "source": [
        "def fix_random(seed: int) -> None:\n",
        "    \"\"\"Fix all the possible sources of randomness.\n",
        "\n",
        "    Args:\n",
        "        seed: the seed to use.\n",
        "    \"\"\"\n",
        "    np.random.seed(seed)\n",
        "    random.seed(seed)\n",
        "    torch.manual_seed(seed)\n",
        "    torch.cuda.manual_seed(seed)\n",
        "\n",
        "    torch.backends.cudnn.benchmark = False\n",
        "    torch.backends.cudnn.deterministic = True\n",
        "\n",
        "fix_random(115)"
      ],
      "metadata": {
        "id": "aA2TAJhHfpff"
      },
      "execution_count": null,
      "outputs": []
    },
    {
      "cell_type": "markdown",
      "source": [
        "### Tensors\n",
        "\n",
        "Tensors are the PyTorch equivalent to NumPy arrays, with the addition of also having support for GPU acceleration (more on that later).\n",
        "\n",
        "The name \"tensor\" is a generalization of concepts of arrays/matrices. For instance, a vector is a 1-D tensor, and a matrix a 2-D tensor.\n",
        "\n",
        "Most common functions you know from NumPy can be used on tensors as well. Actually, since NumPy arrays are so similar to tensors, we can convert most tensors to NumPy arrays (and back), although we don't need it too often."
      ],
      "metadata": {
        "id": "ngFCfpwCgREI"
      }
    },
    {
      "cell_type": "markdown",
      "source": [
        "#### Initialization\n",
        "\n",
        "Let's first start by looking at different ways of creating a tensor. There are many possible options, the simplest one is to call `torch.Tensor` passing the desired shape as input argument:"
      ],
      "metadata": {
        "id": "Pu4jV7pX-Si5"
      }
    },
    {
      "cell_type": "code",
      "source": [
        "x = torch.Tensor(2, 3, 4)\n",
        "print(x)"
      ],
      "metadata": {
        "id": "uDQiOHawgFPf"
      },
      "execution_count": null,
      "outputs": []
    },
    {
      "cell_type": "markdown",
      "source": [
        "The function `torch.Tensor` allocates memory for the desired tensor, but reuses any values that have already been stored in the memory by default underlying processes (*uninitialized memory*).\n",
        "\n",
        "To directly assign values to the tensor during initialization, there are many alternatives including:\n",
        "\n",
        "* `torch.zeros`: creates a tensor filled with zeros\n",
        "* `torch.ones`: creates a tensor filled with ones\n",
        "* `torch.rand`: creates a tensor with random values uniformly sampled between 0 and 1\n",
        "* `torch.randn`: creates a tensor with random values sampled from a normal distribution with mean 0 and variance 1\n",
        "* `torch.arange`: creates a tensor containing the values $N,N+1,N+2,...,M$\n",
        "* `torch.Tensor` (input list): creates a tensor from the list elements you provide"
      ],
      "metadata": {
        "id": "hLIXyENcgWh4"
      }
    },
    {
      "cell_type": "code",
      "source": [
        "# Create a tensor from a (nested) list\n",
        "x = torch.Tensor([[1, 2], [3, 4]])\n",
        "print(x)"
      ],
      "metadata": {
        "id": "UyBYyCOegTDg"
      },
      "execution_count": null,
      "outputs": []
    },
    {
      "cell_type": "code",
      "source": [
        "# Create a tensor with random values between 0 and 1 with the shape [2, 3, 4]\n",
        "x = torch.rand(2, 3, 4)\n",
        "print(x)\n",
        "print(x.shape)"
      ],
      "metadata": {
        "id": "37LE_1X0gZB2"
      },
      "execution_count": null,
      "outputs": []
    },
    {
      "cell_type": "markdown",
      "source": [
        "#### Tensor to NumPy, and NumPy to Tensor\n",
        "\n",
        "PyTorch tensors can be converted to NumPy arrays, and NumPy arrays back to tensors. To transform a NumPy array into a tensor, we can use the function `torch.from_numpy`:"
      ],
      "metadata": {
        "id": "Ew-ZZuvigdsw"
      }
    },
    {
      "cell_type": "code",
      "source": [
        "np_arr = np.array([[1, 2], [3, 4]])\n",
        "tensor = torch.from_numpy(np_arr)\n",
        "\n",
        "print(f\"NumPy array:\\n{np_arr}\")\n",
        "print(f\"\\nPyTorch tensor:\\n{tensor}\")"
      ],
      "metadata": {
        "id": "xVwTEf8DgeDm"
      },
      "execution_count": null,
      "outputs": []
    },
    {
      "cell_type": "markdown",
      "source": [
        "To transform a PyTorch tensor back to a NumPy array, we can use the function `.numpy()` on tensors:"
      ],
      "metadata": {
        "id": "mWn5KkHXghtv"
      }
    },
    {
      "cell_type": "code",
      "source": [
        "tensor = torch.arange(4)\n",
        "np_arr = tensor.numpy()\n",
        "\n",
        "print(f\"PyTorch tensor:\\n{tensor}\")\n",
        "print(f\"\\nNumpy array:\\n{np_arr}\")"
      ],
      "metadata": {
        "id": "zDu5t-bUgh79"
      },
      "execution_count": null,
      "outputs": []
    },
    {
      "cell_type": "markdown",
      "source": [
        "The conversion of tensors to NumPy requires the tensor to be on the CPU, and not the GPU (more on GPU support in a later section).\n",
        "\n",
        "In case you have a tensor on GPU, you need to call `.cpu()` on the tensor beforehand. Hence, you get a line like `np_arr = tensor.cpu().numpy()`."
      ],
      "metadata": {
        "id": "SRgeGtXmglxN"
      }
    },
    {
      "cell_type": "markdown",
      "source": [
        "#### Basic operations\n"
      ],
      "metadata": {
        "id": "If8Fn80mguoR"
      }
    },
    {
      "cell_type": "code",
      "source": [
        "x1 = torch.rand(2, 3)\n",
        "x2 = torch.rand(2, 3)\n",
        "y = x1 + x2\n",
        "\n",
        "print(f\"X1:\\n{x1}\")\n",
        "print(f\"X2:\\n{x2}\")\n",
        "print(f\"Y:\\n{y}\")"
      ],
      "metadata": {
        "id": "FTS9VAVWgmHG"
      },
      "execution_count": null,
      "outputs": []
    },
    {
      "cell_type": "markdown",
      "source": [
        "In-place operations are usually marked with a underscore postfix (e.g. `add_` instead of `add`):"
      ],
      "metadata": {
        "id": "uZusffRoELYW"
      }
    },
    {
      "cell_type": "code",
      "source": [
        "x1 = torch.rand(2, 3)\n",
        "x2 = torch.rand(2, 3)\n",
        "print(f\"X1 (before):\\n{x1}\")\n",
        "print(f\"X2 (before):\\n{x2}\")\n",
        "\n",
        "x2.add_(x1)\n",
        "print(f\"X1 (after):\\n{x1}\")\n",
        "print(f\"X2 (after):\\n{x2}\")"
      ],
      "metadata": {
        "id": "TBHw7x7jgxpD"
      },
      "execution_count": null,
      "outputs": []
    },
    {
      "cell_type": "markdown",
      "source": [
        "Another common operation aims at changing the shape of a tensor. A tensor of size (2,3) can be re-organized to any other shape with the same number of elements (e.g. a tensor of size (6) or (3,2)). In PyTorch, this operation is called `view`:"
      ],
      "metadata": {
        "id": "Tsvfxz_7g0jZ"
      }
    },
    {
      "cell_type": "code",
      "source": [
        "x = torch.arange(6)\n",
        "print(f\"X:\\n{x}\")"
      ],
      "metadata": {
        "id": "FJ3akcLwg5QO"
      },
      "execution_count": null,
      "outputs": []
    },
    {
      "cell_type": "code",
      "source": [
        "x = x.view(2, 3)\n",
        "print(f\"X:\\n{x}\")"
      ],
      "metadata": {
        "id": "mgPBjXQbg5Sn"
      },
      "execution_count": null,
      "outputs": []
    },
    {
      "cell_type": "code",
      "source": [
        "x = x.permute(1, 0)  # swap dimension 0 and 1\n",
        "print(f\"X:\\n{x}\")"
      ],
      "metadata": {
        "id": "EmgJr1nAg-dn"
      },
      "execution_count": null,
      "outputs": []
    },
    {
      "cell_type": "markdown",
      "source": [
        "### GPU support"
      ],
      "metadata": {
        "id": "6EURHdNfiRQU"
      }
    },
    {
      "cell_type": "code",
      "source": [
        "gpu_avail = torch.cuda.is_available()\n",
        "print(f\"Is the GPU available? {gpu_avail}\")"
      ],
      "metadata": {
        "id": "WOAcsnKoiTub"
      },
      "execution_count": null,
      "outputs": []
    },
    {
      "cell_type": "code",
      "source": [
        "device = torch.device(\"cuda\") if torch.cuda.is_available() else torch.device(\"cpu\")\n",
        "print(f\"Device: {device}\")"
      ],
      "metadata": {
        "id": "gO-TPsWwjN5z"
      },
      "execution_count": null,
      "outputs": []
    },
    {
      "cell_type": "code",
      "source": [
        "x = torch.zeros(2, 3)\n",
        "x = x.to(device)\n",
        "print(f\"X:\\n{x}\")"
      ],
      "metadata": {
        "id": "WIxwjjGGit23"
      },
      "execution_count": null,
      "outputs": []
    },
    {
      "cell_type": "markdown",
      "source": [
        "In case you have a GPU, you should now see the attribute `device='cuda:0'` being printed next to your tensor. The `0` next to `cuda` indicates that this is the `0`-th GPU device on your computer. PyTorch also supports multi-GPU systems, but you will only need this feature once you have very big networks to train (if interested, see the [PyTorch documentation](https://pytorch.org/docs/stable/distributed.html#distributed-basics)).\n",
        "\n",
        "We can also compare the runtime of a large matrix multiplication on the CPU with the same operation on the GPU:"
      ],
      "metadata": {
        "id": "yfnrkVv1jQRM"
      }
    },
    {
      "cell_type": "code",
      "source": [
        "x = torch.randn(5000, 5000)\n",
        "\n",
        "## CPU version\n",
        "start_time = time.time()\n",
        "_ = torch.matmul(x, x)\n",
        "end_time = time.time()\n",
        "print(f\"CPU time: {(end_time - start_time):6.5f}s\")\n",
        "\n",
        "## GPU version\n",
        "x = x.to(device)\n",
        "\n",
        "_ = torch.matmul(x, x)  # first operation to 'burn in' GPU\n",
        "\n",
        "# CUDA is asynchronous, so we need to use different timing functions\n",
        "start = torch.cuda.Event(enable_timing=True)\n",
        "end = torch.cuda.Event(enable_timing=True)\n",
        "\n",
        "start.record()\n",
        "_ = torch.matmul(x, x)\n",
        "end.record()\n",
        "\n",
        "torch.cuda.synchronize()  # wait for everything to finish running on the GPU\n",
        "\n",
        "print(f\"GPU time: {0.001 * start.elapsed_time(end):6.5f}s\")  # milliseconds to seconds"
      ],
      "metadata": {
        "id": "CT8SX9k2jV-J"
      },
      "execution_count": null,
      "outputs": []
    },
    {
      "cell_type": "markdown",
      "source": [
        "### Dynamic Computation Graph and Backpropagation\n",
        "\n",
        "One of the main reasons for using PyTorch in Deep Learning projects is that we can automatically get **gradients/derivatives** of functions that we define. We will mainly use PyTorch for implementing neural networks, and they are just fancy functions. If we use weight matrices in our function that we want to learn, then those are called the **parameters** or simply the **weights**.\n",
        "\n",
        "Given an input $\\mathbf{x}$, we define our function by **manipulating** that input, usually by matrix-multiplications with weight matrices and additions with so-called bias vectors. As we manipulate our input, we are automatically creating a **computational graph**. This graph shows how to arrive at our output from our input.\n",
        "\n",
        "PyTorch is a **define-by-run** framework; this means that we can just do our manipulations, and PyTorch will keep track of that graph for us. Thus, we create a dynamic computation graph along the way.\n",
        "\n",
        "So, to recap: the only thing we have to do is to compute the **output**, and then we can ask PyTorch to automatically get the **gradients**.\n",
        "\n",
        "> **Note:  Why do we want gradients?** Consider that we have defined a function, a neural net, that is supposed to compute a certain output $y$ for an input vector $\\mathbf{x}$. We then define an **error measure** that tells us how wrong our network is; how bad it is in predicting output $y$ from input $\\mathbf{x}$. Based on this error measure, we can use the gradients to **update** the weights $\\mathbf{W}$ that were responsible for the output, so that the next time we present input $\\mathbf{x}$ to our network, the output will be closer to what we want.\n",
        "\n",
        "The first thing we have to do is to specify which tensors require gradients. By default, when we create a tensor, it does not require gradients."
      ],
      "metadata": {
        "id": "tXFGealwhUTM"
      }
    },
    {
      "cell_type": "code",
      "source": [
        "x = torch.ones((3,))\n",
        "print(x.requires_grad)"
      ],
      "metadata": {
        "id": "uxAXf-n4hUzs"
      },
      "execution_count": null,
      "outputs": []
    },
    {
      "cell_type": "markdown",
      "source": [
        "We can change this for an existing tensor using the function `requires_grad_()` (underscore indicating that this is a in-place operation). Alternatively, when creating a tensor, you can pass the argument `requires_grad=True` to most initializers we have seen above."
      ],
      "metadata": {
        "id": "sX5lX1p-hYar"
      }
    },
    {
      "cell_type": "code",
      "source": [
        "x.requires_grad_(True)\n",
        "print(x.requires_grad)"
      ],
      "metadata": {
        "id": "f5-C-iAZhYyE"
      },
      "execution_count": null,
      "outputs": []
    },
    {
      "cell_type": "markdown",
      "source": [
        "In order to get familiar with the concept of a computation graph, we will create one for the following function:\n",
        "\n",
        "$$y(x_i) = \\frac{1}{N}\\sum_{i=1}^N\\left[(x_i + 2)^2 + 3\\right]$$\n",
        "\n",
        "where $N$ denotes the number of elements in $\\mathbf{x}$. You could imagine that $\\mathbf{x}$ are our parameters, and we want to optimize (either maximize or minimize) the output $y$. For this, we want to obtain the gradients $\\partial y / \\partial \\mathbf{x}$. For our example, we'll use $\\mathbf{x}=[0,1,2]$ as our input."
      ],
      "metadata": {
        "id": "DRFyBLqxhaYw"
      }
    },
    {
      "cell_type": "code",
      "source": [
        "x = torch.arange(3, dtype=torch.float32, requires_grad=True)  # only float tensors can have gradients\n",
        "print(f\"X:\\n{x}\")"
      ],
      "metadata": {
        "id": "1yWKQVIBhcwz"
      },
      "execution_count": null,
      "outputs": []
    },
    {
      "cell_type": "markdown",
      "source": [
        "Now let's build the computation graph step by step. You can combine multiple operations in a single line, but we will separate them here to get a better understanding of how each operation is added to the computation graph."
      ],
      "metadata": {
        "id": "mLQ-m-C4hhSQ"
      }
    },
    {
      "cell_type": "code",
      "source": [
        "a = x + 2\n",
        "print(\"a:\", a)\n",
        "b = a ** 2\n",
        "print(\"b:\", b)\n",
        "c = b + 3\n",
        "print(\"c:\", c)\n",
        "y = c.mean()\n",
        "print(\"Y:\", y)"
      ],
      "metadata": {
        "id": "49u8xvJ_hjqg"
      },
      "execution_count": null,
      "outputs": []
    },
    {
      "cell_type": "markdown",
      "source": [
        "Using the statements above, we have created a computation graph that looks similar to the figure below:\n",
        "\n",
        "![](data:image/svg+xml;base64,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)\n",
        "\n",
        "We can perform backpropagation on the computation graph by calling the function `backward()` on the last output, which effectively calculates the gradients for each tensor that has the property `requires_grad=True`:"
      ],
      "metadata": {
        "id": "IuPSEbQmhnUG"
      }
    },
    {
      "cell_type": "code",
      "source": [
        "y.backward()"
      ],
      "metadata": {
        "id": "34H59ODhhnod"
      },
      "execution_count": null,
      "outputs": []
    },
    {
      "cell_type": "markdown",
      "source": [
        "`x.grad` will now contain the gradient $\\partial y/ \\partial \\mathbf{x}$, and this gradient indicates how a change in $\\mathbf{x}$ will affect output $y$ given the current input $\\mathbf{x}=[0,1,2]$:"
      ],
      "metadata": {
        "id": "yj9ls_fSiFzT"
      }
    },
    {
      "cell_type": "code",
      "source": [
        "print(x.grad)"
      ],
      "metadata": {
        "id": "pUzoypZKiGNi"
      },
      "execution_count": null,
      "outputs": []
    },
    {
      "cell_type": "markdown",
      "source": [
        "We can also verify these gradients by hand. We will calculate the gradients using the chain rule, in the same way as PyTorch did it:\n",
        "\n",
        "$$\\frac{\\partial y}{\\partial x_i} = \\frac{\\partial y}{\\partial c_i}\\frac{\\partial c_i}{\\partial b_i}\\frac{\\partial b_i}{\\partial a_i}\\frac{\\partial a_i}{\\partial x_i}$$\n",
        "\n",
        "Note that we have simplified this equation to index notation, and by using the fact that all operation besides the mean do not combine the elements in the tensor. Since\n",
        "\n",
        "$$\n",
        "a_i=x_i+2, \\quad\n",
        "b_i=a_i^2, \\quad\n",
        "c_i=b_i+3, \\quad\n",
        "y=\\frac{1}{N}\\sum_{i=1}^N c_i\n",
        "$$\n",
        "\n",
        "The partial derivatives are:\n",
        "\n",
        "$$\n",
        "\\frac{\\partial a_i}{\\partial x_i} = 1, \\hspace{1cm}\n",
        "\\frac{\\partial b_i}{\\partial a_i} = 2\\cdot a_i, \\hspace{1cm}\n",
        "\\frac{\\partial c_i}{\\partial b_i} = 1, \\hspace{1cm}\n",
        "\\frac{\\partial y}{\\partial c_i} = \\frac{1}{3}\n",
        "$$\n",
        "\n",
        "Hence $\\partial y/\\partial x_i=\\frac{2}{3}(x_i+2)$.\n",
        "\n",
        "Thus, being the input $\\mathbf{x}=[0,1,2]$, our gradients are $\\partial y/\\partial \\mathbf{x}=[4/3,2,8/3]$. The previous code cell should have printed the same result."
      ],
      "metadata": {
        "id": "SAjQg5reiHwa"
      }
    },
    {
      "cell_type": "markdown",
      "source": [
        "## Let's build our first Neural Network!\n",
        "\n",
        "We are now going to create a simple neural network that classifies images from the [Street View House Numbers (SVHN) dataset](http://ufldl.stanford.edu/housenumbers/):\n",
        "\n",
        "![](https://miro.medium.com/v2/resize:fit:1200/1*X-VO9sZXIaHxh3aF-CRXZg.png)\n",
        "\n",
        "SVHN contains 600K 32x32 RGB images of printed digits (from 0 to 9) cropped from pictures of house number plates."
      ],
      "metadata": {
        "id": "rMpYB7E3jl65"
      }
    },
    {
      "cell_type": "markdown",
      "source": [
        "### Prepare the data\n",
        "\n",
        "Download the dataset:"
      ],
      "metadata": {
        "id": "tl6T_miQjtDF"
      }
    },
    {
      "cell_type": "code",
      "source": [
        "tsfms = T.Compose([\n",
        "    T.ToTensor(),\n",
        "    T.Lambda(lambda x: x.flatten())\n",
        "])\n",
        "\n",
        "train_dset = datasets.SVHN(\n",
        "    root=\"/data/\",\n",
        "    split=\"train\",\n",
        "    transform=tsfms,\n",
        "    download=True\n",
        ")\n",
        "test_dset = datasets.SVHN(\n",
        "    root=\"/data/\",\n",
        "    split=\"test\",\n",
        "    transform=tsfms,\n",
        "    download=True\n",
        ")\n",
        "\n",
        "n_classes = 10\n",
        "\n",
        "input_dim = len(train_dset[0][0])"
      ],
      "metadata": {
        "id": "mheve-u1jpx3"
      },
      "execution_count": null,
      "outputs": []
    },
    {
      "cell_type": "code",
      "source": [
        "_, ax = plt.subplots(1, 4)\n",
        "\n",
        "for i, idx in enumerate([0, 10, 20, 30]):\n",
        "    img, label = test_dset[idx]\n",
        "    ax[i].imshow(img.reshape(3, 32, 32).permute(1, 2, 0))\n",
        "    ax[i].set_title(label)\n",
        "    ax[i].axis(\"off\")"
      ],
      "metadata": {
        "id": "PUlnsRp7MWuY"
      },
      "execution_count": null,
      "outputs": []
    },
    {
      "cell_type": "markdown",
      "source": [
        "Create a small validation set from the training set:"
      ],
      "metadata": {
        "id": "VmPTtqPhkYBW"
      }
    },
    {
      "cell_type": "code",
      "source": [
        "train_subdset, val_subdset = random_split(\n",
        "    train_dset,\n",
        "    [len(train_dset) - 5000, 5000]\n",
        ")"
      ],
      "metadata": {
        "id": "MfooUAojkBIe"
      },
      "execution_count": null,
      "outputs": []
    },
    {
      "cell_type": "markdown",
      "source": [
        "#### The data loader class\n",
        "\n",
        "The class `torch.utils.data.DataLoader` represents a Python iterable over a dataset with support for automatic batching, multi-process data loading and many more features. The data loader communicates with the dataset using the `__getitem__` function, and stacks its outputs as tensors over the first dimension to form a batch.\n",
        "In contrast to the dataset class, we usually don't have to define our own data loader class, but can just create an object of it with the dataset as input. Additionally, we can configure our data loader with the following input arguments (only a selection, see full list [here](https://pytorch.org/docs/stable/data.html#torch.utils.data.DataLoader)):\n",
        "\n",
        "* `batch_size`: number of samples to stack per batch.\n",
        "* `shuffle`: if True, the data is returned in a random order. This is important during training for introducing stochasticity.\n",
        "* `num_workers`: number of subprocesses to use for data loading. The default, 0, means that the data will be loaded in the main process which can slow down training for datasets where loading a data point takes a considerable amount of time (e.g. large images). More workers are recommended for those, but can cause issues on Windows computers. For tiny datasets as ours, 0 workers are usually faster.\n",
        "* `pin_memory`: if True, the data loader will copy tensors into CUDA pinned memory before returning them. This can save some time for large data points on GPUs. Usually a good practice to use for a training set, but not necessarily for validation and test to save memory on the GPU.\n",
        "* `drop_last`: If True, the last batch is dropped in case it is smaller than the specified batch size. This occurs when the dataset size is not a multiple of the batch size. Only potentially helpful during training to keep a consistent batch size.\n",
        "\n",
        "Let's create a simple data loader below:"
      ],
      "metadata": {
        "id": "ZR8Cj93vnSLr"
      }
    },
    {
      "cell_type": "code",
      "source": [
        "batch_size = 256\n",
        "\n",
        "train_dl = DataLoader(\n",
        "    train_subdset,\n",
        "    batch_size=batch_size,\n",
        "    shuffle=True\n",
        ")\n",
        "val_dl = DataLoader(\n",
        "    val_subdset,\n",
        "    batch_size=batch_size\n",
        ")\n",
        "test_dl = DataLoader(\n",
        "    test_dset,\n",
        "    batch_size=batch_size\n",
        ")"
      ],
      "metadata": {
        "id": "J_7Pg2jAkH3H"
      },
      "execution_count": null,
      "outputs": []
    },
    {
      "cell_type": "code",
      "source": [
        "# next(iter(...)) catches the first batch of the data loader\n",
        "# If shuffle is True, this will return a different batch every time we run this cell\n",
        "# For iterating over the whole dataset, we can simple use \"for batch in data_loader: ...\"\n",
        "data_inputs, data_labels = next(iter(train_dl))\n",
        "\n",
        "# The shape of the outputs are [batch_size, d_1,...,d_N] where d_1,...,d_N are the\n",
        "# dimensions of the data point returned from the dataset class\n",
        "print(f\"Data inputs: {data_inputs.shape}\\n{data_inputs}\")\n",
        "print(f\"\\nData labels: {data_labels.shape}\\n{data_labels}\")"
      ],
      "metadata": {
        "id": "1rR2Vw5mnZjl"
      },
      "execution_count": null,
      "outputs": []
    },
    {
      "cell_type": "markdown",
      "source": [
        "### Create the network\n",
        "\n",
        "We will then create our first neural network. One way to create neural networks in PyTorch is by subclassing `torch.nn.Module`. In this way, our model will inherit a lot of ready-to-use convinience functions (access to parameters for optimization, get/set parameters, etc.).\n",
        "\n",
        "We only need to create the layers we will use in the `__init__` function and define the `forward` function that specifies how to apply them.\n",
        "\n",
        "Layers are in turn subclasses of `torch.nn.Module`. In our example, we will use only linear layers, i.e. Fully Connected (FC) layers. Our network will have at least two FC layers: `self.first`, mapping the flattened input image into the (first) hidden representation, and `self.last`, mapping the (last) hidden representation into the scores for the classes. `n_hidden_layers` specifies how many hidden layers our network has (`self.first` and `self.last` not included).\n",
        "\n",
        "\n",
        "Note that to store a variable number of layers in our network we do not use plain Python lists, but `torch.nn.ModuleList`. This is important to make PyTorch aware of the layers in the list, e.g. to set/get their parameters when calling the methods of the base `Module` class."
      ],
      "metadata": {
        "id": "M7bO5sVVkLaV"
      }
    },
    {
      "cell_type": "code",
      "source": [
        "class SimpleClassifier(nn.Module):\n",
        "    def __init__(self, input_dim, hidden_dim, n_classes, n_hidden_layers=0):\n",
        "        super().__init__()\n",
        "\n",
        "        # Initialize the modules we need to build the network\n",
        "        self.first = nn.Linear(input_dim, hidden_dim)\n",
        "        self.activation = nn.ReLU()\n",
        "        self.last = nn.Linear(hidden_dim, n_classes)\n",
        "\n",
        "        self.hidden_layers = nn.ModuleList([\n",
        "            nn.Linear(hidden_dim, hidden_dim) for i in range(n_hidden_layers)\n",
        "        ])\n",
        "\n",
        "    def forward(self, x):\n",
        "        # Perform the calculation of the model to determine the prediction\n",
        "        x = self.first(x)\n",
        "        x = self.activation(x)\n",
        "        for layer in self.hidden_layers:\n",
        "            x = layer(x)\n",
        "            x = self.activation(x)\n",
        "        x = self.last(x)\n",
        "\n",
        "        return x"
      ],
      "metadata": {
        "id": "ahhsPujbkL7I"
      },
      "execution_count": null,
      "outputs": []
    },
    {
      "cell_type": "code",
      "source": [
        "hidden_dim = 128\n",
        "\n",
        "model = SimpleClassifier(\n",
        "    input_dim,\n",
        "    hidden_dim,\n",
        "    n_classes,\n",
        "    n_hidden_layers=1\n",
        ")\n",
        "for name, params in model.named_parameters():\n",
        "    print(f\"{name}: {params.shape}\")"
      ],
      "metadata": {
        "id": "2Z-UyxAAn_fX"
      },
      "execution_count": null,
      "outputs": []
    },
    {
      "cell_type": "markdown",
      "source": [
        "Each linear layer has a weight matrix of shape `[output, input]`, and a bias of the shape `[output]`. The activation function does not have any parameters. Note that parameters are only registered for `nn.Module` objects that are direct object attributes, i.e. `self.a = ...`.\n",
        "\n",
        "`state_dict()` instead is an (ordered) dictionary, which associates each variable storing a layer with its parameters. It is therefore useful to obtain a snapshot of the parameters of our model that can later be restored by calling `load_state_dict()`."
      ],
      "metadata": {
        "id": "MqCpCn4vmt1i"
      }
    },
    {
      "cell_type": "code",
      "source": [
        "type(model.state_dict())"
      ],
      "metadata": {
        "id": "Viqn0fgyqn0v"
      },
      "execution_count": null,
      "outputs": []
    },
    {
      "cell_type": "code",
      "source": [
        "model.state_dict().keys()"
      ],
      "metadata": {
        "id": "TwTXNE8DqpLf"
      },
      "execution_count": null,
      "outputs": []
    },
    {
      "cell_type": "code",
      "source": [
        "model.state_dict()[\"first.bias\"]"
      ],
      "metadata": {
        "id": "dBoWl-lpqqZe"
      },
      "execution_count": null,
      "outputs": []
    },
    {
      "cell_type": "code",
      "source": [
        "# Push model to device. Has to be done only once.\n",
        "model.to(device)"
      ],
      "metadata": {
        "id": "hHdm_zLjpwCY"
      },
      "execution_count": null,
      "outputs": []
    },
    {
      "cell_type": "markdown",
      "source": [
        "### Optimization\n",
        "\n",
        "After defining the model and the dataset, it is time to prepare the optimization of the model. During training, we will perform the following steps:\n",
        "\n",
        "1. Get a batch from the data loader\n",
        "```\n",
        "for (x,y) in dataset:\n",
        "```\n",
        "2. Obtain the predictions from the model for the batch\n",
        "```\n",
        "y_pred = model(x)\n",
        "```\n",
        "3. Calculate the loss based on the difference between predictions and labels\n",
        "```\n",
        "loss = fcn(y_pred, y)\n",
        "```\n",
        "4. Backpropagation: calculate the gradients for every parameter with respect to the loss\n",
        "```\n",
        "optimizer.zero_grad()\n",
        "loss.backward()\n",
        "```\n",
        "5. Update the parameters of the model in the direction of the gradients\n",
        "```\n",
        "optimizer.step()\n",
        "```\n",
        "To update the parameters, PyTorch provides the package `torch.optim` that has most popular optimizers implemented. We will for now use `torch.optim.Adam`."
      ],
      "metadata": {
        "id": "pMJ3jFu-nujg"
      }
    },
    {
      "cell_type": "code",
      "source": [
        "optimizer = Adam(model.parameters(), lr=0.001)"
      ],
      "metadata": {
        "id": "JAK9JOl3o-mE"
      },
      "execution_count": null,
      "outputs": []
    },
    {
      "cell_type": "markdown",
      "source": [
        "The optimizer provides two useful functions: `optimizer.step()` and `optimizer.zero_grad()`. The step function updates the parameters based on the gradients as explained above.\n",
        "\n",
        "The function `optimizer.zero_grad()` sets the gradients of all parameters to zero. While this function seems less relevant at first, it is a crucial pre-step before performing backpropagation. If we call the `backward` function on the loss while the parameter gradients are non-zero from the previous batch, the new gradients will actually be added to the previous ones instead of overwriting them. This is done because a parameter might occur multiple times in a computation graph, and we need to sum the gradients in this case instead of replacing them. Hence, remember to call `optimizer.zero_grad()` before calculating the gradients of a batch."
      ],
      "metadata": {
        "id": "RrM17i7spNNN"
      }
    },
    {
      "cell_type": "code",
      "source": [
        "def ncorrect(scores, y):\n",
        "    y_hat = torch.argmax(scores, -1)\n",
        "    return (y_hat == y).sum()\n",
        "\n",
        "def accuracy(scores, y):\n",
        "    correct = ncorrect(scores, y)\n",
        "    return correct.true_divide(y.shape[0])\n",
        "\n",
        "def train_loop(model, train_dl, epochs, opt, val_dl=None, verbose=False):\n",
        "    best_val_acc = 0\n",
        "    best_params = []\n",
        "    best_epoch = -1\n",
        "\n",
        "    for e in tqdm(range(epochs)):\n",
        "        # ----------[ Training loop ]---------- #\n",
        "        model.train()\n",
        "        train_loss = 0\n",
        "        train_samples = 0\n",
        "        train_acc = 0\n",
        "\n",
        "        for train_data in train_dl:\n",
        "            imgs = train_data[0].to(device)\n",
        "            labels = train_data[1].to(device)\n",
        "\n",
        "            scores = model(imgs)\n",
        "\n",
        "            loss = F.cross_entropy(scores, labels)\n",
        "            train_loss += loss.item() * imgs.shape[0]\n",
        "            train_samples += imgs.shape[0]\n",
        "            train_acc += ncorrect(scores, labels).item()\n",
        "\n",
        "            opt.zero_grad()  # clear\n",
        "            loss.backward()  # fill\n",
        "            opt.step()       # use\n",
        "\n",
        "        train_acc /= train_samples\n",
        "        train_loss /= train_samples\n",
        "\n",
        "        # ----------[ Validation loop ]---------- #\n",
        "        model.eval()\n",
        "        with torch.no_grad():\n",
        "            val_loss = 0\n",
        "            val_samples = 0\n",
        "            val_acc = 0\n",
        "\n",
        "            if val_dl is not None:\n",
        "                for val_data in val_dl:\n",
        "                    imgs = val_data[0].to(device)\n",
        "                    labels = val_data[1].to(device)\n",
        "\n",
        "                    val_scores = model(imgs)\n",
        "\n",
        "                    val_loss += F.cross_entropy(val_scores, labels).item() * imgs.shape[0]\n",
        "                    val_samples += imgs.shape[0]\n",
        "                    val_acc += ncorrect(val_scores, labels).item()\n",
        "                val_acc /= val_samples\n",
        "                val_loss /= val_samples\n",
        "\n",
        "            if val_dl is None or val_acc > best_val_acc:\n",
        "                best_val_acc = val_acc if val_dl is not None else 0\n",
        "                best_params = model.state_dict()\n",
        "                torch.save(best_params, \"best_model.pth\")\n",
        "                best_epoch = e\n",
        "\n",
        "        if verbose and e % 5 == 0:\n",
        "            print(f\"Epoch {e}: train loss {train_loss:.3f} - train acc {train_acc:.3f}\" + (\"\" if val_dl is None else f\" - valid loss {val_loss:.3f} - valid acc {val_acc:.3f}\"))\n",
        "\n",
        "    if verbose and val_dl is not None:\n",
        "        print(f\"Best epoch {best_epoch}, best acc {best_val_acc}\")\n",
        "\n",
        "    return best_val_acc, best_params, best_epoch"
      ],
      "metadata": {
        "id": "RMHsGa-kktk6"
      },
      "execution_count": null,
      "outputs": []
    },
    {
      "cell_type": "markdown",
      "source": [
        "### Train the network"
      ],
      "metadata": {
        "id": "5C_cx4r3l3X3"
      }
    },
    {
      "cell_type": "code",
      "source": [
        "epochs = 20\n",
        "\n",
        "best_val_acc, best_params, best_epoch = train_loop(\n",
        "    model,\n",
        "    train_dl,\n",
        "    epochs,\n",
        "    optimizer,\n",
        "    val_dl,\n",
        "    verbose=True\n",
        ")"
      ],
      "metadata": {
        "id": "JNNJCH0GVQ1r"
      },
      "execution_count": null,
      "outputs": []
    },
    {
      "cell_type": "markdown",
      "source": [
        "### Load the model"
      ],
      "metadata": {
        "id": "3DnMx-N8q6Vo"
      }
    },
    {
      "cell_type": "code",
      "source": [
        "# Load state dict from the disk (make sure it is the same name as above)\n",
        "state_dict = torch.load(\"best_model.pth\")\n",
        "\n",
        "# Create a new model and load the state dict\n",
        "new_model = model = SimpleClassifier(\n",
        "    input_dim,\n",
        "    hidden_dim,\n",
        "    n_classes,\n",
        "    n_hidden_layers=1\n",
        ")\n",
        "new_model.load_state_dict(state_dict)"
      ],
      "metadata": {
        "id": "pfWY1VuWq7Z4"
      },
      "execution_count": null,
      "outputs": []
    },
    {
      "cell_type": "markdown",
      "source": [
        "# Now it's your turn!"
      ],
      "metadata": {
        "id": "YX5S0oEt1pJF"
      }
    },
    {
      "cell_type": "markdown",
      "source": [
        "## Exercise 1: improve the accuracy\n",
        "\n",
        "Try to achieve a better accuracy on the validation set by modifying the previous model and manually tuning the hyper-parameters such as the number of epochs, the learning rate, and the number of hidden layers.\n",
        "\n",
        "\n",
        "Also, add [Batch Normalization](https://arxiv.org/abs/1502.03167). You can find the normalization layers already implemented in PyTorch [here](https://pytorch.org/docs/stable/nn.html#normalization-layers). Use `torch.nn.Sequential` to stack together a block with the following\n",
        "structure: FC $\\rightarrow$ BatchNorm $\\rightarrow$ Activation.\n",
        "\n",
        "You should easily get 80% accuracy on the validation set.\n"
      ],
      "metadata": {
        "id": "FXoBf9ZF4o4A"
      }
    },
    {
      "cell_type": "code",
      "source": [
        "def get_linear_bn_relu(input_dim, out_dim):\n",
        "    \"\"\"Return a Sequential module with a sandwich of Linear, Batch Norm, and ReLU.\n",
        "\n",
        "    Args:\n",
        "        input_dim: the number of input features.\n",
        "        out_dim: the number of the output features.\n",
        "\n",
        "    Returns: the created Sequential block.\n",
        "    \"\"\"\n",
        "    modules = []\n",
        "    # ==================================================================== #\n",
        "    #                         YOUR CODE STARTS HERE                        #\n",
        "    # ==================================================================== #\n",
        "\n",
        "    # ==================================================================== #\n",
        "    #                         YOUR CODE ENDS HERE                          #\n",
        "    # ==================================================================== #\n",
        "\n",
        "    return nn.Sequential(*modules)"
      ],
      "metadata": {
        "id": "J5wwRfF41r6k"
      },
      "execution_count": null,
      "outputs": []
    },
    {
      "cell_type": "code",
      "source": [
        "class SimpleClassifierBN(nn.Module):\n",
        "    def __init__(self, input_dim, hidden_dim, n_classes, n_hidden_layers=0):\n",
        "        super().__init__()\n",
        "\n",
        "        self.first = get_linear_bn_relu(input_dim, hidden_dim)\n",
        "        self.last = nn.Linear(hidden_dim, n_classes)\n",
        "\n",
        "        self.hidden_layers = nn.ModuleList([\n",
        "            get_linear_bn_relu(hidden_dim, hidden_dim) for i in range(n_hidden_layers)\n",
        "        ])\n",
        "\n",
        "    def forward(self, x):\n",
        "        x = self.first(x)\n",
        "        for layer in self.hidden_layers:\n",
        "            x = layer(x)\n",
        "        x = self.last(x)\n",
        "\n",
        "        return x"
      ],
      "metadata": {
        "id": "tH_HHQX041fR"
      },
      "execution_count": null,
      "outputs": []
    },
    {
      "cell_type": "code",
      "source": [
        "# ==================================================================== #\n",
        "#                         YOUR CODE STARTS HERE                        #\n",
        "# ==================================================================== #\n",
        "\n",
        "# ==================================================================== #\n",
        "#                         YOUR CODE ENDS HERE                          #\n",
        "# ==================================================================== #\n",
        "\n",
        "best_val_acc, best_params, best_epoch = train_loop(\n",
        "    new_model,\n",
        "    train_dl,\n",
        "    epochs,\n",
        "    optimizer,\n",
        "    val_dl,\n",
        "    verbose=True)"
      ],
      "metadata": {
        "id": "s03EO1ev5JjD"
      },
      "execution_count": null,
      "outputs": []
    },
    {
      "cell_type": "code",
      "source": [
        "new_model.load_state_dict(torch.load(\"best_model.pth\"))"
      ],
      "metadata": {
        "id": "IqtXRfKEg74z"
      },
      "execution_count": null,
      "outputs": []
    },
    {
      "cell_type": "markdown",
      "source": [
        "## Exercise 2: confusion matrix\n",
        "Compute the confusion matrix for the test set. Then, from the confusion matrix, compute the accuracy score.\n",
        "\n",
        "> **Note:** a confusion matrix $\\mathbf{C}$ is such that $\\mathbf{C}_{ij}$ is equal to the number of samples known to belong to class $i$ and predicted to belong to class $j$."
      ],
      "metadata": {
        "id": "LAwjHfGV5Zyo"
      }
    },
    {
      "cell_type": "code",
      "source": [
        "import seaborn as sn\n",
        "import pandas as pd"
      ],
      "metadata": {
        "id": "5ywZvJlmK6ui"
      },
      "execution_count": null,
      "outputs": []
    },
    {
      "cell_type": "code",
      "source": [
        "new_model.eval()\n",
        "confusion_matrix = torch.zeros(n_classes, n_classes, dtype=torch.int)\n",
        "# ==================================================================== #\n",
        "#                         YOUR CODE STARTS HERE                        #\n",
        "# ==================================================================== #\n",
        "\n",
        "# ==================================================================== #\n",
        "#                         YOUR CODE ENDS HERE                          #\n",
        "# ==================================================================== #\n",
        "print(test_acc)"
      ],
      "metadata": {
        "id": "vuGfiC3vZMzz"
      },
      "execution_count": null,
      "outputs": []
    },
    {
      "cell_type": "code",
      "source": [
        "conf_mtrx_df = pd.DataFrame(confusion_matrix)\n",
        "sn.heatmap(conf_mtrx_df, annot=True, fmt=\"d\");"
      ],
      "metadata": {
        "id": "TtbAcZVkbhZu"
      },
      "execution_count": null,
      "outputs": []
    },
    {
      "cell_type": "markdown",
      "source": [
        "## Exercise 3: nearest neighbor search\n",
        "\n",
        "Rewrite the `forward` method of the classifier class to return the feature vector produced by the network right before the classification scores.\n",
        "\n",
        "> **Note:** you don't have to retrain the model again!\n",
        "\n",
        "Then, show the three nearest neighbors in the training set for element with index 0 in the test set."
      ],
      "metadata": {
        "id": "xjVl1dHK5Z3w"
      }
    },
    {
      "cell_type": "code",
      "source": [
        "class SimpleClassifierBNv2(nn.Module):\n",
        "    def __init__(self, input_dim, hidden_dim, n_classes, n_hidden_layers=0):\n",
        "        super().__init__()\n",
        "\n",
        "        # ==================================================================== #\n",
        "        #                         YOUR CODE STARTS HERE                        #\n",
        "        # ==================================================================== #\n",
        "\n",
        "        # ==================================================================== #\n",
        "        #                         YOUR CODE ENDS HERE                          #\n",
        "        # ==================================================================== #\n",
        "\n",
        "    def forward(self, x):\n",
        "        # ==================================================================== #\n",
        "        #                         YOUR CODE STARTS HERE                        #\n",
        "        # ==================================================================== #\n",
        "\n",
        "        # ==================================================================== #\n",
        "        #                         YOUR CODE ENDS HERE                          #\n",
        "        # ==================================================================== #"
      ],
      "metadata": {
        "id": "akoEz0AdveM_"
      },
      "execution_count": null,
      "outputs": []
    },
    {
      "cell_type": "code",
      "source": [
        "state_dict = torch.load(\"best_model.pth\")\n",
        "\n",
        "new_model = SimpleClassifierBNv2(\n",
        "    input_dim,\n",
        "    hidden_dim,\n",
        "    n_classes,\n",
        "    n_hidden_layers=3\n",
        ")\n",
        "new_model.load_state_dict(state_dict)\n",
        "new_model.to(device)\n",
        "new_model.eval();"
      ],
      "metadata": {
        "id": "3teK1uxPvuoo"
      },
      "execution_count": null,
      "outputs": []
    },
    {
      "cell_type": "code",
      "source": [
        "def get_feat_vecs(model, dl):\n",
        "    feat_vecs = []\n",
        "    labels = []\n",
        "    # ==================================================================== #\n",
        "    #                         YOUR CODE STARTS HERE                        #\n",
        "    # ==================================================================== #\n",
        "\n",
        "    # ==================================================================== #\n",
        "    #                         YOUR CODE ENDS HERE                          #\n",
        "    # ==================================================================== #\n",
        "\n",
        "    return feat_vecs, labels\n",
        "\n",
        "train_dl = DataLoader(\n",
        "    train_subdset,\n",
        "    batch_size=batch_size,\n",
        "    shuffle=False  # no shuffle here\n",
        ")\n",
        "feat_vecs_train, labels_train = get_feat_vecs(new_model, train_dl)\n",
        "feat_vecs_test, labels_test = get_feat_vecs(new_model, test_dl)"
      ],
      "metadata": {
        "id": "cgknZDtH4rpf"
      },
      "execution_count": null,
      "outputs": []
    },
    {
      "cell_type": "code",
      "source": [
        "test_idx = 0\n",
        "\n",
        "# ==================================================================== #\n",
        "#                         YOUR CODE STARTS HERE                        #\n",
        "# ==================================================================== #\n",
        "\n",
        "# ==================================================================== #\n",
        "#                         YOUR CODE ENDS HERE                          #\n",
        "# ==================================================================== #"
      ],
      "metadata": {
        "id": "9oUEQ70OE5OT"
      },
      "execution_count": null,
      "outputs": []
    }
  ],
  "metadata": {
    "kernelspec": {
      "display_name": "Python 3",
      "name": "python3"
    },
    "language_info": {
      "codemirror_mode": {
        "name": "ipython",
        "version": 3
      },
      "file_extension": ".py",
      "mimetype": "text/x-python",
      "name": "python",
      "nbconvert_exporter": "python",
      "pygments_lexer": "ipython3",
      "version": "3.8.10"
    },
    "colab": {
      "provenance": [],
      "gpuType": "T4"
    },
    "accelerator": "GPU"
  },
  "nbformat": 4,
  "nbformat_minor": 0
}